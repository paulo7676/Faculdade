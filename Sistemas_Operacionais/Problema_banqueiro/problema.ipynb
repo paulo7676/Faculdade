{
 "cells": [
  {
   "cell_type": "code",
   "execution_count": 115,
   "metadata": {},
   "outputs": [
    {
     "name": "stdout",
     "output_type": "stream",
     "text": [
      "[3, 0, 2, 0, 1]\n",
      "[6, 3, 4, 2, 2]\n"
     ]
    }
   ],
   "source": [
    "#valores:\n",
    "Recursos_Existentes = [6,3,4,2,2] #vetor de recursos existentes\n",
    "\n",
    "Recursos_Compartilhados = [[1,0,1,1,1],[0,1,0,0,0],[1,1,1,0,0],[1,0,0,1,0],[0,1,0,0,0]] #matriz de alocação de recursos\n",
    "\n",
    "Recursos_pedidos = [[2,0,0,0,0],[1,0,1,0,1],[1,0,1,0,2],[3,0,1,1,1],[0,1,0,0,0]] #matriz de requisição de alocação\n",
    "\n",
    "Recursos_apos_alocacao = list.copy(Recursos_Existentes)\n",
    "\n",
    "#alocacao dos recursos\n",
    "for i in Recursos_Compartilhados:\n",
    "    for j in range(len(Recursos_Compartilhados)):\n",
    "        Recursos_apos_alocacao[j] = Recursos_apos_alocacao[j] - i[j]\n",
    "        \n",
    "print(Recursos_apos_alocacao)\n",
    "\n",
    "\n",
    "while(len(Recursos_pedidos)!= 0):\n",
    "    \n",
    "    #leitura dos array\n",
    "    for i in Recursos_pedidos:\n",
    "        possivel_liberacao = False\n",
    "        for j in range(len(i)):\n",
    "            \n",
    "            #ver se temos recursos sufientes para a situação\n",
    "            if Recursos_apos_alocacao[j] - i[j] >=0:\n",
    "                possivel_liberacao = True\n",
    "            else:\n",
    "                possivel_liberacao = False\n",
    "                break\n",
    "        \n",
    "        #devolve os recursos\n",
    "        if possivel_liberacao == True:\n",
    "            Recursos_pedidos.index(i)\n",
    "            for k in range(len(i)):\n",
    "                Recursos_apos_alocacao[k] = Recursos_apos_alocacao[k] + Recursos_Compartilhados[Recursos_pedidos.index(i)][k]\n",
    "            Recursos_Compartilhados.pop(Recursos_pedidos.index(i))\n",
    "            Recursos_pedidos.pop(Recursos_pedidos.index(i))\n",
    "\n",
    "print(Recursos_apos_alocacao)\n",
    "        "
   ]
  }
 ],
 "metadata": {
  "interpreter": {
   "hash": "916dbcbb3f70747c44a77c7bcd40155683ae19c65e1c03b4aa3499c5328201f1"
  },
  "kernelspec": {
   "display_name": "Python 3.8.10 64-bit",
   "language": "python",
   "name": "python3"
  },
  "language_info": {
   "codemirror_mode": {
    "name": "ipython",
    "version": 3
   },
   "file_extension": ".py",
   "mimetype": "text/x-python",
   "name": "python",
   "nbconvert_exporter": "python",
   "pygments_lexer": "ipython3",
   "version": "3.8.10"
  },
  "orig_nbformat": 4
 },
 "nbformat": 4,
 "nbformat_minor": 2
}
