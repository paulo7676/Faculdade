{
 "cells": [
  {
   "cell_type": "code",
   "execution_count": null,
   "metadata": {},
   "outputs": [],
   "source": [
    "Recursos_Existentes = [6,3,4,2]\n",
    "\n",
    "Recursos_Compartilhados = [[3,0,1,1],[0,1,0,0],[1,1,1,0],[1,1,0,1],[0,0,0,0]]"
   ]
  }
 ],
 "metadata": {
  "language_info": {
   "name": "python"
  },
  "orig_nbformat": 4
 },
 "nbformat": 4,
 "nbformat_minor": 2
}
