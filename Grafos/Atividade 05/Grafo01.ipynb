{
 "cells": [
  {
   "cell_type": "markdown",
   "metadata": {},
   "source": [
    "### Entrada de dados"
   ]
  },
  {
   "cell_type": "code",
   "execution_count": 2,
   "metadata": {},
   "outputs": [],
   "source": [
    "Arquivo_de_entrada = [5,[1,2],[2,5],[5,3],[4,5],[1,5]]"
   ]
  },
  {
   "cell_type": "markdown",
   "metadata": {},
   "source": [
    "### Funções"
   ]
  },
  {
   "cell_type": "code",
   "execution_count": 3,
   "metadata": {},
   "outputs": [],
   "source": [
    "#Entrada do grafo\n",
    "def csv_grafo(Entrada):\n",
    "    grafo = {}\n",
    "    for i in Entrada:\n",
    "        vizinhos = []\n",
    "\n",
    "        #Organizando o Grafo em um dict (talvez tire ou arrume)\n",
    "        if type(i) is list:\n",
    "            if i[0] and i[1] not in grafo:\n",
    "                grafo[i[0]] = [i[1]]\n",
    "                grafo[i[1]] = [i[0]]\n",
    "            elif i[0] not in grafo:\n",
    "                grafo[i[0]] = [i[1]]\n",
    "                grafo[i[1]].append(i[0])\n",
    "            elif i[1] not in grafo:\n",
    "                grafo[i[0]].append(i[1])\n",
    "                grafo[i[1]] = [i[0]]\n",
    "            else:\n",
    "                grafo[i[0]].append(i[1])\n",
    "                grafo[i[1]].append(i[0])\n",
    "    return grafo"
   ]
  },
  {
   "cell_type": "code",
   "execution_count": 4,
   "metadata": {},
   "outputs": [],
   "source": [
    "import networkx as nx\n",
    "import random\n",
    "\n",
    "#Desenhar o grafo baseado na entrada de um vertice\n",
    "def hierarchy_pos(G, root=None, width=1., vert_gap = 0.2, vert_loc = 0, xcenter = 0.5):\n",
    "\n",
    "    if not nx.is_tree(G):\n",
    "        raise TypeError('cannot use hierarchy_pos on a graph that is not a tree')\n",
    "\n",
    "    if root is None:\n",
    "        if isinstance(G, nx.DiGraph):\n",
    "            root = next(iter(nx.topological_sort(G)))  #allows back compatibility with nx version 1.11\n",
    "        else:\n",
    "            root = random.choice(list(G.nodes))\n",
    "\n",
    "    def _hierarchy_pos(G, root, width=1., vert_gap = 0.2, vert_loc = 0, xcenter = 0.5, pos = None, parent = None):\n",
    "    \n",
    "        if pos is None:\n",
    "            pos = {root:(xcenter,vert_loc)}\n",
    "        else:\n",
    "            pos[root] = (xcenter, vert_loc)\n",
    "        children = list(G.neighbors(root))\n",
    "        if not isinstance(G, nx.DiGraph) and parent is not None:\n",
    "            children.remove(parent)  \n",
    "        if len(children)!=0:\n",
    "            dx = width/len(children) \n",
    "            nextx = xcenter - width/2 - dx/2\n",
    "            for child in children:\n",
    "                nextx += dx\n",
    "                pos = _hierarchy_pos(G,child, width = dx, vert_gap = vert_gap, \n",
    "                                    vert_loc = vert_loc-vert_gap, xcenter=nextx,\n",
    "                                    pos=pos, parent = root)\n",
    "        return pos\n",
    "\n",
    "            \n",
    "    return _hierarchy_pos(G, root, width, vert_gap, vert_loc, xcenter)"
   ]
  },
  {
   "cell_type": "code",
   "execution_count": 15,
   "metadata": {},
   "outputs": [],
   "source": [
    "import networkx as nx\n",
    "\n",
    "def Arvore(Vetice,Entrada):\n",
    "    #Salvando os vertices ja descobertos(suas camadas)\n",
    "    vetices_descobertos = []\n",
    "    G = nx.DiGraph()\n",
    "    G.add_node(Vetice)\n",
    "    vetices_descobertos.append(Vetice)\n",
    "\n",
    "    \n",
    "    #definindo o primeiro vertice\n",
    "    for i in Entrada[Vetice]:\n",
    "            #Adicionando suas arestas\n",
    "            G.add_edge(Vetice, i)\n",
    "            vetices_descobertos.append(i)\n",
    "    #ver se um vertice ja foi descoberto\n",
    "    for i in Entrada:\n",
    "        for j in Entrada[i]:\n",
    "            if i and j not in vetices_descobertos:\n",
    "                G.add_edge(i, j)\n",
    "\n",
    "    #print(G.edges)\n",
    "    Distancia(G)\n",
    "    return G.edges\n",
    "    #nx.spring_layout(G, k=0.15)\n",
    "    #nx.draw(G, with_labels=True)"
   ]
  },
  {
   "cell_type": "code",
   "execution_count": 16,
   "metadata": {},
   "outputs": [],
   "source": [
    "#distancia dos vertices\n",
    "def Distancia(G):\n",
    "    #Cria uma lista com os vértices que formam as arestas\n",
    "    tuplas = list(G.edges)\n",
    "\n",
    "    #Pega tamanho dessa lista\n",
    "    tamanho = len(tuplas)\n",
    "    \n",
    "    #Define contador\n",
    "    contador = 1\n",
    "\n",
    "    #Inicializador do while\n",
    "    i = 0\n",
    "\n",
    "    #Enquanto o tamanho da lista não for 0 ele percorre a lista\n",
    "    while i < tamanho:\n",
    "        #Quando o primeiro vértice da tupla for igual ao vértice inicial ele sempre terá caminho 1\n",
    "        if tuplas[tamanho-1][0] == tuplas[0][0]:\n",
    "            contador = 1\n",
    "            print(\"O vértice:\", tuplas[tamanho-1][1], \"tem distância de\", contador, \"do vértice raíz\")\n",
    "\n",
    "        #Senão, quando o primeiro vértice da tupla é diferente do vértice inicial o contador aumenta\n",
    "        else:\n",
    "            contador = contador + 1\n",
    "            print(\"O vértice:\", tuplas[tamanho-1][1], \"tem distância de\", contador,\"do vértice raíz\")\n",
    "        tamanho = tamanho - 1"
   ]
  },
  {
   "cell_type": "code",
   "execution_count": 17,
   "metadata": {},
   "outputs": [
    {
     "data": {
      "text/plain": [
       "{1: [2, 5], 2: [5], 5: [3, 4, 1], 3: [5], 4: [5]}"
      ]
     },
     "execution_count": 17,
     "metadata": {},
     "output_type": "execute_result"
    }
   ],
   "source": [
    "Grafo_Organizado = csv_grafo(Arquivo_de_entrada)\n",
    "Grafo_Organizado"
   ]
  },
  {
   "cell_type": "code",
   "execution_count": 19,
   "metadata": {},
   "outputs": [
    {
     "name": "stdout",
     "output_type": "stream",
     "text": [
      "O vértice: 2 tem distância de 2 do vértice raíz\n",
      "O vértice: 1 tem distância de 1 do vértice raíz\n",
      "O vértice: 4 tem distância de 1 do vértice raíz\n",
      "O vértice: 3 tem distância de 1 do vértice raíz\n"
     ]
    },
    {
     "data": {
      "text/plain": [
       "OutEdgeView([(5, 3), (5, 4), (5, 1), (1, 2)])"
      ]
     },
     "execution_count": 19,
     "metadata": {},
     "output_type": "execute_result"
    }
   ],
   "source": [
    "Grafo = Arvore(5,Grafo_Organizado)\n",
    "Grafo"
   ]
  },
  {
   "cell_type": "code",
   "execution_count": 20,
   "metadata": {},
   "outputs": [
    {
     "name": "stdout",
     "output_type": "stream",
     "text": [
      "O vértice: 2 tem distância de 2 do vértice raíz\n",
      "O vértice: 1 tem distância de 3 do vértice raíz\n",
      "O vértice: 4 tem distância de 4 do vértice raíz\n",
      "O vértice: 5 tem distância de 1 do vértice raíz\n"
     ]
    },
    {
     "data": {
      "image/png": "[encoded data removed]",
      "text/plain": [
       "<Figure size 432x288 with 1 Axes>"
      ]
     },
     "metadata": {},
     "output_type": "display_data"
    }
   ],
   "source": [
    "import matplotlib.pyplot as plt\n",
    "import networkx as nx\n",
    "G=nx.Graph()\n",
    "\n",
    "vertice_desejado = 3\n",
    "\n",
    "G.add_edges_from(Arvore(vertice_desejado,Grafo_Organizado))\n",
    "pos = hierarchy_pos(G,vertice_desejado)    \n",
    "nx.draw(G, pos=pos, with_labels=True)"
   ]
  }
 ],
 "metadata": {
  "interpreter": {
   "hash": "2be5faf79681da6f2a61fdfdd5405d65d042280f7fba6178067603e3a2925119"
  },
  "kernelspec": {
   "display_name": "Python 3.10.0 64-bit",
   "language": "python",
   "name": "python3"
  },
  "language_info": {
   "codemirror_mode": {
    "name": "ipython",
    "version": 3
   },
   "file_extension": ".py",
   "mimetype": "text/x-python",
   "name": "python",
   "nbconvert_exporter": "python",
   "pygments_lexer": "ipython3",
   "version": "3.10.0"
  },
  "orig_nbformat": 4
 },
 "nbformat": 4,
 "nbformat_minor": 2
}
