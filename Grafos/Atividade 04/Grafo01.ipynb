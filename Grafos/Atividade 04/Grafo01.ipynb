{
 "cells": [
  {
   "cell_type": "code",
   "execution_count": 82,
   "metadata": {},
   "outputs": [],
   "source": [
    "Arquivo_de_entrada = [5,[1,2],[2,5],[5,3],[4,5],[1,5]]"
   ]
  },
  {
   "cell_type": "code",
   "execution_count": 120,
   "metadata": {},
   "outputs": [],
   "source": [
    "def csv_grafo(Entrada):\n",
    "    grafo = {}\n",
    "    for i in Entrada:\n",
    "        vizinhos = []\n",
    "        #if type(i) is int:\n",
    "        #    grafo[vertice] = []\n",
    "        #el\n",
    "        if type(i) is list:\n",
    "            if i[0] and i[1] not in grafo:\n",
    "                grafo[i[0]] = [i[1]]\n",
    "                grafo[i[1]] = [i[0]]\n",
    "            elif i[0] not in grafo:\n",
    "                grafo[i[0]] = [i[1]]\n",
    "                grafo[i[1]].append(i[0])\n",
    "            elif i[1] not in grafo:\n",
    "                grafo[i[1]] = [i[0]]\n",
    "                grafo[i[0]].append(i[1])\n",
    "            else:\n",
    "                grafo[i[0]].append(i[1])\n",
    "                grafo[i[1]].append(i[0])\n",
    "    return grafo"
   ]
  },
  {
   "cell_type": "code",
   "execution_count": 121,
   "metadata": {},
   "outputs": [
    {
     "data": {
      "text/plain": [
       "{1: [2, 5], 2: [5], 5: [3, 4, 1], 3: [5], 4: [5]}"
      ]
     },
     "execution_count": 121,
     "metadata": {},
     "output_type": "execute_result"
    }
   ],
   "source": [
    "a = csv_grafo(Arquivo_de_entrada)\n",
    "a"
   ]
  },
  {
   "cell_type": "code",
   "execution_count": 135,
   "metadata": {},
   "outputs": [],
   "source": [
    "import copy\n",
    "\n",
    "def percorrer(Vertice,Grafo):\n",
    "    grafo = copy.deepcopy(Grafo)\n",
    "    Arvore = {}\n",
    "    vertices_descobertos = []\n",
    "\n",
    "    while(len(grafo) > 0):\n",
    "\n",
    "        ramos = []\n",
    "\n",
    "        for i in Grafo[Vertice]:\n",
    "            if i not in vertices_descobertos:\n",
    "                ramos.append(i)\n",
    "                vertices_descobertos.append(i)\n",
    "            print(vertices_descobertos)\n",
    "        Vertice\n",
    "        break\n",
    "        "
   ]
  },
  {
   "cell_type": "code",
   "execution_count": 136,
   "metadata": {},
   "outputs": [
    {
     "name": "stdout",
     "output_type": "stream",
     "text": [
      "[2]\n",
      "[2, 5]\n"
     ]
    }
   ],
   "source": [
    "b = percorrer(1,a)\n",
    "b"
   ]
  }
 ],
 "metadata": {
  "interpreter": {
   "hash": "2be5faf79681da6f2a61fdfdd5405d65d042280f7fba6178067603e3a2925119"
  },
  "kernelspec": {
   "display_name": "Python 3.10.0 64-bit",
   "language": "python",
   "name": "python3"
  },
  "language_info": {
   "codemirror_mode": {
    "name": "ipython",
    "version": 3
   },
   "file_extension": ".py",
   "mimetype": "text/x-python",
   "name": "python",
   "nbconvert_exporter": "python",
   "pygments_lexer": "ipython3",
   "version": "3.10.0"
  },
  "orig_nbformat": 4
 },
 "nbformat": 4,
 "nbformat_minor": 2
}
