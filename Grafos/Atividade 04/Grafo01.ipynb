{
 "cells": [
  {
   "cell_type": "markdown",
   "metadata": {},
   "source": [
    "### Entrada de dados"
   ]
  },
  {
   "cell_type": "code",
   "execution_count": 79,
   "metadata": {},
   "outputs": [],
   "source": [
    "Arquivo_de_entrada = [5,[1,2],[2,5],[5,3],[4,5],[1,5]]"
   ]
  },
  {
   "cell_type": "markdown",
   "metadata": {},
   "source": [
    "### Funções"
   ]
  },
  {
   "cell_type": "code",
   "execution_count": 73,
   "metadata": {},
   "outputs": [],
   "source": [
    "def csv_grafo(Entrada):\n",
    "    grafo = {}\n",
    "    for i in Entrada:\n",
    "        vizinhos = []\n",
    "\n",
    "        #Organizando o Grafo em um dict (talvez tire ou arrume)\n",
    "        if type(i) is list:\n",
    "            if i[0] and i[1] not in grafo:\n",
    "                grafo[i[0]] = [i[1]]\n",
    "                grafo[i[1]] = [i[0]]\n",
    "            elif i[0] not in grafo:\n",
    "                grafo[i[0]] = [i[1]]\n",
    "                grafo[i[1]].append(i[0])\n",
    "            elif i[1] not in grafo:\n",
    "                grafo[i[0]].append(i[1])\n",
    "                grafo[i[1]] = [i[0]]\n",
    "            else:\n",
    "                grafo[i[0]].append(i[1])\n",
    "                grafo[i[1]].append(i[0])\n",
    "    return grafo"
   ]
  },
  {
   "cell_type": "code",
   "execution_count": 74,
   "metadata": {},
   "outputs": [
    {
     "data": {
      "text/plain": [
       "{1: [2, 5], 2: [5], 5: [3, 4, 1], 3: [5], 4: [5]}"
      ]
     },
     "execution_count": 74,
     "metadata": {},
     "output_type": "execute_result"
    }
   ],
   "source": [
    "Grafo_Organizado = csv_grafo(Arquivo_de_entrada)\n",
    "Grafo_Organizado"
   ]
  },
  {
   "cell_type": "code",
   "execution_count": 75,
   "metadata": {},
   "outputs": [],
   "source": [
    "import networkx as nx\n",
    "\n",
    "def Arvore(Vetice,Entrada):\n",
    "    #Salvando os vertices ja descobertos(suas camadas)\n",
    "    vetices_descobertos = []\n",
    "    G = nx.DiGraph()\n",
    "    \n",
    "    G.add_node(Vetice)\n",
    "    vetices_descobertos.append(Vetice)\n",
    "    for i in Entrada[Vetice]:\n",
    "            #Adicionando suas arestas\n",
    "            G.add_edge(Vetice, i)\n",
    "            vetices_descobertos.append(i)\n",
    "\n",
    "    #ver se um vertice ja foi descoberto\n",
    "    for i in Entrada:\n",
    "        for j in Entrada[i]:\n",
    "            if i and j not in vetices_descobertos:\n",
    "                G.add_edge(i, j)\n",
    "\n",
    "    nx.spring_layout(G, k=0.15)\n",
    "    nx.draw(G, with_labels=True)"
   ]
  },
  {
   "cell_type": "code",
   "execution_count": 81,
   "metadata": {},
   "outputs": [
    {
     "data": {
      "image/png": "[encoded data removed]",
      "text/plain": [
       "<Figure size 432x288 with 1 Axes>"
      ]
     },
     "metadata": {},
     "output_type": "display_data"
    }
   ],
   "source": [
    "Arvore(1,Grafo_Organizado)"
   ]
  }
 ],
 "metadata": {
  "interpreter": {
   "hash": "2be5faf79681da6f2a61fdfdd5405d65d042280f7fba6178067603e3a2925119"
  },
  "kernelspec": {
   "display_name": "Python 3.10.0 64-bit",
   "language": "python",
   "name": "python3"
  },
  "language_info": {
   "codemirror_mode": {
    "name": "ipython",
    "version": 3
   },
   "file_extension": ".py",
   "mimetype": "text/x-python",
   "name": "python",
   "nbconvert_exporter": "python",
   "pygments_lexer": "ipython3",
   "version": "3.10.0"
  },
  "orig_nbformat": 4
 },
 "nbformat": 4,
 "nbformat_minor": 2
}
