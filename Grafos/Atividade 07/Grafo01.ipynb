{
 "cells": [
  {
   "cell_type": "markdown",
   "metadata": {},
   "source": [
    "### Entrada de dados"
   ]
  },
  {
   "cell_type": "code",
   "execution_count": 280,
   "metadata": {},
   "outputs": [
    {
     "data": {
      "text/html": [
       "<div>\n",
       "<style scoped>\n",
       "    .dataframe tbody tr th:only-of-type {\n",
       "        vertical-align: middle;\n",
       "    }\n",
       "\n",
       "    .dataframe tbody tr th {\n",
       "        vertical-align: top;\n",
       "    }\n",
       "\n",
       "    .dataframe thead th {\n",
       "        text-align: right;\n",
       "    }\n",
       "</style>\n",
       "<table border=\"1\" class=\"dataframe\">\n",
       "  <thead>\n",
       "    <tr style=\"text-align: right;\">\n",
       "      <th></th>\n",
       "      <th>Inicio</th>\n",
       "      <th>Fim</th>\n",
       "      <th>Peso</th>\n",
       "    </tr>\n",
       "  </thead>\n",
       "  <tbody>\n",
       "    <tr>\n",
       "      <th>0</th>\n",
       "      <td>A</td>\n",
       "      <td>B</td>\n",
       "      <td>5</td>\n",
       "    </tr>\n",
       "    <tr>\n",
       "      <th>1</th>\n",
       "      <td>A</td>\n",
       "      <td>C</td>\n",
       "      <td>7</td>\n",
       "    </tr>\n",
       "    <tr>\n",
       "      <th>2</th>\n",
       "      <td>A</td>\n",
       "      <td>D</td>\n",
       "      <td>1</td>\n",
       "    </tr>\n",
       "    <tr>\n",
       "      <th>3</th>\n",
       "      <td>B</td>\n",
       "      <td>C</td>\n",
       "      <td>2</td>\n",
       "    </tr>\n",
       "    <tr>\n",
       "      <th>4</th>\n",
       "      <td>C</td>\n",
       "      <td>D</td>\n",
       "      <td>6</td>\n",
       "    </tr>\n",
       "    <tr>\n",
       "      <th>5</th>\n",
       "      <td>C</td>\n",
       "      <td>E</td>\n",
       "      <td>5</td>\n",
       "    </tr>\n",
       "    <tr>\n",
       "      <th>6</th>\n",
       "      <td>D</td>\n",
       "      <td>B</td>\n",
       "      <td>3</td>\n",
       "    </tr>\n",
       "    <tr>\n",
       "      <th>7</th>\n",
       "      <td>D</td>\n",
       "      <td>F</td>\n",
       "      <td>5</td>\n",
       "    </tr>\n",
       "    <tr>\n",
       "      <th>8</th>\n",
       "      <td>D</td>\n",
       "      <td>G</td>\n",
       "      <td>3</td>\n",
       "    </tr>\n",
       "    <tr>\n",
       "      <th>9</th>\n",
       "      <td>E</td>\n",
       "      <td>F</td>\n",
       "      <td>4</td>\n",
       "    </tr>\n",
       "    <tr>\n",
       "      <th>10</th>\n",
       "      <td>F</td>\n",
       "      <td>C</td>\n",
       "      <td>1</td>\n",
       "    </tr>\n",
       "    <tr>\n",
       "      <th>11</th>\n",
       "      <td>G</td>\n",
       "      <td>E</td>\n",
       "      <td>1</td>\n",
       "    </tr>\n",
       "  </tbody>\n",
       "</table>\n",
       "</div>"
      ],
      "text/plain": [
       "   Inicio Fim  Peso\n",
       "0       A   B     5\n",
       "1       A   C     7\n",
       "2       A   D     1\n",
       "3       B   C     2\n",
       "4       C   D     6\n",
       "5       C   E     5\n",
       "6       D   B     3\n",
       "7       D   F     5\n",
       "8       D   G     3\n",
       "9       E   F     4\n",
       "10      F   C     1\n",
       "11      G   E     1"
      ]
     },
     "execution_count": 280,
     "metadata": {},
     "output_type": "execute_result"
    }
   ],
   "source": [
    "import pandas as pd\n",
    "import numpy as np\n",
    "\n",
    "data = pd.read_csv(\"edges1.csv\",names=[\"Inicio\", \"Fim\", \"Peso\"], encoding = \"ISO-8859-1\")\n",
    "data"
   ]
  },
  {
   "cell_type": "code",
   "execution_count": null,
   "metadata": {},
   "outputs": [],
   "source": []
  },
  {
   "cell_type": "code",
   "execution_count": 14,
   "metadata": {},
   "outputs": [],
   "source": [
    "for i in range(len(data[\"Inicio\"])):\n",
    "    G = nx.Graph()\n",
    "    G.add_edge(data[\"Inicio\"][i], data[\"Fim\"][i], weight=data[\"Peso\"][i])"
   ]
  },
  {
   "cell_type": "code",
   "execution_count": 72,
   "metadata": {},
   "outputs": [
    {
     "data": {
      "image/png": "[encoded data removed]",
      "text/plain": [
       "<Figure size 432x288 with 1 Axes>"
      ]
     },
     "metadata": {},
     "output_type": "display_data"
    }
   ],
   "source": [
    "import networkx as nx\n",
    "import pylab\n",
    "\n",
    "\n",
    "def plot(Grafo):\n",
    "    G = nx.Graph()\n",
    "    for i in range(len(Grafo[\"Inicio\"])):\n",
    "        G.add_edge(Grafo[\"Inicio\"][i], Grafo[\"Fim\"][i], weight=Grafo[\"Peso\"][i])\n",
    "\n",
    "    pos=nx.spring_layout(G)\n",
    "    nx.draw_networkx(G,pos, arrows=True) #, arrows=True\n",
    "    labels = nx.get_edge_attributes(G,'weight')\n",
    "    nx.draw_networkx_edge_labels(G,pos,edge_labels=labels)\n",
    "    pylab.show()\n",
    "    return G\n",
    "retorno = plot(data)"
   ]
  },
  {
   "cell_type": "code",
   "execution_count": null,
   "metadata": {},
   "outputs": [],
   "source": []
  },
  {
   "cell_type": "code",
   "execution_count": 282,
   "metadata": {},
   "outputs": [
    {
     "data": {
      "text/plain": [
       "{('A', 'B'): 5,\n",
       " ('A', 'C'): 7,\n",
       " ('A', 'D'): 1,\n",
       " ('B', 'C'): 2,\n",
       " ('C', 'D'): 6,\n",
       " ('C', 'E'): 5,\n",
       " ('D', 'B'): 3,\n",
       " ('D', 'F'): 5,\n",
       " ('D', 'G'): 3,\n",
       " ('E', 'F'): 4,\n",
       " ('F', 'C'): 1,\n",
       " ('G', 'E'): 1}"
      ]
     },
     "execution_count": 282,
     "metadata": {},
     "output_type": "execute_result"
    }
   ],
   "source": [
    "N = {}\n",
    "vertices = []\n",
    "for i in range(len(data[\"Inicio\"])):\n",
    "    if data[\"Inicio\"][i] not in vertices:\n",
    "        vertices.append(data[\"Inicio\"][i])\n",
    "    N[(data[\"Inicio\"][i],data[\"Fim\"][i])] = data[\"Peso\"][i]\n",
    "N"
   ]
  },
  {
   "cell_type": "code",
   "execution_count": 279,
   "metadata": {},
   "outputs": [
    {
     "name": "stdout",
     "output_type": "stream",
     "text": [
      "inf\n",
      "[[1, 'a'], [5, 'f'], [14, 'm'], [inf, 'm'], [inf, 'm'], [inf, 'm'], [inf, 'm'], [inf, 'm'], [inf, 'm'], [inf, 'm'], [inf, 'm'], [inf, 'm']]\n"
     ]
    }
   ],
   "source": [
    "vertice_atual = \"a\"\n",
    "vertice_anterior = -1\n",
    "caminhos = []\n",
    "vertices_ = []\n",
    "while len(caminhos) < len(vertices):\n",
    "    aux = np.Inf\n",
    "    for i in N:\n",
    "        if vertice_atual == i[0]:\n",
    "            if N[i] < aux:\n",
    "                aux = N[i]\n",
    "                vertice_atual_novo = i\n",
    "                \n",
    "    vertice_atual = vertice_atual_novo[1]\n",
    "    if len(caminhos) == 0:\n",
    "        caminhos.append([aux,vertice_atual_novo[0]])\n",
    "    else:\n",
    "        aux += caminhos[len(caminhos)-1][0]\n",
    "        caminhos.append([aux,vertice_atual_novo[0]])\n",
    "print(aux)\n",
    "print(caminhos)"
   ]
  },
  {
   "cell_type": "code",
   "execution_count": 286,
   "metadata": {},
   "outputs": [
    {
     "data": {
      "text/plain": [
       "{('A', 'B'): 5,\n",
       " ('A', 'C'): 7,\n",
       " ('A', 'D'): 1,\n",
       " ('B', 'C'): 2,\n",
       " ('C', 'D'): 6,\n",
       " ('C', 'E'): 5,\n",
       " ('D', 'B'): 3,\n",
       " ('D', 'F'): 5,\n",
       " ('D', 'G'): 3,\n",
       " ('E', 'F'): 4,\n",
       " ('F', 'C'): 1,\n",
       " ('G', 'E'): 1}"
      ]
     },
     "execution_count": 286,
     "metadata": {},
     "output_type": "execute_result"
    }
   ],
   "source": [
    "N = {}\n",
    "vertices = []\n",
    "for i in range(len(data[\"Inicio\"])):\n",
    "    if data[\"Inicio\"][i] not in vertices:\n",
    "        vertices.append(data[\"Inicio\"][i])\n",
    "    N[(data[\"Inicio\"][i],data[\"Fim\"][i])] = data[\"Peso\"][i]\n",
    "N"
   ]
  },
  {
   "cell_type": "code",
   "execution_count": 300,
   "metadata": {},
   "outputs": [
    {
     "name": "stdout",
     "output_type": "stream",
     "text": [
      "{'A': ['A', 0], 'B': ['', inf], 'C': ['', inf], 'D': ['', inf], 'E': ['', inf], 'F': ['', inf], 'G': ['', inf]}\n",
      "{'A': ['A', 0], 'B': ['A', 5], 'C': ['A', 7], 'D': ['A', 1], 'E': ['', inf], 'F': ['', inf], 'G': ['', inf]}\n",
      "{'A': ['A', 0], 'B': ['D', 4], 'C': ['A', 7], 'D': ['A', 1], 'E': ['', inf], 'F': ['D', 6], 'G': ['D', 4]}\n",
      "{'A': ['A', 0], 'B': ['D', 4], 'C': ['A', 7], 'D': ['A', 1], 'E': ['G', 5], 'F': ['D', 6], 'G': ['D', 4]}\n",
      "{'A': ['A', 0], 'B': ['D', 4], 'C': ['A', 7], 'D': ['A', 1], 'E': ['G', 5], 'F': ['D', 6], 'G': ['D', 4]}\n",
      "{'A': ['A', 0], 'B': ['D', 4], 'C': ['A', 7], 'D': ['A', 1], 'E': ['G', 5], 'F': ['D', 6], 'G': ['D', 4]}\n",
      "{'A': ['A', 0], 'B': ['D', 4], 'C': ['A', 7], 'D': ['A', 1], 'E': ['G', 5], 'F': ['D', 6], 'G': ['D', 4]}\n",
      "{'A': ['A', 0], 'B': ['D', 4], 'C': ['A', 7], 'D': ['A', 1], 'E': ['G', 5], 'F': ['D', 6], 'G': ['D', 4]}\n",
      "{'A': ['A', 0], 'B': ['D', 4], 'C': ['A', 7], 'D': ['A', 1], 'E': ['G', 5], 'F': ['D', 6], 'G': ['D', 4]}\n",
      "{'A': ['A', 0], 'B': ['D', 4], 'C': ['A', 7], 'D': ['A', 1], 'E': ['G', 5], 'F': ['D', 6], 'G': ['D', 4]}\n",
      "{'A': ['A', 0], 'B': ['D', 4], 'C': ['A', 7], 'D': ['A', 1], 'E': ['G', 5], 'F': ['D', 6], 'G': ['D', 4]}\n",
      "{'A': ['A', 0], 'B': ['D', 4], 'C': ['A', 7], 'D': ['A', 1], 'E': ['G', 5], 'F': ['D', 6], 'G': ['D', 4]}\n",
      "{'A': ['A', 0], 'B': ['D', 4], 'C': ['A', 7], 'D': ['A', 1], 'E': ['G', 5], 'F': ['D', 6], 'G': ['D', 4]}\n"
     ]
    }
   ],
   "source": [
    "vertice_atual = \"A\"\n",
    "vertice_inicial = vertice_atual\n",
    "vertice_anterior = -1\n",
    "caminhos = {}\n",
    "\n",
    "for i in vertices:\n",
    "    if i != vertice_atual:\n",
    "        caminhos[i] = [\"\",np.inf]\n",
    "    else:\n",
    "        caminhos[i] = [i,0]\n",
    "\n",
    "print(caminhos)\n",
    "\n",
    "count = 0\n",
    "while True:\n",
    "    for i in N:\n",
    "        if vertice_atual == i[0]:\n",
    "            #se o valor guardado\n",
    "            if N[i] < caminhos[i[1]][1]:\n",
    "                #valor_aux = caminhos[i[0]]  \n",
    "\n",
    "                caminhos[i[1]] = [i[0],N[i]+caminhos[i[0]][1]]\n",
    "    aux = np.inf\n",
    "    for i in caminhos:\n",
    "        if caminhos[i][1] < aux:\n",
    "            vertice_atual = i  \n",
    "    print(caminhos) \n",
    "    if count != 100:\n",
    "        count += 1\n",
    "    else:\n",
    "        break\n",
    "print(caminhos)              "
   ]
  }
 ],
 "metadata": {
  "interpreter": {
   "hash": "2be5faf79681da6f2a61fdfdd5405d65d042280f7fba6178067603e3a2925119"
  },
  "kernelspec": {
   "display_name": "Python 3.10.0 64-bit",
   "language": "python",
   "name": "python3"
  },
  "language_info": {
   "codemirror_mode": {
    "name": "ipython",
    "version": 3
   },
   "file_extension": ".py",
   "mimetype": "text/x-python",
   "name": "python",
   "nbconvert_exporter": "python",
   "pygments_lexer": "ipython3",
   "version": "3.10.0"
  },
  "orig_nbformat": 4
 },
 "nbformat": 4,
 "nbformat_minor": 2
}
