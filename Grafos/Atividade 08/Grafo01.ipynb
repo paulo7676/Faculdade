{
 "cells": [
  {
   "cell_type": "markdown",
   "metadata": {},
   "source": [
    "### Entrada de dados"
   ]
  },
  {
   "cell_type": "code",
   "execution_count": 109,
   "metadata": {},
   "outputs": [
    {
     "data": {
      "text/html": [
       "<div>\n",
       "<style scoped>\n",
       "    .dataframe tbody tr th:only-of-type {\n",
       "        vertical-align: middle;\n",
       "    }\n",
       "\n",
       "    .dataframe tbody tr th {\n",
       "        vertical-align: top;\n",
       "    }\n",
       "\n",
       "    .dataframe thead th {\n",
       "        text-align: right;\n",
       "    }\n",
       "</style>\n",
       "<table border=\"1\" class=\"dataframe\">\n",
       "  <thead>\n",
       "    <tr style=\"text-align: right;\">\n",
       "      <th></th>\n",
       "      <th>Origem</th>\n",
       "      <th>Destino</th>\n",
       "      <th>Peso</th>\n",
       "    </tr>\n",
       "  </thead>\n",
       "  <tbody>\n",
       "    <tr>\n",
       "      <th>0</th>\n",
       "      <td>s</td>\n",
       "      <td>t</td>\n",
       "      <td>6</td>\n",
       "    </tr>\n",
       "    <tr>\n",
       "      <th>1</th>\n",
       "      <td>s</td>\n",
       "      <td>y</td>\n",
       "      <td>7</td>\n",
       "    </tr>\n",
       "    <tr>\n",
       "      <th>2</th>\n",
       "      <td>t</td>\n",
       "      <td>y</td>\n",
       "      <td>8</td>\n",
       "    </tr>\n",
       "    <tr>\n",
       "      <th>3</th>\n",
       "      <td>t</td>\n",
       "      <td>x</td>\n",
       "      <td>5</td>\n",
       "    </tr>\n",
       "    <tr>\n",
       "      <th>4</th>\n",
       "      <td>t</td>\n",
       "      <td>z</td>\n",
       "      <td>-4</td>\n",
       "    </tr>\n",
       "    <tr>\n",
       "      <th>5</th>\n",
       "      <td>x</td>\n",
       "      <td>t</td>\n",
       "      <td>-2</td>\n",
       "    </tr>\n",
       "    <tr>\n",
       "      <th>6</th>\n",
       "      <td>y</td>\n",
       "      <td>x</td>\n",
       "      <td>-3</td>\n",
       "    </tr>\n",
       "    <tr>\n",
       "      <th>7</th>\n",
       "      <td>y</td>\n",
       "      <td>z</td>\n",
       "      <td>9</td>\n",
       "    </tr>\n",
       "    <tr>\n",
       "      <th>8</th>\n",
       "      <td>z</td>\n",
       "      <td>x</td>\n",
       "      <td>7</td>\n",
       "    </tr>\n",
       "    <tr>\n",
       "      <th>9</th>\n",
       "      <td>z</td>\n",
       "      <td>s</td>\n",
       "      <td>2</td>\n",
       "    </tr>\n",
       "  </tbody>\n",
       "</table>\n",
       "</div>"
      ],
      "text/plain": [
       "  Origem Destino  Peso\n",
       "0      s       t     6\n",
       "1      s       y     7\n",
       "2      t       y     8\n",
       "3      t       x     5\n",
       "4      t       z    -4\n",
       "5      x       t    -2\n",
       "6      y       x    -3\n",
       "7      y       z     9\n",
       "8      z       x     7\n",
       "9      z       s     2"
      ]
     },
     "execution_count": 109,
     "metadata": {},
     "output_type": "execute_result"
    }
   ],
   "source": [
    "import pandas as pd\n",
    "import numpy as np\n",
    "import networkx as nx\n",
    "import pylab\n",
    "\n",
    "data = pd.read_csv(\"edges1_.csv\",names=[\"Origem\", \"Destino\", \"Peso\"], encoding = \"ISO-8859-1\")\n",
    "data"
   ]
  },
  {
   "cell_type": "markdown",
   "metadata": {},
   "source": [
    "# Algoritmo de Bellman-Ford"
   ]
  },
  {
   "cell_type": "code",
   "execution_count": 95,
   "metadata": {},
   "outputs": [],
   "source": [
    "N = {}\n",
    "vertices = []\n",
    "for i in range(len(data[\"Inicio\"])):\n",
    "    if data[\"Inicio\"][i] not in vertices:\n",
    "        vertices.append(data[\"Inicio\"][i])\n",
    "    N[(data[\"Inicio\"][i],data[\"Fim\"][i])] = data[\"Peso\"][i]\n",
    "\n",
    "todos_vertices = []\n",
    "vertices_encontraveis = []\n",
    "\n",
    "for i in N:\n",
    "    if i[0] not in todos_vertices:\n",
    "        todos_vertices.append(i[0])\n",
    "    if i[1] not in todos_vertices:\n",
    "        todos_vertices.append(i[1])\n",
    "    if i[1] not in vertices_encontraveis:\n",
    "        vertices_encontraveis.append(i[1])\n",
    "vertices_encontraveis\n",
    "todos_vertices = sorted(todos_vertices)"
   ]
  },
  {
   "cell_type": "code",
   "execution_count": 96,
   "metadata": {},
   "outputs": [
    {
     "data": {
      "text/plain": [
       "{('s', 't'): 6,\n",
       " ('s', 'y'): 7,\n",
       " ('t', 'y'): 8,\n",
       " ('t', 'x'): 5,\n",
       " ('t', 'z'): -4,\n",
       " ('x', 't'): -2,\n",
       " ('y', 'x'): -3,\n",
       " ('y', 'z'): 9,\n",
       " ('z', 'x'): 7,\n",
       " ('z', 's'): 2}"
      ]
     },
     "execution_count": 96,
     "metadata": {},
     "output_type": "execute_result"
    }
   ],
   "source": [
    "N"
   ]
  },
  {
   "cell_type": "code",
   "execution_count": 100,
   "metadata": {},
   "outputs": [
    {
     "name": "stdout",
     "output_type": "stream",
     "text": [
      "{'s': ['', 0], 't': ['', inf], 'x': ['', inf], 'y': ['', inf], 'z': ['', inf]}\n",
      "{'s': ['', 0], 't': ['s', 6], 'x': ['', inf], 'y': ['s', 7], 'z': ['', inf]}\n",
      "['s']\n",
      "['s', 't', 'y']\n"
     ]
    }
   ],
   "source": [
    "# s - t - z - x - t\n",
    "# s - y -   \n",
    "\n",
    "vertice_atual = 's'\n",
    "caminhos = {}\n",
    "vertices_passados = []\n",
    "vertices_encontraveis = []\n",
    "\n",
    "for i in todos_vertices:\n",
    "    if i != vertice_atual:\n",
    "        caminhos[i] = [\"\",np.inf]\n",
    "    else:\n",
    "        vertices_encontraveis.append(vertice_atual)\n",
    "        caminhos[i] = [\"\",0]\n",
    "\n",
    "todos_vertices_copy = todos_vertices.copy()\n",
    "print(caminhos)\n",
    "\n",
    "\n",
    "for i in range(len(caminhos)):\n",
    "    aux = np.inf\n",
    "    for j in todos_vertices_copy:\n",
    "        \n",
    "        try:\n",
    "            \n",
    "            if vertice_atual not in vertices_passados:\n",
    "                vertices_passados.append(vertice_atual)\n",
    "\n",
    "            if caminhos[vertice_atual][1] + N[(vertice_atual,j)] < caminhos[j][1]:\n",
    "\n",
    "                if j not in vertices_encontraveis:\n",
    "                    vertices_encontraveis.append(j)\n",
    "\n",
    "                caminhos[j][0] = vertice_atual\n",
    "                caminhos[j][1] = caminhos[vertice_atual][1] + N[(vertice_atual,j)]\n",
    "        except:\n",
    "            a = 0\n",
    "\n",
    "    for k in caminhos:\n",
    "        if caminhos[k][1] <= aux:\n",
    "            aux = caminhos[k][1]\n",
    "            proximo_vertice = k\n",
    "    \n",
    "    vertice_atual = proximo_vertice\n",
    "\n",
    "print(caminhos)\n",
    "print(vertices_passados)\n",
    "print(vertices_encontraveis)\n"
   ]
  },
  {
   "cell_type": "code",
   "execution_count": 38,
   "metadata": {},
   "outputs": [
    {
     "name": "stdout",
     "output_type": "stream",
     "text": [
      "{'A': ['A', 0], 'B': ['', inf], 'C': ['', inf], 'D': ['', inf], 'E': ['', inf], 'F': ['', inf], 'G': ['', inf]}\n",
      "{'A': ['A', 0], 'B': ['D', 4], 'C': ['B', 6], 'D': ['A', 1], 'E': ['G', 5], 'F': ['D', 6], 'G': ['D', 4]}\n"
     ]
    }
   ],
   "source": [
    "# s - t - z - x - t\n",
    "# s - y -   \n",
    "\n",
    "vertice_atual = 'A'\n",
    "caminhos = {}\n",
    "vertices_passados = []\n",
    "vertices_encontraveis = []\n",
    "\n",
    "for i in todos_vertices:\n",
    "    if i != vertice_atual:\n",
    "        caminhos[i] = [\"\",np.inf]\n",
    "    else:\n",
    "        vertices_encontraveis.append(vertice_atual)\n",
    "        caminhos[i] = [vertice_atual,0]\n",
    "\n",
    "todos_vertices_copy = todos_vertices.copy()\n",
    "print(caminhos)\n",
    "\n",
    "\n",
    "for i in range(len(caminhos)):\n",
    "    aux = np.inf\n",
    "    for j in todos_vertices_copy:\n",
    "        \n",
    "        try:\n",
    "            \n",
    "            if vertice_atual not in vertices_passados:\n",
    "                vertices_passados.append(vertice_atual)\n",
    "\n",
    "            if caminhos[vertice_atual][1] + N[(vertice_atual,j)] < caminhos[j][1]:\n",
    "\n",
    "                if j not in vertices_encontraveis:\n",
    "                    vertices_encontraveis.append(j)\n",
    "\n",
    "                caminhos[j][0] = vertice_atual\n",
    "                caminhos[j][1] = caminhos[vertice_atual][1] + N[(vertice_atual,j)]\n",
    "        except:\n",
    "            a = 0\n",
    "\n",
    "\n",
    "    for k in vertices_encontraveis:\n",
    "        if k not in vertices_passados:\n",
    "            if caminhos[k][1] <= aux:\n",
    "                proximo_vertice = k\n",
    "                aux = caminhos[k][1]\n",
    "\n",
    "    vertice_atual = proximo_vertice\n",
    "\n",
    "print(caminhos)"
   ]
  },
  {
   "cell_type": "code",
   "execution_count": null,
   "metadata": {},
   "outputs": [],
   "source": []
  },
  {
   "cell_type": "code",
   "execution_count": null,
   "metadata": {},
   "outputs": [],
   "source": [
    "for "
   ]
  },
  {
   "cell_type": "code",
   "execution_count": 73,
   "metadata": {},
   "outputs": [
    {
     "name": "stdout",
     "output_type": "stream",
     "text": [
      "['s', 6]\n",
      "['s', 7]\n",
      "['t', 2]\n",
      "['z', 9]\n",
      "['s', 0]\n",
      "---\n",
      "[]\n",
      "['y', 4]\n",
      "['t', 2]\n",
      "---\n",
      "['y', 'x']\n",
      "['x', 2]\n",
      "---\n",
      "['x']\n",
      "Vertice Inicial: s -> {'s': ['s', 0], 't': ['x', 2], 'x': ['y', 4], 'y': ['s', 7], 'z': ['t', 2]}\n"
     ]
    }
   ],
   "source": [
    "vertice_atual = 's'\n",
    "vertice_inicial = vertice_atual\n",
    "vertice_anterior = -1\n",
    "caminhos = {}\n",
    "vertices_descobertos = []\n",
    "vertices_passados = []\n",
    "\n",
    "for i in todos_vertices:\n",
    "    if i != vertice_atual:\n",
    "        caminhos[i] = [\"\",np.inf]\n",
    "    else:\n",
    "        vertices_passados.append(i)\n",
    "        vertices_descobertos.append(i)\n",
    "        caminhos[i] = [i,0]\n",
    "\n",
    "for i in range(len(todos_vertices)):\n",
    "    aux = np.Inf\n",
    "\n",
    "    if vertice_atual not in vertices_passados:\n",
    "        vertices_passados.append(vertice_atual)\n",
    "\n",
    "    for i in N:\n",
    "        if vertice_atual == i[0]:\n",
    "            \n",
    "                \n",
    "            if i[1] not in vertices_descobertos:\n",
    "                vertices_descobertos.append(i[1])\n",
    "                        \n",
    "            if caminhos[i[1]][1] > N[i] + caminhos[i[0]][1]:\n",
    "\n",
    "\n",
    "\n",
    "                    #Salva o valor do proximo vertice no vetor\n",
    "                    caminhos[i[1]][1] = N[i] + caminhos[i[0]][1]\n",
    "                    #salva o caminho desse vertice (valor atual + valor anterior)\n",
    "                    caminhos[i[1]][0] = i[0]\n",
    "            if caminhos[i[1]][1] < aux:\n",
    "                print(caminhos[i[1]])\n",
    "                aux = caminhos[i[1]][1]\n",
    "                proximo_vertice = i[1]\n",
    "        \n",
    "    if proximo_vertice in vertices_passados:\n",
    "        print(\"---\")\n",
    "        print(l3)\n",
    "        l3 = [x for x in vertices_descobertos if x not in vertices_passados]\n",
    "        if(len(l3)) != 0:\n",
    "            vertice_atual = l3[0]\n",
    "    else:\n",
    "        vertice_atual = proximo_vertice\n",
    "print(\"Vertice Inicial: {} -> {}\".format(vertice_inicial,caminhos))"
   ]
  },
  {
   "cell_type": "code",
   "execution_count": 71,
   "metadata": {},
   "outputs": [
    {
     "name": "stdout",
     "output_type": "stream",
     "text": [
      "z\n",
      "-4\n",
      "['x', 2]\n",
      "----\n",
      "['t', 2]\n",
      "{'s': ['s', 0], 't': ['x', -inf], 'x': ['y', 4], 'y': ['s', 7], 'z': ['t', -inf]}\n"
     ]
    }
   ],
   "source": [
    "for i in caminhos:\n",
    "\n",
    "    #comparar o valores\n",
    "    try:\n",
    "        if N[caminhos[i][0],i] + caminhos[caminhos[i][0]][1] < caminhos[i][1]:\n",
    "            print(i)\n",
    "            print(N[caminhos[i][0],i])\n",
    "            print(caminhos[caminhos[i][0]])\n",
    "            print(\"----\")\n",
    "            print(caminhos[i])\n",
    "            caminhos[caminhos[i][0]][1] = -np.inf\n",
    "            caminhos[i][1] = -np.inf\n",
    "    except KeyError:\n",
    "        a = 0\n",
    "\n",
    "print(caminhos)"
   ]
  },
  {
   "cell_type": "code",
   "execution_count": 20,
   "metadata": {},
   "outputs": [
    {
     "name": "stdout",
     "output_type": "stream",
     "text": [
      "{'a': ['s', 3], 'b': ['a', -1], 'c': ['s', 5], 'd': ['c', 11], 'e': ['f', -inf], 'f': ['e', -inf], 'g': ['b', 3], 's': ['s', 0]}\n"
     ]
    }
   ],
   "source": [
    "print(caminhos)"
   ]
  },
  {
   "cell_type": "code",
   "execution_count": 125,
   "metadata": {},
   "outputs": [],
   "source": [
    "class Grafo:\n",
    "\n",
    "    #Construtor\n",
    "    def __init__(self, vertices):\n",
    "        self.V = vertices   #Quantidade de vertices\n",
    "        self.grafo = []     #Grafo\n",
    "\n",
    "    #Cria aresta\n",
    "    def addAresta(self, u, v, w):\n",
    "        self.grafo.append([u, v, w])\n",
    "\n",
    "    def bellmanFord(self, inicial):\n",
    "        #Inicializa distâncias a partir do vertice inicial\n",
    "        dist = {}\n",
    "\n",
    "        for i in self.V:\n",
    "            if i != inicial:\n",
    "                dist[i] = [\"\", float(\"Inf\")]\n",
    "            else:\n",
    "                dist[i] = [i, 0]\n",
    "                \n",
    "        #Relaxamento em todas as arestas |V|-1 vezes\n",
    "        for _ in range(len(self.V)-1):\n",
    "            #Atualiza valores da distância (dist)\n",
    "            for u, v, w in self.grafo:\n",
    "                if dist[u][1] != float(\"Inf\") and dist[u][1] + w < dist[v][1]:\n",
    "                    dist[v][0] = u\n",
    "                    dist[v][1] = dist[u][1] + w\n",
    "\n",
    "        #Busca por ciclos negativos\n",
    "        for u, v, w in self.grafo:\n",
    "            if dist[u][1] != float(\"Inf\") and dist[u][1] + w < dist[v][1]:\n",
    "                print(\"Ciclo negativo\")\n",
    "                return\n",
    "\n",
    "        #Mostra as distâncias\n",
    "        print(dist)"
   ]
  },
  {
   "cell_type": "code",
   "execution_count": 122,
   "metadata": {},
   "outputs": [],
   "source": [
    "#Função pra definir os vertices do grafo\n",
    "def defineVertices(data):\n",
    "    vertices = []\n",
    "    for i in range(len(data[\"Origem\"])):\n",
    "        if data[\"Origem\"][i] not in vertices:\n",
    "            vertices.append(data[\"Origem\"][i])\n",
    "    return vertices"
   ]
  },
  {
   "cell_type": "code",
   "execution_count": 123,
   "metadata": {},
   "outputs": [],
   "source": [
    "def criaGrafo(data):\n",
    "    #Define inicial\n",
    "    inicial = 's'\n",
    "    #Grafo é criado\n",
    "    g = Grafo(defineVertices(data))\n",
    "    #Guarda os valores do csv no grafo\n",
    "    for i in range(len(data[\"Origem\"])):\n",
    "        g.addAresta(data[\"Origem\"][i], data[\"Destino\"][i], data[\"Peso\"][i])\n",
    "    #Retorna o algoritmo\n",
    "    return g.bellmanFord(inicial)"
   ]
  },
  {
   "cell_type": "code",
   "execution_count": 126,
   "metadata": {},
   "outputs": [
    {
     "name": "stdout",
     "output_type": "stream",
     "text": [
      "{'s': ['s', 0], 't': ['x', 2], 'x': ['y', 4], 'y': ['s', 7], 'z': ['t', -2]}\n"
     ]
    }
   ],
   "source": [
    "criaGrafo(data)"
   ]
  }
 ],
 "metadata": {
  "interpreter": {
   "hash": "f42f955e7f8da3c548e302e1e5347a7e875359e0d4da102c4592ccaca30f562a"
  },
  "kernelspec": {
   "display_name": "Python 3.10.4 64-bit",
   "language": "python",
   "name": "python3"
  },
  "language_info": {
   "codemirror_mode": {
    "name": "ipython",
    "version": 3
   },
   "file_extension": ".py",
   "mimetype": "text/x-python",
   "name": "python",
   "nbconvert_exporter": "python",
   "pygments_lexer": "ipython3",
   "version": "3.10.4"
  },
  "orig_nbformat": 4
 },
 "nbformat": 4,
 "nbformat_minor": 2
}
