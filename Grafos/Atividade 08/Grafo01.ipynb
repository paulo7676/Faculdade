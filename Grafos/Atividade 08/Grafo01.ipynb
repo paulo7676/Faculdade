{
 "cells": [
  {
   "cell_type": "markdown",
   "metadata": {},
   "source": [
    "### Entrada de dados"
   ]
  },
  {
   "cell_type": "code",
   "execution_count": 37,
   "metadata": {},
   "outputs": [
    {
     "data": {
      "text/html": [
       "<div>\n",
       "<style scoped>\n",
       "    .dataframe tbody tr th:only-of-type {\n",
       "        vertical-align: middle;\n",
       "    }\n",
       "\n",
       "    .dataframe tbody tr th {\n",
       "        vertical-align: top;\n",
       "    }\n",
       "\n",
       "    .dataframe thead th {\n",
       "        text-align: right;\n",
       "    }\n",
       "</style>\n",
       "<table border=\"1\" class=\"dataframe\">\n",
       "  <thead>\n",
       "    <tr style=\"text-align: right;\">\n",
       "      <th></th>\n",
       "      <th>Inicio</th>\n",
       "      <th>Fim</th>\n",
       "      <th>Peso</th>\n",
       "    </tr>\n",
       "  </thead>\n",
       "  <tbody>\n",
       "    <tr>\n",
       "      <th>0</th>\n",
       "      <td>1</td>\n",
       "      <td>2</td>\n",
       "      <td>3</td>\n",
       "    </tr>\n",
       "    <tr>\n",
       "      <th>1</th>\n",
       "      <td>1</td>\n",
       "      <td>3</td>\n",
       "      <td>8</td>\n",
       "    </tr>\n",
       "    <tr>\n",
       "      <th>2</th>\n",
       "      <td>1</td>\n",
       "      <td>5</td>\n",
       "      <td>-4</td>\n",
       "    </tr>\n",
       "    <tr>\n",
       "      <th>3</th>\n",
       "      <td>2</td>\n",
       "      <td>5</td>\n",
       "      <td>7</td>\n",
       "    </tr>\n",
       "    <tr>\n",
       "      <th>4</th>\n",
       "      <td>2</td>\n",
       "      <td>4</td>\n",
       "      <td>1</td>\n",
       "    </tr>\n",
       "    <tr>\n",
       "      <th>5</th>\n",
       "      <td>3</td>\n",
       "      <td>2</td>\n",
       "      <td>4</td>\n",
       "    </tr>\n",
       "    <tr>\n",
       "      <th>6</th>\n",
       "      <td>4</td>\n",
       "      <td>3</td>\n",
       "      <td>-5</td>\n",
       "    </tr>\n",
       "    <tr>\n",
       "      <th>7</th>\n",
       "      <td>4</td>\n",
       "      <td>1</td>\n",
       "      <td>2</td>\n",
       "    </tr>\n",
       "    <tr>\n",
       "      <th>8</th>\n",
       "      <td>5</td>\n",
       "      <td>4</td>\n",
       "      <td>6</td>\n",
       "    </tr>\n",
       "  </tbody>\n",
       "</table>\n",
       "</div>"
      ],
      "text/plain": [
       "   Inicio  Fim  Peso\n",
       "0       1    2     3\n",
       "1       1    3     8\n",
       "2       1    5    -4\n",
       "3       2    5     7\n",
       "4       2    4     1\n",
       "5       3    2     4\n",
       "6       4    3    -5\n",
       "7       4    1     2\n",
       "8       5    4     6"
      ]
     },
     "execution_count": 37,
     "metadata": {},
     "output_type": "execute_result"
    }
   ],
   "source": [
    "import pandas as pd\n",
    "import numpy as np\n",
    "import networkx as nx\n",
    "import pylab\n",
    "\n",
    "data = pd.read_csv(\"edges1.csv\",names=[\"Inicio\", \"Fim\", \"Peso\"], encoding = \"ISO-8859-1\")\n",
    "data"
   ]
  },
  {
   "cell_type": "code",
   "execution_count": 38,
   "metadata": {},
   "outputs": [],
   "source": [
    "for i in range(len(data[\"Inicio\"])):\n",
    "    G = nx.Graph()\n",
    "    G.add_edge(data[\"Inicio\"][i], data[\"Fim\"][i], weight=data[\"Peso\"][i])"
   ]
  },
  {
   "cell_type": "code",
   "execution_count": 39,
   "metadata": {},
   "outputs": [
    {
     "data": {
      "image/png": "[encoded data removed]",
      "text/plain": [
       "<Figure size 432x288 with 1 Axes>"
      ]
     },
     "metadata": {},
     "output_type": "display_data"
    }
   ],
   "source": [
    "\n",
    "def plot(Grafo):\n",
    "    G = nx.Graph()\n",
    "    for i in range(len(Grafo[\"Inicio\"])):\n",
    "        G.add_edge(Grafo[\"Inicio\"][i], Grafo[\"Fim\"][i], weight=Grafo[\"Peso\"][i])\n",
    "\n",
    "    pos=nx.spring_layout(G)\n",
    "    nx.draw_networkx(G,pos, arrows=True) #, arrows=True\n",
    "    labels = nx.get_edge_attributes(G,'weight')\n",
    "    nx.draw_networkx_edge_labels(G,pos,edge_labels=labels)\n",
    "    pylab.show()\n",
    "    return G\n",
    "retorno = plot(data)"
   ]
  },
  {
   "cell_type": "code",
   "execution_count": 86,
   "metadata": {},
   "outputs": [
    {
     "data": {
      "text/plain": [
       "{(1, 2): 3,\n",
       " (1, 3): 8,\n",
       " (1, 5): -4,\n",
       " (2, 5): 7,\n",
       " (2, 4): 1,\n",
       " (3, 2): 4,\n",
       " (4, 3): -5,\n",
       " (4, 1): 2,\n",
       " (5, 4): 6}"
      ]
     },
     "execution_count": 86,
     "metadata": {},
     "output_type": "execute_result"
    }
   ],
   "source": [
    "N = {}\n",
    "vertices = []\n",
    "for i in range(len(data[\"Inicio\"])):\n",
    "    if data[\"Inicio\"][i] not in vertices:\n",
    "        vertices.append(data[\"Inicio\"][i])\n",
    "    N[(data[\"Inicio\"][i],data[\"Fim\"][i])] = data[\"Peso\"][i]\n",
    "N"
   ]
  },
  {
   "cell_type": "markdown",
   "metadata": {},
   "source": [
    "# Algoritmo de Floyd Warshall"
   ]
  },
  {
   "cell_type": "code",
   "execution_count": 87,
   "metadata": {},
   "outputs": [],
   "source": [
    "N = {}\n",
    "vertices = []\n",
    "for i in range(len(data[\"Inicio\"])):\n",
    "    if data[\"Inicio\"][i] not in vertices:\n",
    "        vertices.append(data[\"Inicio\"][i])\n",
    "    N[(data[\"Inicio\"][i],data[\"Fim\"][i])] = data[\"Peso\"][i]\n",
    "\n",
    "todos_vertices = []\n",
    "vertices_encontraveis = []\n",
    "\n",
    "for i in N:\n",
    "    if i[0] not in todos_vertices:\n",
    "        todos_vertices.append(i[0])\n",
    "    if i[1] not in todos_vertices:\n",
    "        todos_vertices.append(i[1])\n",
    "    if i[1] not in vertices_encontraveis:\n",
    "        vertices_encontraveis.append(i[1])\n",
    "vertices_encontraveis\n",
    "todos_vertices = sorted(todos_vertices)"
   ]
  },
  {
   "cell_type": "code",
   "execution_count": 62,
   "metadata": {},
   "outputs": [
    {
     "name": "stdout",
     "output_type": "stream",
     "text": [
      "Vertice Inicial: 1 -> {1: [4, 2], 2: [3, -1], 3: [4, -5], 4: [4, 0], 5: [2, 6]}\n"
     ]
    }
   ],
   "source": [
    "for k in todos_vertices:\n",
    "\n",
    "    vertice_atual = 4\n",
    "    vertice_inicial = vertice_atual\n",
    "    vertice_anterior = -1\n",
    "    caminhos = {}\n",
    "    vertices_descobertos = []\n",
    "    vertices_passados = []\n",
    "\n",
    "    for i in todos_vertices:\n",
    "        if i != vertice_atual:\n",
    "            caminhos[i] = [\"\",np.inf]\n",
    "        else:\n",
    "            vertices_passados.append(i)\n",
    "            vertices_descobertos.append(i)\n",
    "            caminhos[i] = [i,0]\n",
    "\n",
    "\n",
    "    for i in range(len(todos_vertices)):\n",
    "        aux = np.Inf\n",
    "        for i in N:\n",
    "            if vertice_atual == i[0]:\n",
    "                #Menor vertice (proximo)\n",
    "                if i[0] not in vertices_passados:\n",
    "                    vertices_passados.append(i[0])\n",
    "                \n",
    "                if N[i] < N[i]:\n",
    "                    aux = caminhos[i[1]][1]\n",
    "                    \n",
    "                    if i[1] not in vertices_descobertos:\n",
    "                        \n",
    "                        vertices_descobertos.append(i[1])\n",
    "                        \n",
    "                if caminhos[i[1]][1] > N[i] + caminhos[i[0]][1]:\n",
    "                    #Salva o valor do proximo vertice no vetor\n",
    "                    caminhos[i[1]][1] = N[i] + caminhos[i[0]][1]\n",
    "                    #salva o caminho desse vertice (valor atual + valor anterior)\n",
    "                    caminhos[i[1]][0] = i[0]\n",
    "                if N[i] < aux:\n",
    "                    aux = N[i]\n",
    "                    proximo_vertice = i[1]\n",
    "                    \n",
    "        if proximo_vertice in vertices_passados:\n",
    "            l3 = [x for x in vertices_descobertos if x not in vertices_passados]\n",
    "            \n",
    "            if(len(l3)) == 0:\n",
    "                break\n",
    "            else:\n",
    "                vertice_atual = l3[0]\n",
    "        else:\n",
    "            vertice_atual = proximo_vertice\n",
    "    print(\"Vertice Inicial: {} -> {}\".format(k,caminhos))\n",
    "    break"
   ]
  },
  {
   "cell_type": "code",
   "execution_count": 78,
   "metadata": {},
   "outputs": [],
   "source": [
    "vertice_atual = 4\n",
    "caminhos = {}\n",
    "vertices_descobertos = []\n",
    "vertices_passados = []\n",
    "\n",
    "for i in todos_vertices:\n",
    "    if i != vertice_atual:\n",
    "        caminhos[i] = [\"\",np.inf]\n",
    "    else:\n",
    "        vertices_passados.append(i)\n",
    "        vertices_descobertos.append(i)\n",
    "        caminhos[i] = [i,0]"
   ]
  },
  {
   "cell_type": "code",
   "execution_count": 103,
   "metadata": {},
   "outputs": [
    {
     "name": "stdout",
     "output_type": "stream",
     "text": [
      "Vertice Inicial: 1 -> {1: [1, 0], 2: [3, 1], 3: [4, -3], 4: [5, 2], 5: [1, -4]}\n",
      "Vertice Inicial: 2 -> {1: [4, 3], 2: [2, 0], 3: [4, -4], 4: [2, 1], 5: [1, -1]}\n",
      "Vertice Inicial: 3 -> {1: [4, 7], 2: [3, 4], 3: [3, 0], 4: [2, 5], 5: [1, 3]}\n",
      "Vertice Inicial: 4 -> {1: [4, 2], 2: [3, -1], 3: [4, -5], 4: [4, 0], 5: [1, -2]}\n",
      "Vertice Inicial: 5 -> {1: [4, 8], 2: [3, 5], 3: [4, 1], 4: [5, 6], 5: [5, 0]}\n"
     ]
    }
   ],
   "source": [
    "for k in todos_vertices:\n",
    "    vertice_atual = k\n",
    "    caminhos = {}\n",
    "    vertices_descobertos = []\n",
    "    vertices_passados = []\n",
    "\n",
    "    for i in todos_vertices:\n",
    "        if i != vertice_atual:\n",
    "            caminhos[i] = [\"\",np.inf]\n",
    "        else:\n",
    "            vertices_passados.append(i)\n",
    "            vertices_descobertos.append(i)\n",
    "            caminhos[i] = [i,0]\n",
    "\n",
    "\n",
    "    for i in range(len(todos_vertices)):\n",
    "        aux = np.Inf\n",
    "        for i in N:\n",
    "            if i[0] == vertice_atual:\n",
    "                \n",
    "                if i[0] not in vertices_passados:\n",
    "                    vertices_passados.append(i[0])\n",
    "\n",
    "                if i[1] not in vertices_descobertos:         \n",
    "                    vertices_descobertos.append(i[1])\n",
    "\n",
    "                if caminhos[i[1]][1] > N[i] + caminhos[i[0]][1]:\n",
    "                        #Salva o valor do proximo vertice no vetor\n",
    "                    caminhos[i[1]][1] = N[i] + caminhos[i[0]][1]\n",
    "                        #salva o caminho desse vertice (valor atual + valor anterior)\n",
    "                    caminhos[i[1]][0] = i[0]\n",
    "                if N[i] < aux:\n",
    "                    aux = N[i]\n",
    "                    proximo_vertice = i[1]\n",
    "        vertice_atual = proximo_vertice\n",
    "        if proximo_vertice in vertices_passados:\n",
    "                l3 = [x for x in vertices_descobertos if x not in vertices_passados]\n",
    "                if(len(l3)) == 0:\n",
    "                    break\n",
    "                else:\n",
    "                    vertice_atual = l3[0]\n",
    "    \n",
    "\n",
    "    print(\"Vertice Inicial: {} -> {}\".format(k,caminhos))"
   ]
  }
 ],
 "metadata": {
  "interpreter": {
   "hash": "369f2c481f4da34e4445cda3fffd2e751bd1c4d706f27375911949ba6bb62e1c"
  },
  "kernelspec": {
   "display_name": "Python 3.10.0 64-bit",
   "language": "python",
   "name": "python3"
  },
  "language_info": {
   "codemirror_mode": {
    "name": "ipython",
    "version": 3
   },
   "file_extension": ".py",
   "mimetype": "text/x-python",
   "name": "python",
   "nbconvert_exporter": "python",
   "pygments_lexer": "ipython3",
   "version": "3.8.10"
  },
  "orig_nbformat": 4
 },
 "nbformat": 4,
 "nbformat_minor": 2
}
