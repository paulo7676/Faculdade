{
 "cells": [
  {
   "cell_type": "markdown",
   "metadata": {},
   "source": [
    "### Entrada de dados"
   ]
  },
  {
   "cell_type": "code",
   "execution_count": 15,
   "metadata": {},
   "outputs": [],
   "source": [
    "import pandas as pd\n",
    "import numpy as np\n",
    "import networkx as nx\n",
    "import pylab\n",
    "\n",
    "data = pd.read_csv(\"edges2.csv\", encoding = \"ISO-8859-1\")\n",
    "data = data.iloc[: , 1:]"
   ]
  },
  {
   "cell_type": "code",
   "execution_count": 16,
   "metadata": {},
   "outputs": [
    {
     "data": {
      "text/html": [
       "<div>\n",
       "<style scoped>\n",
       "    .dataframe tbody tr th:only-of-type {\n",
       "        vertical-align: middle;\n",
       "    }\n",
       "\n",
       "    .dataframe tbody tr th {\n",
       "        vertical-align: top;\n",
       "    }\n",
       "\n",
       "    .dataframe thead th {\n",
       "        text-align: right;\n",
       "    }\n",
       "</style>\n",
       "<table border=\"1\" class=\"dataframe\">\n",
       "  <thead>\n",
       "    <tr style=\"text-align: right;\">\n",
       "      <th></th>\n",
       "      <th>0</th>\n",
       "      <th>1</th>\n",
       "      <th>2</th>\n",
       "      <th>3</th>\n",
       "      <th>4</th>\n",
       "      <th>5</th>\n",
       "      <th>6</th>\n",
       "    </tr>\n",
       "  </thead>\n",
       "  <tbody>\n",
       "    <tr>\n",
       "      <th>0</th>\n",
       "      <td>0.0</td>\n",
       "      <td>3.0</td>\n",
       "      <td>6.0</td>\n",
       "      <td>inf</td>\n",
       "      <td>inf</td>\n",
       "      <td>inf</td>\n",
       "      <td>inf</td>\n",
       "    </tr>\n",
       "    <tr>\n",
       "      <th>1</th>\n",
       "      <td>3.0</td>\n",
       "      <td>0.0</td>\n",
       "      <td>2.0</td>\n",
       "      <td>1.0</td>\n",
       "      <td>inf</td>\n",
       "      <td>inf</td>\n",
       "      <td>inf</td>\n",
       "    </tr>\n",
       "    <tr>\n",
       "      <th>2</th>\n",
       "      <td>6.0</td>\n",
       "      <td>2.0</td>\n",
       "      <td>0.0</td>\n",
       "      <td>1.0</td>\n",
       "      <td>4.0</td>\n",
       "      <td>2.0</td>\n",
       "      <td>inf</td>\n",
       "    </tr>\n",
       "    <tr>\n",
       "      <th>3</th>\n",
       "      <td>inf</td>\n",
       "      <td>1.0</td>\n",
       "      <td>1.0</td>\n",
       "      <td>0.0</td>\n",
       "      <td>2.0</td>\n",
       "      <td>inf</td>\n",
       "      <td>4.0</td>\n",
       "    </tr>\n",
       "    <tr>\n",
       "      <th>4</th>\n",
       "      <td>inf</td>\n",
       "      <td>inf</td>\n",
       "      <td>4.0</td>\n",
       "      <td>2.0</td>\n",
       "      <td>0.0</td>\n",
       "      <td>2.0</td>\n",
       "      <td>1.0</td>\n",
       "    </tr>\n",
       "    <tr>\n",
       "      <th>5</th>\n",
       "      <td>inf</td>\n",
       "      <td>inf</td>\n",
       "      <td>2.0</td>\n",
       "      <td>inf</td>\n",
       "      <td>2.0</td>\n",
       "      <td>0.0</td>\n",
       "      <td>1.0</td>\n",
       "    </tr>\n",
       "    <tr>\n",
       "      <th>6</th>\n",
       "      <td>inf</td>\n",
       "      <td>inf</td>\n",
       "      <td>inf</td>\n",
       "      <td>4.0</td>\n",
       "      <td>1.0</td>\n",
       "      <td>1.0</td>\n",
       "      <td>0.0</td>\n",
       "    </tr>\n",
       "  </tbody>\n",
       "</table>\n",
       "</div>"
      ],
      "text/plain": [
       "     0    1    2    3    4    5    6\n",
       "0  0.0  3.0  6.0  inf  inf  inf  inf\n",
       "1  3.0  0.0  2.0  1.0  inf  inf  inf\n",
       "2  6.0  2.0  0.0  1.0  4.0  2.0  inf\n",
       "3  inf  1.0  1.0  0.0  2.0  inf  4.0\n",
       "4  inf  inf  4.0  2.0  0.0  2.0  1.0\n",
       "5  inf  inf  2.0  inf  2.0  0.0  1.0\n",
       "6  inf  inf  inf  4.0  1.0  1.0  0.0"
      ]
     },
     "execution_count": 16,
     "metadata": {},
     "output_type": "execute_result"
    }
   ],
   "source": [
    "data"
   ]
  },
  {
   "cell_type": "code",
   "execution_count": 25,
   "metadata": {},
   "outputs": [
    {
     "data": {
      "text/plain": [
       "0    3.0\n",
       "1    0.0\n",
       "2    2.0\n",
       "3    1.0\n",
       "4    inf\n",
       "5    inf\n",
       "6    inf\n",
       "Name: 1, dtype: float64"
      ]
     },
     "execution_count": 25,
     "metadata": {},
     "output_type": "execute_result"
    }
   ],
   "source": [
    "data.iloc[1]"
   ]
  },
  {
   "cell_type": "code",
   "execution_count": 23,
   "metadata": {},
   "outputs": [
    {
     "ename": "TypeError",
     "evalue": "Cannot index by location index with a non-integer key",
     "output_type": "error",
     "traceback": [
      "\u001b[0;31m---------------------------------------------------------------------------\u001b[0m",
      "\u001b[0;31mTypeError\u001b[0m                                 Traceback (most recent call last)",
      "\u001b[1;32m/home/paulo/Desktop/Faculdade/Faculdade/Grafos/Atividade 08/Grafo02.ipynb Cell 4'\u001b[0m in \u001b[0;36m<cell line: 1>\u001b[0;34m()\u001b[0m\n\u001b[1;32m      <a href='vscode-notebook-cell:/home/paulo/Desktop/Faculdade/Faculdade/Grafos/Atividade%2008/Grafo02.ipynb#ch0000002?line=0'>1</a>\u001b[0m \u001b[39mfor\u001b[39;00m i \u001b[39min\u001b[39;00m data:\n\u001b[1;32m      <a href='vscode-notebook-cell:/home/paulo/Desktop/Faculdade/Faculdade/Grafos/Atividade%2008/Grafo02.ipynb#ch0000002?line=1'>2</a>\u001b[0m     \u001b[39mfor\u001b[39;00m j \u001b[39min\u001b[39;00m i:\n\u001b[0;32m----> <a href='vscode-notebook-cell:/home/paulo/Desktop/Faculdade/Faculdade/Grafos/Atividade%2008/Grafo02.ipynb#ch0000002?line=2'>3</a>\u001b[0m         \u001b[39mprint\u001b[39m(data\u001b[39m.\u001b[39;49miloc[i])\n",
      "File \u001b[0;32m~/.local/lib/python3.8/site-packages/pandas/core/indexing.py:967\u001b[0m, in \u001b[0;36m_LocationIndexer.__getitem__\u001b[0;34m(self, key)\u001b[0m\n\u001b[1;32m    <a href='file:///home/paulo/.local/lib/python3.8/site-packages/pandas/core/indexing.py?line=963'>964</a>\u001b[0m axis \u001b[39m=\u001b[39m \u001b[39mself\u001b[39m\u001b[39m.\u001b[39maxis \u001b[39mor\u001b[39;00m \u001b[39m0\u001b[39m\n\u001b[1;32m    <a href='file:///home/paulo/.local/lib/python3.8/site-packages/pandas/core/indexing.py?line=965'>966</a>\u001b[0m maybe_callable \u001b[39m=\u001b[39m com\u001b[39m.\u001b[39mapply_if_callable(key, \u001b[39mself\u001b[39m\u001b[39m.\u001b[39mobj)\n\u001b[0;32m--> <a href='file:///home/paulo/.local/lib/python3.8/site-packages/pandas/core/indexing.py?line=966'>967</a>\u001b[0m \u001b[39mreturn\u001b[39;00m \u001b[39mself\u001b[39;49m\u001b[39m.\u001b[39;49m_getitem_axis(maybe_callable, axis\u001b[39m=\u001b[39;49maxis)\n",
      "File \u001b[0;32m~/.local/lib/python3.8/site-packages/pandas/core/indexing.py:1517\u001b[0m, in \u001b[0;36m_iLocIndexer._getitem_axis\u001b[0;34m(self, key, axis)\u001b[0m\n\u001b[1;32m   <a href='file:///home/paulo/.local/lib/python3.8/site-packages/pandas/core/indexing.py?line=1514'>1515</a>\u001b[0m key \u001b[39m=\u001b[39m item_from_zerodim(key)\n\u001b[1;32m   <a href='file:///home/paulo/.local/lib/python3.8/site-packages/pandas/core/indexing.py?line=1515'>1516</a>\u001b[0m \u001b[39mif\u001b[39;00m \u001b[39mnot\u001b[39;00m is_integer(key):\n\u001b[0;32m-> <a href='file:///home/paulo/.local/lib/python3.8/site-packages/pandas/core/indexing.py?line=1516'>1517</a>\u001b[0m     \u001b[39mraise\u001b[39;00m \u001b[39mTypeError\u001b[39;00m(\u001b[39m\"\u001b[39m\u001b[39mCannot index by location index with a non-integer key\u001b[39m\u001b[39m\"\u001b[39m)\n\u001b[1;32m   <a href='file:///home/paulo/.local/lib/python3.8/site-packages/pandas/core/indexing.py?line=1518'>1519</a>\u001b[0m \u001b[39m# validate the location\u001b[39;00m\n\u001b[1;32m   <a href='file:///home/paulo/.local/lib/python3.8/site-packages/pandas/core/indexing.py?line=1519'>1520</a>\u001b[0m \u001b[39mself\u001b[39m\u001b[39m.\u001b[39m_validate_integer(key, axis)\n",
      "\u001b[0;31mTypeError\u001b[0m: Cannot index by location index with a non-integer key"
     ]
    }
   ],
   "source": [
    "for i in data:\n",
    "    for j in i:\n",
    "        print(data.iloc[i])"
   ]
  },
  {
   "cell_type": "code",
   "execution_count": 21,
   "metadata": {},
   "outputs": [
    {
     "data": {
      "image/png": "[encoded data removed]",
      "text/plain": [
       "<Figure size 432x288 with 1 Axes>"
      ]
     },
     "metadata": {},
     "output_type": "display_data"
    }
   ],
   "source": [
    "\n",
    "def plot(Grafo):\n",
    "    G = nx.Graph()\n",
    "    for i in range(len(Grafo[\"Inicio\"])):\n",
    "        G.add_edge(Grafo[\"Inicio\"][i], Grafo[\"Fim\"][i], weight=Grafo[\"Peso\"][i])\n",
    "\n",
    "    pos=nx.spring_layout(G)\n",
    "    nx.draw_networkx(G,pos, arrows=True) #, arrows=True\n",
    "    labels = nx.get_edge_attributes(G,'weight')\n",
    "    nx.draw_networkx_edge_labels(G,pos,edge_labels=labels)\n",
    "    pylab.show()\n",
    "    return G\n",
    "retorno = plot(data)"
   ]
  },
  {
   "cell_type": "code",
   "execution_count": 22,
   "metadata": {},
   "outputs": [
    {
     "data": {
      "text/plain": [
       "{(1, 2): 3,\n",
       " (1, 3): 8,\n",
       " (1, 5): -4,\n",
       " (2, 5): 7,\n",
       " (2, 4): 1,\n",
       " (3, 2): 4,\n",
       " (4, 3): -5,\n",
       " (5, 4): 6}"
      ]
     },
     "execution_count": 22,
     "metadata": {},
     "output_type": "execute_result"
    }
   ],
   "source": [
    "N = {}\n",
    "vertices = []\n",
    "for i in range(len(data[\"Inicio\"])):\n",
    "    if data[\"Inicio\"][i] not in vertices:\n",
    "        vertices.append(data[\"Inicio\"][i])\n",
    "    N[(data[\"Inicio\"][i],data[\"Fim\"][i])] = data[\"Peso\"][i]\n",
    "N"
   ]
  },
  {
   "cell_type": "markdown",
   "metadata": {},
   "source": [
    "# Algoritmo de Floyd Warshall"
   ]
  },
  {
   "cell_type": "code",
   "execution_count": 27,
   "metadata": {},
   "outputs": [],
   "source": [
    "N = {}\n",
    "vertices = []\n",
    "for i in range(len(data[\"Inicio\"])):\n",
    "    if data[\"Inicio\"][i] not in vertices:\n",
    "        vertices.append(data[\"Inicio\"][i])\n",
    "    N[(data[\"Inicio\"][i],data[\"Fim\"][i])] = data[\"Peso\"][i]\n",
    "\n",
    "todos_vertices = []\n",
    "vertices_encontraveis = []\n",
    "\n",
    "for i in N:\n",
    "    if i[0] not in todos_vertices:\n",
    "        todos_vertices.append(i[0])\n",
    "    if i[1] not in todos_vertices:\n",
    "        todos_vertices.append(i[1])\n",
    "    if i[1] not in vertices_encontraveis:\n",
    "        vertices_encontraveis.append(i[1])\n",
    "vertices_encontraveis\n",
    "todos_vertices = sorted(todos_vertices)"
   ]
  },
  {
   "cell_type": "markdown",
   "metadata": {},
   "source": []
  },
  {
   "cell_type": "code",
   "execution_count": 30,
   "metadata": {},
   "outputs": [
    {
     "name": "stdout",
     "output_type": "stream",
     "text": [
      "Vertice Inicial: 1 -> {1: [1, 0], 2: [3, 1], 3: [4, -3], 4: [5, 2], 5: [1, -4]}\n",
      "Vertice Inicial: 2 -> {1: ['', inf], 2: [2, 0], 3: [4, -4], 4: [2, 1], 5: [2, 7]}\n",
      "Vertice Inicial: 3 -> {1: ['', inf], 2: [3, 4], 3: [3, 0], 4: [2, 5], 5: [2, 11]}\n",
      "Vertice Inicial: 4 -> {1: ['', inf], 2: [3, -1], 3: [4, -5], 4: [4, 0], 5: [2, 6]}\n",
      "Vertice Inicial: 5 -> {1: ['', inf], 2: [3, 5], 3: [4, 1], 4: [5, 6], 5: [5, 0]}\n"
     ]
    }
   ],
   "source": [
    "for k in todos_vertices:\n",
    "\n",
    "    vertice_atual = k\n",
    "    vertice_inicial = vertice_atual\n",
    "    vertice_anterior = -1\n",
    "    caminhos = {}\n",
    "    vertices_descobertos = []\n",
    "    vertices_passados = []\n",
    "\n",
    "    for i in todos_vertices:\n",
    "        if i != vertice_atual:\n",
    "            caminhos[i] = [\"\",np.inf]\n",
    "        else:\n",
    "            vertices_passados.append(i)\n",
    "            vertices_descobertos.append(i)\n",
    "            caminhos[i] = [i,0]\n",
    "\n",
    "\n",
    "    for i in range(len(todos_vertices)):\n",
    "        aux = np.Inf\n",
    "        for i in N:\n",
    "            if vertice_atual == i[0]:\n",
    "                #Menor vertice (proximo)\n",
    "                if i[0] not in vertices_passados:\n",
    "                    vertices_passados.append(i[0])\n",
    "                \n",
    "                if N[i] < aux:\n",
    "                    aux = caminhos[i[1]][1]\n",
    "                    \n",
    "                    if i[1] not in vertices_descobertos:\n",
    "                        \n",
    "                        vertices_descobertos.append(i[1])\n",
    "                        \n",
    "                if caminhos[i[1]][1] > N[i] + caminhos[i[0]][1]:\n",
    "                    #Salva o valor do proximo vertice no vetor\n",
    "                    caminhos[i[1]][1] = N[i] + caminhos[i[0]][1]\n",
    "                    #salva o caminho desse vertice (valor atual + valor anterior)\n",
    "                    caminhos[i[1]][0] = i[0]\n",
    "                if N[i] < aux:\n",
    "                    aux = N[i]\n",
    "                    proximo_vertice = i[1]\n",
    "                    \n",
    "        if proximo_vertice in vertices_passados:\n",
    "            l3 = [x for x in vertices_descobertos if x not in vertices_passados]\n",
    "            \n",
    "            if(len(l3)) == 0:\n",
    "                break\n",
    "            else:\n",
    "                vertice_atual = l3[0]\n",
    "        else:\n",
    "            vertice_atual = proximo_vertice\n",
    "    print(\"Vertice Inicial: {} -> {}\".format(k,caminhos))"
   ]
  }
 ],
 "metadata": {
  "interpreter": {
   "hash": "369f2c481f4da34e4445cda3fffd2e751bd1c4d706f27375911949ba6bb62e1c"
  },
  "kernelspec": {
   "display_name": "Python 3.10.0 64-bit",
   "language": "python",
   "name": "python3"
  },
  "language_info": {
   "codemirror_mode": {
    "name": "ipython",
    "version": 3
   },
   "file_extension": ".py",
   "mimetype": "text/x-python",
   "name": "python",
   "nbconvert_exporter": "python",
   "pygments_lexer": "ipython3",
   "version": "3.8.10"
  },
  "orig_nbformat": 4
 },
 "nbformat": 4,
 "nbformat_minor": 2
}
