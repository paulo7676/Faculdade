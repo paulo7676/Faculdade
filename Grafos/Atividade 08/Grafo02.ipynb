{
 "cells": [
  {
   "cell_type": "markdown",
   "metadata": {},
   "source": [
    "### Entrada de dados"
   ]
  },
  {
   "cell_type": "code",
   "execution_count": 15,
   "metadata": {},
   "outputs": [],
   "source": [
    "import pandas as pd\n",
    "import numpy as np\n",
    "import networkx as nx\n",
    "import pylab\n",
    "\n",
    "data = pd.read_csv(\"edges2.csv\", encoding = \"ISO-8859-1\")\n",
    "data = data.iloc[: , 1:]"
   ]
  },
  {
   "cell_type": "code",
   "execution_count": 16,
   "metadata": {},
   "outputs": [
    {
     "data": {
      "text/html": [
       "<div>\n",
       "<style scoped>\n",
       "    .dataframe tbody tr th:only-of-type {\n",
       "        vertical-align: middle;\n",
       "    }\n",
       "\n",
       "    .dataframe tbody tr th {\n",
       "        vertical-align: top;\n",
       "    }\n",
       "\n",
       "    .dataframe thead th {\n",
       "        text-align: right;\n",
       "    }\n",
       "</style>\n",
       "<table border=\"1\" class=\"dataframe\">\n",
       "  <thead>\n",
       "    <tr style=\"text-align: right;\">\n",
       "      <th></th>\n",
       "      <th>0</th>\n",
       "      <th>1</th>\n",
       "      <th>2</th>\n",
       "      <th>3</th>\n",
       "      <th>4</th>\n",
       "      <th>5</th>\n",
       "      <th>6</th>\n",
       "    </tr>\n",
       "  </thead>\n",
       "  <tbody>\n",
       "    <tr>\n",
       "      <th>0</th>\n",
       "      <td>0.0</td>\n",
       "      <td>3.0</td>\n",
       "      <td>6.0</td>\n",
       "      <td>inf</td>\n",
       "      <td>inf</td>\n",
       "      <td>inf</td>\n",
       "      <td>inf</td>\n",
       "    </tr>\n",
       "    <tr>\n",
       "      <th>1</th>\n",
       "      <td>3.0</td>\n",
       "      <td>0.0</td>\n",
       "      <td>2.0</td>\n",
       "      <td>1.0</td>\n",
       "      <td>inf</td>\n",
       "      <td>inf</td>\n",
       "      <td>inf</td>\n",
       "    </tr>\n",
       "    <tr>\n",
       "      <th>2</th>\n",
       "      <td>6.0</td>\n",
       "      <td>2.0</td>\n",
       "      <td>0.0</td>\n",
       "      <td>1.0</td>\n",
       "      <td>4.0</td>\n",
       "      <td>2.0</td>\n",
       "      <td>inf</td>\n",
       "    </tr>\n",
       "    <tr>\n",
       "      <th>3</th>\n",
       "      <td>inf</td>\n",
       "      <td>1.0</td>\n",
       "      <td>1.0</td>\n",
       "      <td>0.0</td>\n",
       "      <td>2.0</td>\n",
       "      <td>inf</td>\n",
       "      <td>4.0</td>\n",
       "    </tr>\n",
       "    <tr>\n",
       "      <th>4</th>\n",
       "      <td>inf</td>\n",
       "      <td>inf</td>\n",
       "      <td>4.0</td>\n",
       "      <td>2.0</td>\n",
       "      <td>0.0</td>\n",
       "      <td>2.0</td>\n",
       "      <td>1.0</td>\n",
       "    </tr>\n",
       "    <tr>\n",
       "      <th>5</th>\n",
       "      <td>inf</td>\n",
       "      <td>inf</td>\n",
       "      <td>2.0</td>\n",
       "      <td>inf</td>\n",
       "      <td>2.0</td>\n",
       "      <td>0.0</td>\n",
       "      <td>1.0</td>\n",
       "    </tr>\n",
       "    <tr>\n",
       "      <th>6</th>\n",
       "      <td>inf</td>\n",
       "      <td>inf</td>\n",
       "      <td>inf</td>\n",
       "      <td>4.0</td>\n",
       "      <td>1.0</td>\n",
       "      <td>1.0</td>\n",
       "      <td>0.0</td>\n",
       "    </tr>\n",
       "  </tbody>\n",
       "</table>\n",
       "</div>"
      ],
      "text/plain": [
       "     0    1    2    3    4    5    6\n",
       "0  0.0  3.0  6.0  inf  inf  inf  inf\n",
       "1  3.0  0.0  2.0  1.0  inf  inf  inf\n",
       "2  6.0  2.0  0.0  1.0  4.0  2.0  inf\n",
       "3  inf  1.0  1.0  0.0  2.0  inf  4.0\n",
       "4  inf  inf  4.0  2.0  0.0  2.0  1.0\n",
       "5  inf  inf  2.0  inf  2.0  0.0  1.0\n",
       "6  inf  inf  inf  4.0  1.0  1.0  0.0"
      ]
     },
     "execution_count": 16,
     "metadata": {},
     "output_type": "execute_result"
    }
   ],
   "source": [
    "data"
   ]
  },
  {
   "cell_type": "code",
   "execution_count": 59,
   "metadata": {},
   "outputs": [
    {
     "data": {
      "text/plain": [
       "3.0"
      ]
     },
     "execution_count": 59,
     "metadata": {},
     "output_type": "execute_result"
    }
   ],
   "source": [
    "data.iloc[0][1]"
   ]
  },
  {
   "cell_type": "code",
   "execution_count": 69,
   "metadata": {},
   "outputs": [
    {
     "name": "stdout",
     "output_type": "stream",
     "text": [
      "0\n",
      "1\n",
      "2\n",
      "3\n",
      "4\n",
      "5\n",
      "6\n"
     ]
    }
   ],
   "source": [
    "contador = 0\n",
    "\n",
    "N = {}\n",
    "contador = 0\n",
    "for i in data:\n",
    "    print(i)\n",
    "    contador = 0\n",
    "    for j in data[i]:\n",
    "        if j != 0 and j != np.inf:\n",
    "            N[(int(i),contador)] = j\n",
    "        contador += 1\n",
    "        \n",
    "todos_vertices = []\n",
    "vertices_encontraveis = []\n",
    "\n",
    "for i in N:\n",
    "    if i[0] not in todos_vertices:\n",
    "        todos_vertices.append(i[0])\n",
    "    if i[1] not in todos_vertices:\n",
    "        todos_vertices.append(i[1])\n",
    "    if i[1] not in vertices_encontraveis:\n",
    "        vertices_encontraveis.append(i[1])\n",
    "vertices_encontraveis\n",
    "todos_vertices = sorted(todos_vertices)\n",
    "    "
   ]
  },
  {
   "cell_type": "markdown",
   "metadata": {},
   "source": [
    "# Algoritmo de Floyd Warshall"
   ]
  },
  {
   "cell_type": "code",
   "execution_count": 71,
   "metadata": {},
   "outputs": [
    {
     "name": "stdout",
     "output_type": "stream",
     "text": [
      "Vertice Inicial: 0 -> {0: [0, 0], 1: [0, 3.0], 2: [1, 5.0], 3: [1, 4.0], 4: [3, 6.0], 5: [2, 7.0], 6: [4, 7.0]}\n",
      "Vertice Inicial: 1 -> {0: [1, 3.0], 1: [1, 0], 2: [1, 2.0], 3: [1, 1.0], 4: [3, 3.0], 5: [2, 4.0], 6: [4, 4.0]}\n",
      "Vertice Inicial: 2 -> {0: [1, 5.0], 1: [2, 2.0], 2: [2, 0], 3: [2, 1.0], 4: [3, 3.0], 5: [2, 2.0], 6: [5, 3.0]}\n",
      "Vertice Inicial: 3 -> {0: [1, 4.0], 1: [3, 1.0], 2: [3, 1.0], 3: [3, 0], 4: [3, 2.0], 5: [2, 3.0], 6: [4, 3.0]}\n",
      "Vertice Inicial: 4 -> {0: [1, 6.0], 1: [3, 3.0], 2: [3, 3.0], 3: [4, 2.0], 4: [4, 0], 5: [4, 2.0], 6: [4, 1.0]}\n",
      "Vertice Inicial: 5 -> {0: [1, 7.0], 1: [2, 4.0], 2: [5, 2.0], 3: [2, 3.0], 4: [5, 2.0], 5: [5, 0], 6: [5, 1.0]}\n",
      "Vertice Inicial: 6 -> {0: [1, 7.0], 1: [3, 4.0], 2: [5, 3.0], 3: [4, 3.0], 4: [6, 1.0], 5: [6, 1.0], 6: [6, 0]}\n"
     ]
    }
   ],
   "source": [
    "for k in todos_vertices:\n",
    "    vertice_atual = k\n",
    "    caminhos = {}\n",
    "    vertices_descobertos = []\n",
    "    vertices_passados = []\n",
    "\n",
    "    for i in todos_vertices:\n",
    "        if i != vertice_atual:\n",
    "            caminhos[i] = [\"\",np.inf]\n",
    "        else:\n",
    "            vertices_passados.append(i)\n",
    "            vertices_descobertos.append(i)\n",
    "            caminhos[i] = [i,0]\n",
    "\n",
    "\n",
    "    for i in range(len(todos_vertices)):\n",
    "        aux = np.Inf\n",
    "        for i in N:\n",
    "            if i[0] == vertice_atual:\n",
    "                \n",
    "                if i[0] not in vertices_passados:\n",
    "                    vertices_passados.append(i[0])\n",
    "\n",
    "                if i[1] not in vertices_descobertos:         \n",
    "                    vertices_descobertos.append(i[1])\n",
    "\n",
    "                if caminhos[i[1]][1] > N[i] + caminhos[i[0]][1]:\n",
    "                        #Salva o valor do proximo vertice no vetor\n",
    "                    caminhos[i[1]][1] = N[i] + caminhos[i[0]][1]\n",
    "                        #salva o caminho desse vertice (valor atual + valor anterior)\n",
    "                    caminhos[i[1]][0] = i[0]\n",
    "                if N[i] < aux:\n",
    "                    aux = N[i]\n",
    "                    proximo_vertice = i[1]\n",
    "        vertice_atual = proximo_vertice\n",
    "        if proximo_vertice in vertices_passados:\n",
    "                l3 = [x for x in vertices_descobertos if x not in vertices_passados]\n",
    "                if(len(l3)) == 0:\n",
    "                    break\n",
    "                else:\n",
    "                    vertice_atual = l3[0]\n",
    "    \n",
    "\n",
    "    print(\"Vertice Inicial: {} -> {}\".format(k,caminhos))"
   ]
  }
 ],
 "metadata": {
  "interpreter": {
   "hash": "369f2c481f4da34e4445cda3fffd2e751bd1c4d706f27375911949ba6bb62e1c"
  },
  "kernelspec": {
   "display_name": "Python 3.10.0 64-bit",
   "language": "python",
   "name": "python3"
  },
  "language_info": {
   "codemirror_mode": {
    "name": "ipython",
    "version": 3
   },
   "file_extension": ".py",
   "mimetype": "text/x-python",
   "name": "python",
   "nbconvert_exporter": "python",
   "pygments_lexer": "ipython3",
   "version": "3.8.10"
  },
  "orig_nbformat": 4
 },
 "nbformat": 4,
 "nbformat_minor": 2
}
