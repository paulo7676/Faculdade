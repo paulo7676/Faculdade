{
 "cells": [
  {
   "cell_type": "code",
   "execution_count": 10,
   "metadata": {},
   "outputs": [],
   "source": [
    "from sklearn.model_selection import train_test_split\n",
    "from sklearn import datasets\n",
    "import pandas as pd"
   ]
  },
  {
   "cell_type": "code",
   "execution_count": 2,
   "metadata": {},
   "outputs": [],
   "source": [
    "df=pd.read_csv('Dados_Features.csv')"
   ]
  },
  {
   "cell_type": "code",
   "execution_count": 3,
   "metadata": {},
   "outputs": [
    {
     "data": {
      "text/html": [
       "<div>\n",
       "<style scoped>\n",
       "    .dataframe tbody tr th:only-of-type {\n",
       "        vertical-align: middle;\n",
       "    }\n",
       "\n",
       "    .dataframe tbody tr th {\n",
       "        vertical-align: top;\n",
       "    }\n",
       "\n",
       "    .dataframe thead th {\n",
       "        text-align: right;\n",
       "    }\n",
       "</style>\n",
       "<table border=\"1\" class=\"dataframe\">\n",
       "  <thead>\n",
       "    <tr style=\"text-align: right;\">\n",
       "      <th></th>\n",
       "      <th>Usuario</th>\n",
       "      <th>Quantidade_Retweets</th>\n",
       "      <th>Quantidade_Likes</th>\n",
       "      <th>Quantidade_Publicacoes</th>\n",
       "      <th>Maior_N_Retweets</th>\n",
       "      <th>Maior_N_Likes</th>\n",
       "      <th>Seguidores</th>\n",
       "      <th>Amigos</th>\n",
       "      <th>Verificado</th>\n",
       "      <th>RN</th>\n",
       "      <th>LN</th>\n",
       "      <th>MACRO</th>\n",
       "      <th>Personalidade</th>\n",
       "    </tr>\n",
       "  </thead>\n",
       "  <tbody>\n",
       "    <tr>\n",
       "      <th>0</th>\n",
       "      <td>APompliano</td>\n",
       "      <td>314654</td>\n",
       "      <td>2564686</td>\n",
       "      <td>486</td>\n",
       "      <td>338</td>\n",
       "      <td>466</td>\n",
       "      <td>1583590</td>\n",
       "      <td>6681</td>\n",
       "      <td>True</td>\n",
       "      <td>647.436214</td>\n",
       "      <td>5277.131687</td>\n",
       "      <td>NT</td>\n",
       "      <td>INTJ</td>\n",
       "    </tr>\n",
       "    <tr>\n",
       "      <th>1</th>\n",
       "      <td>CoinCornerDanny</td>\n",
       "      <td>6030</td>\n",
       "      <td>39698</td>\n",
       "      <td>20</td>\n",
       "      <td>330</td>\n",
       "      <td>1434</td>\n",
       "      <td>30269</td>\n",
       "      <td>2573</td>\n",
       "      <td>False</td>\n",
       "      <td>301.500000</td>\n",
       "      <td>1984.900000</td>\n",
       "      <td>SP</td>\n",
       "      <td>ISFP</td>\n",
       "    </tr>\n",
       "    <tr>\n",
       "      <th>2</th>\n",
       "      <td>AltcoinDailyio</td>\n",
       "      <td>17715</td>\n",
       "      <td>116982</td>\n",
       "      <td>43</td>\n",
       "      <td>748</td>\n",
       "      <td>2808</td>\n",
       "      <td>1139226</td>\n",
       "      <td>535</td>\n",
       "      <td>False</td>\n",
       "      <td>411.976744</td>\n",
       "      <td>2720.511628</td>\n",
       "      <td>NF</td>\n",
       "      <td>ENFP</td>\n",
       "    </tr>\n",
       "    <tr>\n",
       "      <th>3</th>\n",
       "      <td>cz_binance</td>\n",
       "      <td>95670</td>\n",
       "      <td>675162</td>\n",
       "      <td>106</td>\n",
       "      <td>530</td>\n",
       "      <td>1954</td>\n",
       "      <td>5680971</td>\n",
       "      <td>1718</td>\n",
       "      <td>True</td>\n",
       "      <td>902.547170</td>\n",
       "      <td>6369.452830</td>\n",
       "      <td>NF</td>\n",
       "      <td>INFP</td>\n",
       "    </tr>\n",
       "    <tr>\n",
       "      <th>4</th>\n",
       "      <td>GoingParabolic</td>\n",
       "      <td>8724</td>\n",
       "      <td>74153</td>\n",
       "      <td>32</td>\n",
       "      <td>458</td>\n",
       "      <td>444</td>\n",
       "      <td>191341</td>\n",
       "      <td>607</td>\n",
       "      <td>False</td>\n",
       "      <td>272.625000</td>\n",
       "      <td>2317.281250</td>\n",
       "      <td>NF</td>\n",
       "      <td>INFP</td>\n",
       "    </tr>\n",
       "    <tr>\n",
       "      <th>...</th>\n",
       "      <td>...</td>\n",
       "      <td>...</td>\n",
       "      <td>...</td>\n",
       "      <td>...</td>\n",
       "      <td>...</td>\n",
       "      <td>...</td>\n",
       "      <td>...</td>\n",
       "      <td>...</td>\n",
       "      <td>...</td>\n",
       "      <td>...</td>\n",
       "      <td>...</td>\n",
       "      <td>...</td>\n",
       "      <td>...</td>\n",
       "    </tr>\n",
       "    <tr>\n",
       "      <th>473</th>\n",
       "      <td>limitstream</td>\n",
       "      <td>4584</td>\n",
       "      <td>2258</td>\n",
       "      <td>5</td>\n",
       "      <td>697</td>\n",
       "      <td>598</td>\n",
       "      <td>49052</td>\n",
       "      <td>274</td>\n",
       "      <td>False</td>\n",
       "      <td>916.800000</td>\n",
       "      <td>451.600000</td>\n",
       "      <td>NF</td>\n",
       "      <td>INFJ</td>\n",
       "    </tr>\n",
       "    <tr>\n",
       "      <th>474</th>\n",
       "      <td>feminist_co</td>\n",
       "      <td>12735</td>\n",
       "      <td>8320</td>\n",
       "      <td>2</td>\n",
       "      <td>11019</td>\n",
       "      <td>7577</td>\n",
       "      <td>198509</td>\n",
       "      <td>0</td>\n",
       "      <td>True</td>\n",
       "      <td>6367.500000</td>\n",
       "      <td>4160.000000</td>\n",
       "      <td>NF</td>\n",
       "      <td>INFP</td>\n",
       "    </tr>\n",
       "    <tr>\n",
       "      <th>475</th>\n",
       "      <td>Sonnenshein</td>\n",
       "      <td>1158</td>\n",
       "      <td>9211</td>\n",
       "      <td>5</td>\n",
       "      <td>238</td>\n",
       "      <td>1639</td>\n",
       "      <td>113887</td>\n",
       "      <td>1083</td>\n",
       "      <td>True</td>\n",
       "      <td>231.600000</td>\n",
       "      <td>1842.200000</td>\n",
       "      <td>NF</td>\n",
       "      <td>INFJ</td>\n",
       "    </tr>\n",
       "    <tr>\n",
       "      <th>476</th>\n",
       "      <td>CedYoungelman</td>\n",
       "      <td>3689</td>\n",
       "      <td>24798</td>\n",
       "      <td>11</td>\n",
       "      <td>297</td>\n",
       "      <td>1186</td>\n",
       "      <td>12787</td>\n",
       "      <td>5577</td>\n",
       "      <td>False</td>\n",
       "      <td>335.363636</td>\n",
       "      <td>2254.363636</td>\n",
       "      <td>NF</td>\n",
       "      <td>INFP</td>\n",
       "    </tr>\n",
       "    <tr>\n",
       "      <th>477</th>\n",
       "      <td>Wealth_Theory</td>\n",
       "      <td>822</td>\n",
       "      <td>5779</td>\n",
       "      <td>4</td>\n",
       "      <td>271</td>\n",
       "      <td>2181</td>\n",
       "      <td>208864</td>\n",
       "      <td>244</td>\n",
       "      <td>False</td>\n",
       "      <td>205.500000</td>\n",
       "      <td>1444.750000</td>\n",
       "      <td>NF</td>\n",
       "      <td>ENFP</td>\n",
       "    </tr>\n",
       "  </tbody>\n",
       "</table>\n",
       "<p>478 rows × 13 columns</p>\n",
       "</div>"
      ],
      "text/plain": [
       "             Usuario  Quantidade_Retweets  Quantidade_Likes  \\\n",
       "0         APompliano               314654           2564686   \n",
       "1    CoinCornerDanny                 6030             39698   \n",
       "2     AltcoinDailyio                17715            116982   \n",
       "3         cz_binance                95670            675162   \n",
       "4     GoingParabolic                 8724             74153   \n",
       "..               ...                  ...               ...   \n",
       "473      limitstream                 4584              2258   \n",
       "474      feminist_co                12735              8320   \n",
       "475      Sonnenshein                 1158              9211   \n",
       "476    CedYoungelman                 3689             24798   \n",
       "477    Wealth_Theory                  822              5779   \n",
       "\n",
       "     Quantidade_Publicacoes  Maior_N_Retweets  Maior_N_Likes  Seguidores  \\\n",
       "0                       486               338            466     1583590   \n",
       "1                        20               330           1434       30269   \n",
       "2                        43               748           2808     1139226   \n",
       "3                       106               530           1954     5680971   \n",
       "4                        32               458            444      191341   \n",
       "..                      ...               ...            ...         ...   \n",
       "473                       5               697            598       49052   \n",
       "474                       2             11019           7577      198509   \n",
       "475                       5               238           1639      113887   \n",
       "476                      11               297           1186       12787   \n",
       "477                       4               271           2181      208864   \n",
       "\n",
       "     Amigos  Verificado           RN           LN MACRO Personalidade  \n",
       "0      6681        True   647.436214  5277.131687    NT          INTJ  \n",
       "1      2573       False   301.500000  1984.900000    SP          ISFP  \n",
       "2       535       False   411.976744  2720.511628    NF          ENFP  \n",
       "3      1718        True   902.547170  6369.452830    NF          INFP  \n",
       "4       607       False   272.625000  2317.281250    NF          INFP  \n",
       "..      ...         ...          ...          ...   ...           ...  \n",
       "473     274       False   916.800000   451.600000    NF          INFJ  \n",
       "474       0        True  6367.500000  4160.000000    NF          INFP  \n",
       "475    1083        True   231.600000  1842.200000    NF          INFJ  \n",
       "476    5577       False   335.363636  2254.363636    NF          INFP  \n",
       "477     244       False   205.500000  1444.750000    NF          ENFP  \n",
       "\n",
       "[478 rows x 13 columns]"
      ]
     },
     "execution_count": 3,
     "metadata": {},
     "output_type": "execute_result"
    }
   ],
   "source": [
    "df = df.dropna(subset = [\"MACRO\"])\n",
    "df = df.reset_index(drop=True)\n",
    "df"
   ]
  },
  {
   "cell_type": "code",
   "execution_count": 4,
   "metadata": {},
   "outputs": [
    {
     "name": "stderr",
     "output_type": "stream",
     "text": [
      "<ipython-input-4-90940e5126b9>:3: SettingWithCopyWarning: \n",
      "A value is trying to be set on a copy of a slice from a DataFrame\n",
      "\n",
      "See the caveats in the documentation: https://pandas.pydata.org/pandas-docs/stable/user_guide/indexing.html#returning-a-view-versus-a-copy\n",
      "  df['MACRO'][i] = 0\n",
      "<ipython-input-4-90940e5126b9>:9: SettingWithCopyWarning: \n",
      "A value is trying to be set on a copy of a slice from a DataFrame\n",
      "\n",
      "See the caveats in the documentation: https://pandas.pydata.org/pandas-docs/stable/user_guide/indexing.html#returning-a-view-versus-a-copy\n",
      "  df['MACRO'][i] = 3\n",
      "<ipython-input-4-90940e5126b9>:5: SettingWithCopyWarning: \n",
      "A value is trying to be set on a copy of a slice from a DataFrame\n",
      "\n",
      "See the caveats in the documentation: https://pandas.pydata.org/pandas-docs/stable/user_guide/indexing.html#returning-a-view-versus-a-copy\n",
      "  df['MACRO'][i] = 1\n",
      "<ipython-input-4-90940e5126b9>:7: SettingWithCopyWarning: \n",
      "A value is trying to be set on a copy of a slice from a DataFrame\n",
      "\n",
      "See the caveats in the documentation: https://pandas.pydata.org/pandas-docs/stable/user_guide/indexing.html#returning-a-view-versus-a-copy\n",
      "  df['MACRO'][i] = 2\n"
     ]
    }
   ],
   "source": [
    "for i in range(len(df['MACRO'])):\n",
    "    if df['MACRO'][i] == 'NT':\n",
    "        df['MACRO'][i] = 0\n",
    "    elif df['MACRO'][i] == 'NF':\n",
    "        df['MACRO'][i] = 1\n",
    "    elif df['MACRO'][i] == 'SJ':\n",
    "        df['MACRO'][i] = 2\n",
    "    elif df['MACRO'][i] == 'SP':\n",
    "        df['MACRO'][i] = 3"
   ]
  },
  {
   "cell_type": "code",
   "execution_count": 6,
   "metadata": {},
   "outputs": [],
   "source": [
    "X = df[['Quantidade_Retweets','Quantidade_Likes','Quantidade_Publicacoes','Maior_N_Retweets',\n",
    "'Maior_N_Likes','Seguidores','Amigos','Verificado']].values\n",
    "\n",
    "y = df[\"MACRO\"].values\n",
    "y=y.astype('int')\n",
    "\n",
    "X_train, X_test, y_train, y_test = train_test_split(X, y, test_size=.2, random_state=42)"
   ]
  },
  {
   "cell_type": "code",
   "execution_count": 7,
   "metadata": {},
   "outputs": [
    {
     "name": "stdout",
     "output_type": "stream",
     "text": [
      "(382, 8) (96, 8) (382,) (96,)\n"
     ]
    }
   ],
   "source": [
    "print(X_train.shape, X_test.shape, y_train.shape, y_test.shape)"
   ]
  },
  {
   "cell_type": "markdown",
   "metadata": {},
   "source": [
    "DecisionTreeClassifier = 0.43\n",
    "RandomForestClassifier = 0.47\n",
    "KNeighborsClassifier = 0.51\n",
    "SVC (C-Support Vector Classification) = 0.56\n",
    "QuadraticDiscriminantAnalysis = 0.21\n",
    "GaussianNB = 0.14\n",
    "LinearSVC = 0.21"
   ]
  },
  {
   "cell_type": "code",
   "execution_count": 38,
   "metadata": {},
   "outputs": [
    {
     "data": {
      "text/plain": [
       "0.21875"
      ]
     },
     "execution_count": 38,
     "metadata": {},
     "output_type": "execute_result"
    }
   ],
   "source": [
    "from sklearn import metrics\n",
    "\n",
    "model.score(X_test, y_test)"
   ]
  },
  {
   "cell_type": "code",
   "execution_count": 37,
   "metadata": {},
   "outputs": [
    {
     "name": "stderr",
     "output_type": "stream",
     "text": [
      "c:\\Users\\paulo\\anaconda3\\lib\\site-packages\\sklearn\\svm\\_base.py:985: ConvergenceWarning: Liblinear failed to converge, increase the number of iterations.\n",
      "  warnings.warn(\"Liblinear failed to converge, increase \"\n"
     ]
    },
    {
     "name": "stdout",
     "output_type": "stream",
     "text": [
      "Feature: 0, Score: 0.01925\n",
      "Feature: 1, Score: 0.04393\n",
      "Feature: 2, Score: 0.00000\n",
      "Feature: 3, Score: 0.01213\n",
      "Feature: 4, Score: 0.00962\n",
      "Feature: 5, Score: 0.03347\n",
      "Feature: 6, Score: 0.00921\n",
      "Feature: 7, Score: 0.00000\n"
     ]
    },
    {
     "data": {
      "image/png": "[encoded data removed]",
      "text/plain": [
       "<Figure size 432x288 with 1 Axes>"
      ]
     },
     "metadata": {
      "needs_background": "light"
     },
     "output_type": "display_data"
    }
   ],
   "source": [
    "import numpy as np\n",
    "import matplotlib.pyplot as plt\n",
    "from matplotlib.colors import ListedColormap\n",
    "from sklearn.model_selection import train_test_split\n",
    "from sklearn.preprocessing import StandardScaler\n",
    "from sklearn.datasets import make_moons, make_circles, make_classification\n",
    "from sklearn.neural_network import MLPClassifier\n",
    "from sklearn.neighbors import KNeighborsClassifier\n",
    "from sklearn.svm import SVC\n",
    "from sklearn.gaussian_process import GaussianProcessClassifier\n",
    "from sklearn.gaussian_process.kernels import RBF\n",
    "from sklearn.tree import DecisionTreeClassifier\n",
    "from sklearn.ensemble import RandomForestClassifier, AdaBoostClassifier\n",
    "from sklearn.naive_bayes import GaussianNB\n",
    "from sklearn.discriminant_analysis import QuadraticDiscriminantAnalysis\n",
    "\n",
    "from sklearn.svm import LinearSVC\n",
    "\n",
    "model = LinearSVC()\n",
    "\n",
    "model.fit(X_train, y_train)\n",
    "\n",
    "# perform permutation importance\n",
    "results = permutation_importance(model, X, y, scoring='accuracy')\n",
    "# get importance\n",
    "importance = results.importances_mean\n",
    "# summarize feature importance\n",
    "for i,v in enumerate(importance):\n",
    "\tprint('Feature: %0d, Score: %.5f' % (i,v))\n",
    "# plot feature importance\n",
    "pyplot.bar([x for x in range(len(importance))], importance)\n",
    "pyplot.show()"
   ]
  },
  {
   "cell_type": "code",
   "execution_count": 20,
   "metadata": {},
   "outputs": [
    {
     "name": "stdout",
     "output_type": "stream",
     "text": [
      "Feature: 0, Score: 0.00418\n",
      "Feature: 1, Score: 0.05649\n",
      "Feature: 2, Score: 0.00000\n",
      "Feature: 3, Score: -0.00167\n",
      "Feature: 4, Score: -0.00251\n",
      "Feature: 5, Score: 0.07992\n",
      "Feature: 6, Score: -0.00335\n",
      "Feature: 7, Score: 0.00000\n"
     ]
    },
    {
     "data": {
      "image/png": "[encoded data removed]",
      "text/plain": [
       "<Figure size 432x288 with 1 Axes>"
      ]
     },
     "metadata": {
      "needs_background": "light"
     },
     "output_type": "display_data"
    }
   ],
   "source": [
    "# linear regression feature importance\n",
    "from sklearn.datasets import make_regression\n",
    "\n",
    "from sklearn.inspection import permutation_importance\n",
    "\n",
    "from sklearn.tree import DecisionTreeClassifier\n",
    "from sklearn.ensemble import RandomForestClassifier\n",
    "from sklearn.neighbors import KNeighborsClassifier\n",
    "\n",
    "\n",
    "from matplotlib import pyplot\n",
    "# define dataset\n",
    "model = KNeighborsClassifier()\n",
    "# fit the model\n",
    "model.fit(X_train, y_train)\n",
    "\n",
    "# perform permutation importance\n",
    "results = permutation_importance(model, X, y, scoring='accuracy')\n",
    "# get importance\n",
    "importance = results.importances_mean\n",
    "# summarize feature importance\n",
    "for i,v in enumerate(importance):\n",
    "\tprint('Feature: %0d, Score: %.5f' % (i,v))\n",
    "# plot feature importance\n",
    "pyplot.bar([x for x in range(len(importance))], importance)\n",
    "pyplot.show()"
   ]
  },
  {
   "cell_type": "code",
   "execution_count": 25,
   "metadata": {},
   "outputs": [
    {
     "data": {
      "text/plain": [
       "0.2916666666666667"
      ]
     },
     "execution_count": 25,
     "metadata": {},
     "output_type": "execute_result"
    }
   ],
   "source": [
    "from sklearn import metrics\n",
    "\n",
    "model.score(X_test, y_test)"
   ]
  }
 ],
 "metadata": {
  "interpreter": {
   "hash": "56fba5a93d342786a90ffe95e361da1e255182c8d0ccdc23e57ce80b634b9f83"
  },
  "kernelspec": {
   "display_name": "Python 3.8.8 ('base')",
   "language": "python",
   "name": "python3"
  },
  "language_info": {
   "codemirror_mode": {
    "name": "ipython",
    "version": 3
   },
   "file_extension": ".py",
   "mimetype": "text/x-python",
   "name": "python",
   "nbconvert_exporter": "python",
   "pygments_lexer": "ipython3",
   "version": "3.8.8"
  },
  "orig_nbformat": 4
 },
 "nbformat": 4,
 "nbformat_minor": 2
}
