{
 "cells": [
  {
   "cell_type": "code",
   "execution_count": 29,
   "id": "59f17478",
   "metadata": {},
   "outputs": [],
   "source": [
    "import pandas as pd\n",
    "import numpy as np \n",
    "import matplotlib.pyplot as plt\n",
    "import seaborn as sns"
   ]
  },
  {
   "cell_type": "code",
   "execution_count": 30,
   "id": "fb6067fd",
   "metadata": {},
   "outputs": [],
   "source": [
    "df=pd.read_csv('DataFrame_Quantidade_Tokens_Personalidades.csv')"
   ]
  },
  {
   "cell_type": "code",
   "execution_count": 31,
   "id": "b66e3306",
   "metadata": {},
   "outputs": [
    {
     "data": {
      "text/html": [
       "<div>\n",
       "<style scoped>\n",
       "    .dataframe tbody tr th:only-of-type {\n",
       "        vertical-align: middle;\n",
       "    }\n",
       "\n",
       "    .dataframe tbody tr th {\n",
       "        vertical-align: top;\n",
       "    }\n",
       "\n",
       "    .dataframe thead th {\n",
       "        text-align: right;\n",
       "    }\n",
       "</style>\n",
       "<table border=\"1\" class=\"dataframe\">\n",
       "  <thead>\n",
       "    <tr style=\"text-align: right;\">\n",
       "      <th></th>\n",
       "      <th>Palavra</th>\n",
       "      <th>Quantidade</th>\n",
       "      <th>INTJ</th>\n",
       "      <th>INFP</th>\n",
       "      <th>INFJ</th>\n",
       "      <th>ENFP</th>\n",
       "      <th>ISTP</th>\n",
       "      <th>INTP</th>\n",
       "      <th>ISFP</th>\n",
       "      <th>ISTJ</th>\n",
       "      <th>ESFP</th>\n",
       "      <th>ESFJ</th>\n",
       "      <th>ENFJ</th>\n",
       "      <th>ESTP</th>\n",
       "      <th>ENTP</th>\n",
       "      <th>ISFJ</th>\n",
       "      <th>ESTJ</th>\n",
       "      <th>ENTJ</th>\n",
       "    </tr>\n",
       "  </thead>\n",
       "  <tbody>\n",
       "    <tr>\n",
       "      <th>0</th>\n",
       "      <td>bitcoin</td>\n",
       "      <td>13241</td>\n",
       "      <td>6813</td>\n",
       "      <td>1851</td>\n",
       "      <td>1301</td>\n",
       "      <td>1495</td>\n",
       "      <td>315</td>\n",
       "      <td>618</td>\n",
       "      <td>314</td>\n",
       "      <td>132</td>\n",
       "      <td>131</td>\n",
       "      <td>77</td>\n",
       "      <td>58</td>\n",
       "      <td>22</td>\n",
       "      <td>68</td>\n",
       "      <td>27</td>\n",
       "      <td>8</td>\n",
       "      <td>11</td>\n",
       "    </tr>\n",
       "    <tr>\n",
       "      <th>1</th>\n",
       "      <td>btc</td>\n",
       "      <td>2851</td>\n",
       "      <td>551</td>\n",
       "      <td>512</td>\n",
       "      <td>456</td>\n",
       "      <td>633</td>\n",
       "      <td>100</td>\n",
       "      <td>203</td>\n",
       "      <td>148</td>\n",
       "      <td>69</td>\n",
       "      <td>41</td>\n",
       "      <td>10</td>\n",
       "      <td>71</td>\n",
       "      <td>3</td>\n",
       "      <td>21</td>\n",
       "      <td>28</td>\n",
       "      <td>0</td>\n",
       "      <td>5</td>\n",
       "    </tr>\n",
       "    <tr>\n",
       "      <th>2</th>\n",
       "      <td>crypto</td>\n",
       "      <td>1071</td>\n",
       "      <td>346</td>\n",
       "      <td>111</td>\n",
       "      <td>290</td>\n",
       "      <td>137</td>\n",
       "      <td>40</td>\n",
       "      <td>47</td>\n",
       "      <td>33</td>\n",
       "      <td>10</td>\n",
       "      <td>24</td>\n",
       "      <td>4</td>\n",
       "      <td>9</td>\n",
       "      <td>0</td>\n",
       "      <td>10</td>\n",
       "      <td>4</td>\n",
       "      <td>0</td>\n",
       "      <td>6</td>\n",
       "    </tr>\n",
       "    <tr>\n",
       "      <th>3</th>\n",
       "      <td>like</td>\n",
       "      <td>989</td>\n",
       "      <td>179</td>\n",
       "      <td>131</td>\n",
       "      <td>89</td>\n",
       "      <td>209</td>\n",
       "      <td>26</td>\n",
       "      <td>287</td>\n",
       "      <td>39</td>\n",
       "      <td>8</td>\n",
       "      <td>3</td>\n",
       "      <td>0</td>\n",
       "      <td>8</td>\n",
       "      <td>0</td>\n",
       "      <td>1</td>\n",
       "      <td>6</td>\n",
       "      <td>0</td>\n",
       "      <td>3</td>\n",
       "    </tr>\n",
       "    <tr>\n",
       "      <th>4</th>\n",
       "      <td>follow</td>\n",
       "      <td>870</td>\n",
       "      <td>40</td>\n",
       "      <td>79</td>\n",
       "      <td>214</td>\n",
       "      <td>51</td>\n",
       "      <td>88</td>\n",
       "      <td>274</td>\n",
       "      <td>77</td>\n",
       "      <td>23</td>\n",
       "      <td>5</td>\n",
       "      <td>0</td>\n",
       "      <td>8</td>\n",
       "      <td>0</td>\n",
       "      <td>2</td>\n",
       "      <td>3</td>\n",
       "      <td>0</td>\n",
       "      <td>6</td>\n",
       "    </tr>\n",
       "  </tbody>\n",
       "</table>\n",
       "</div>"
      ],
      "text/plain": [
       "   Palavra  Quantidade  INTJ  INFP  INFJ  ENFP  ISTP  INTP  ISFP  ISTJ  ESFP  \\\n",
       "0  bitcoin       13241  6813  1851  1301  1495   315   618   314   132   131   \n",
       "1      btc        2851   551   512   456   633   100   203   148    69    41   \n",
       "2   crypto        1071   346   111   290   137    40    47    33    10    24   \n",
       "3     like         989   179   131    89   209    26   287    39     8     3   \n",
       "4   follow         870    40    79   214    51    88   274    77    23     5   \n",
       "\n",
       "   ESFJ  ENFJ  ESTP  ENTP  ISFJ  ESTJ  ENTJ  \n",
       "0    77    58    22    68    27     8    11  \n",
       "1    10    71     3    21    28     0     5  \n",
       "2     4     9     0    10     4     0     6  \n",
       "3     0     8     0     1     6     0     3  \n",
       "4     0     8     0     2     3     0     6  "
      ]
     },
     "execution_count": 31,
     "metadata": {},
     "output_type": "execute_result"
    }
   ],
   "source": [
    "df.head()"
   ]
  },
  {
   "cell_type": "code",
   "execution_count": 32,
   "id": "a8334e8b",
   "metadata": {},
   "outputs": [],
   "source": [
    "df['NT']=df['ENTJ']+df['ENTP']+df['INTJ']+df['INTP']\n",
    "df['SJ']=df['ESTJ']+df['ESFJ']+df['ISTJ']+df['ISFJ']\n",
    "df['SP']=df['ESTP']+df['ESFP']+df['ISTP']+df['ISFP']\n",
    "df['NF']=df['ENFJ']+df['ENFP']+df['INFJ']+df['INFP']"
   ]
  },
  {
   "cell_type": "code",
   "execution_count": 33,
   "id": "d9a8264e",
   "metadata": {},
   "outputs": [
    {
     "data": {
      "text/plain": [
       "Index(['Palavra', 'Quantidade', 'INTJ', 'INFP', 'INFJ', 'ENFP', 'ISTP', 'INTP',\n",
       "       'ISFP', 'ISTJ', 'ESFP', 'ESFJ', 'ENFJ', 'ESTP', 'ENTP', 'ISFJ', 'ESTJ',\n",
       "       'ENTJ', 'NT', 'SJ', 'SP', 'NF'],\n",
       "      dtype='object')"
      ]
     },
     "execution_count": 33,
     "metadata": {},
     "output_type": "execute_result"
    }
   ],
   "source": [
    "df.columns"
   ]
  },
  {
   "cell_type": "code",
   "execution_count": 34,
   "id": "7d4eb9e1",
   "metadata": {},
   "outputs": [],
   "source": [
    "lista=['INTJ', 'INFP', 'INFJ', 'ENFP', 'ISTP', 'INTP',\n",
    "       'ISFP', 'ISTJ', 'ESFP', 'ESFJ', 'ENFJ', 'ESTP', 'ENTP', 'ISFJ', 'ESTJ',\n",
    "       'ENTJ']"
   ]
  },
  {
   "cell_type": "code",
   "execution_count": 35,
   "id": "e35d494e",
   "metadata": {},
   "outputs": [
    {
     "data": {
      "text/plain": [
       "16"
      ]
     },
     "execution_count": 35,
     "metadata": {},
     "output_type": "execute_result"
    }
   ],
   "source": [
    "len(lista)"
   ]
  },
  {
   "cell_type": "code",
   "execution_count": 6,
   "id": "d925a51d",
   "metadata": {},
   "outputs": [],
   "source": [
    "df.drop(lista,axis=1,inplace=True)"
   ]
  },
  {
   "cell_type": "code",
   "execution_count": 7,
   "id": "58e9e651",
   "metadata": {},
   "outputs": [
    {
     "data": {
      "text/html": [
       "<div>\n",
       "<style scoped>\n",
       "    .dataframe tbody tr th:only-of-type {\n",
       "        vertical-align: middle;\n",
       "    }\n",
       "\n",
       "    .dataframe tbody tr th {\n",
       "        vertical-align: top;\n",
       "    }\n",
       "\n",
       "    .dataframe thead th {\n",
       "        text-align: right;\n",
       "    }\n",
       "</style>\n",
       "<table border=\"1\" class=\"dataframe\">\n",
       "  <thead>\n",
       "    <tr style=\"text-align: right;\">\n",
       "      <th></th>\n",
       "      <th>Palavra</th>\n",
       "      <th>Quantidade</th>\n",
       "      <th>NT</th>\n",
       "      <th>SJ</th>\n",
       "      <th>SP</th>\n",
       "      <th>NF</th>\n",
       "    </tr>\n",
       "  </thead>\n",
       "  <tbody>\n",
       "    <tr>\n",
       "      <th>0</th>\n",
       "      <td>bitcoin</td>\n",
       "      <td>13241</td>\n",
       "      <td>7510</td>\n",
       "      <td>244</td>\n",
       "      <td>782</td>\n",
       "      <td>4705</td>\n",
       "    </tr>\n",
       "    <tr>\n",
       "      <th>1</th>\n",
       "      <td>btc</td>\n",
       "      <td>2851</td>\n",
       "      <td>780</td>\n",
       "      <td>107</td>\n",
       "      <td>292</td>\n",
       "      <td>1672</td>\n",
       "    </tr>\n",
       "    <tr>\n",
       "      <th>2</th>\n",
       "      <td>crypto</td>\n",
       "      <td>1071</td>\n",
       "      <td>409</td>\n",
       "      <td>18</td>\n",
       "      <td>97</td>\n",
       "      <td>547</td>\n",
       "    </tr>\n",
       "    <tr>\n",
       "      <th>3</th>\n",
       "      <td>like</td>\n",
       "      <td>989</td>\n",
       "      <td>470</td>\n",
       "      <td>14</td>\n",
       "      <td>68</td>\n",
       "      <td>437</td>\n",
       "    </tr>\n",
       "    <tr>\n",
       "      <th>4</th>\n",
       "      <td>follow</td>\n",
       "      <td>870</td>\n",
       "      <td>322</td>\n",
       "      <td>26</td>\n",
       "      <td>170</td>\n",
       "      <td>352</td>\n",
       "    </tr>\n",
       "    <tr>\n",
       "      <th>...</th>\n",
       "      <td>...</td>\n",
       "      <td>...</td>\n",
       "      <td>...</td>\n",
       "      <td>...</td>\n",
       "      <td>...</td>\n",
       "      <td>...</td>\n",
       "    </tr>\n",
       "    <tr>\n",
       "      <th>1495</th>\n",
       "      <td>projects</td>\n",
       "      <td>18</td>\n",
       "      <td>5</td>\n",
       "      <td>0</td>\n",
       "      <td>1</td>\n",
       "      <td>12</td>\n",
       "    </tr>\n",
       "    <tr>\n",
       "      <th>1496</th>\n",
       "      <td>robinhood</td>\n",
       "      <td>18</td>\n",
       "      <td>9</td>\n",
       "      <td>1</td>\n",
       "      <td>4</td>\n",
       "      <td>4</td>\n",
       "    </tr>\n",
       "    <tr>\n",
       "      <th>1497</th>\n",
       "      <td>actual</td>\n",
       "      <td>18</td>\n",
       "      <td>12</td>\n",
       "      <td>1</td>\n",
       "      <td>1</td>\n",
       "      <td>4</td>\n",
       "    </tr>\n",
       "    <tr>\n",
       "      <th>1498</th>\n",
       "      <td>helping</td>\n",
       "      <td>18</td>\n",
       "      <td>10</td>\n",
       "      <td>1</td>\n",
       "      <td>0</td>\n",
       "      <td>7</td>\n",
       "    </tr>\n",
       "    <tr>\n",
       "      <th>1499</th>\n",
       "      <td>allows</td>\n",
       "      <td>18</td>\n",
       "      <td>10</td>\n",
       "      <td>1</td>\n",
       "      <td>2</td>\n",
       "      <td>5</td>\n",
       "    </tr>\n",
       "  </tbody>\n",
       "</table>\n",
       "<p>1500 rows × 6 columns</p>\n",
       "</div>"
      ],
      "text/plain": [
       "        Palavra  Quantidade    NT   SJ   SP    NF\n",
       "0       bitcoin       13241  7510  244  782  4705\n",
       "1           btc        2851   780  107  292  1672\n",
       "2        crypto        1071   409   18   97   547\n",
       "3          like         989   470   14   68   437\n",
       "4        follow         870   322   26  170   352\n",
       "...         ...         ...   ...  ...  ...   ...\n",
       "1495   projects          18     5    0    1    12\n",
       "1496  robinhood          18     9    1    4     4\n",
       "1497     actual          18    12    1    1     4\n",
       "1498    helping          18    10    1    0     7\n",
       "1499     allows          18    10    1    2     5\n",
       "\n",
       "[1500 rows x 6 columns]"
      ]
     },
     "execution_count": 7,
     "metadata": {},
     "output_type": "execute_result"
    }
   ],
   "source": [
    "df"
   ]
  },
  {
   "cell_type": "code",
   "execution_count": 9,
   "id": "7ee7cd83",
   "metadata": {},
   "outputs": [
    {
     "data": {
      "text/plain": [
       "(array([   0.,    0.,    0.,    0.,    0., 1500.,    0.,    0.,    0.,\n",
       "           0.]),\n",
       " array([-0.5, -0.4, -0.3, -0.2, -0.1,  0. ,  0.1,  0.2,  0.3,  0.4,  0.5]),\n",
       " <BarContainer object of 10 artists>)"
      ]
     },
     "execution_count": 9,
     "metadata": {},
     "output_type": "execute_result"
    },
    {
     "data": {
      "image/png": "[encoded data removed]",
      "text/plain": [
       "<Figure size 432x288 with 1 Axes>"
      ]
     },
     "metadata": {
      "needs_background": "light"
     },
     "output_type": "display_data"
    }
   ],
   "source": [
    "plt.hist((df[['NT', 'SJ', 'SP', 'NF']].sum(axis=1).values - df.Quantidade.values))"
   ]
  },
  {
   "cell_type": "code",
   "execution_count": 11,
   "id": "6ef2c2cc",
   "metadata": {},
   "outputs": [
    {
     "data": {
      "text/html": [
       "<div>\n",
       "<style scoped>\n",
       "    .dataframe tbody tr th:only-of-type {\n",
       "        vertical-align: middle;\n",
       "    }\n",
       "\n",
       "    .dataframe tbody tr th {\n",
       "        vertical-align: top;\n",
       "    }\n",
       "\n",
       "    .dataframe thead th {\n",
       "        text-align: right;\n",
       "    }\n",
       "</style>\n",
       "<table border=\"1\" class=\"dataframe\">\n",
       "  <thead>\n",
       "    <tr style=\"text-align: right;\">\n",
       "      <th></th>\n",
       "      <th>Palavra</th>\n",
       "      <th>Quantidade</th>\n",
       "      <th>NT</th>\n",
       "      <th>SJ</th>\n",
       "      <th>SP</th>\n",
       "      <th>NF</th>\n",
       "    </tr>\n",
       "  </thead>\n",
       "  <tbody>\n",
       "    <tr>\n",
       "      <th>2</th>\n",
       "      <td>crypto</td>\n",
       "      <td>1071</td>\n",
       "      <td>409</td>\n",
       "      <td>18</td>\n",
       "      <td>97</td>\n",
       "      <td>547</td>\n",
       "    </tr>\n",
       "    <tr>\n",
       "      <th>3</th>\n",
       "      <td>like</td>\n",
       "      <td>989</td>\n",
       "      <td>470</td>\n",
       "      <td>14</td>\n",
       "      <td>68</td>\n",
       "      <td>437</td>\n",
       "    </tr>\n",
       "    <tr>\n",
       "      <th>4</th>\n",
       "      <td>follow</td>\n",
       "      <td>870</td>\n",
       "      <td>322</td>\n",
       "      <td>26</td>\n",
       "      <td>170</td>\n",
       "      <td>352</td>\n",
       "    </tr>\n",
       "    <tr>\n",
       "      <th>5</th>\n",
       "      <td>giveaway</td>\n",
       "      <td>805</td>\n",
       "      <td>281</td>\n",
       "      <td>24</td>\n",
       "      <td>122</td>\n",
       "      <td>378</td>\n",
       "    </tr>\n",
       "    <tr>\n",
       "      <th>6</th>\n",
       "      <td>hours</td>\n",
       "      <td>799</td>\n",
       "      <td>249</td>\n",
       "      <td>3</td>\n",
       "      <td>170</td>\n",
       "      <td>377</td>\n",
       "    </tr>\n",
       "    <tr>\n",
       "      <th>7</th>\n",
       "      <td>people</td>\n",
       "      <td>779</td>\n",
       "      <td>361</td>\n",
       "      <td>33</td>\n",
       "      <td>95</td>\n",
       "      <td>290</td>\n",
       "    </tr>\n",
       "    <tr>\n",
       "      <th>8</th>\n",
       "      <td>eth</td>\n",
       "      <td>759</td>\n",
       "      <td>213</td>\n",
       "      <td>21</td>\n",
       "      <td>87</td>\n",
       "      <td>438</td>\n",
       "    </tr>\n",
       "    <tr>\n",
       "      <th>9</th>\n",
       "      <td>retweet</td>\n",
       "      <td>731</td>\n",
       "      <td>157</td>\n",
       "      <td>6</td>\n",
       "      <td>200</td>\n",
       "      <td>368</td>\n",
       "    </tr>\n",
       "  </tbody>\n",
       "</table>\n",
       "</div>"
      ],
      "text/plain": [
       "    Palavra  Quantidade   NT  SJ   SP   NF\n",
       "2    crypto        1071  409  18   97  547\n",
       "3      like         989  470  14   68  437\n",
       "4    follow         870  322  26  170  352\n",
       "5  giveaway         805  281  24  122  378\n",
       "6     hours         799  249   3  170  377\n",
       "7    people         779  361  33   95  290\n",
       "8       eth         759  213  21   87  438\n",
       "9   retweet         731  157   6  200  368"
      ]
     },
     "execution_count": 11,
     "metadata": {},
     "output_type": "execute_result"
    }
   ],
   "source": [
    "df[2:10]"
   ]
  },
  {
   "cell_type": "code",
   "execution_count": null,
   "id": "e61a8f4f",
   "metadata": {},
   "outputs": [],
   "source": []
  },
  {
   "cell_type": "code",
   "execution_count": 10,
   "id": "20c15508",
   "metadata": {},
   "outputs": [
    {
     "data": {
      "text/plain": [
       "Index(['Palavra', 'Quantidade', 'NT', 'SJ', 'SP', 'NF'], dtype='object')"
      ]
     },
     "execution_count": 10,
     "metadata": {},
     "output_type": "execute_result"
    }
   ],
   "source": [
    "df.columns"
   ]
  },
  {
   "cell_type": "code",
   "execution_count": 11,
   "id": "f07886d3",
   "metadata": {},
   "outputs": [
    {
     "data": {
      "text/plain": [
       "<AxesSubplot:>"
      ]
     },
     "execution_count": 11,
     "metadata": {},
     "output_type": "execute_result"
    },
    {
     "data": {
      "image/png": "[encoded data removed]",
      "text/plain": [
       "<Figure size 720x720 with 2 Axes>"
      ]
     },
     "metadata": {
      "needs_background": "light"
     },
     "output_type": "display_data"
    }
   ],
   "source": [
    "plt.figure(figsize=(10,10))\n",
    "sns.heatmap(df[2:10].drop('Quantidade',axis=1).corr(),cmap='BrBG',annot=True,vmin=-1,vmax=1)"
   ]
  },
  {
   "cell_type": "code",
   "execution_count": 19,
   "id": "361f6566",
   "metadata": {},
   "outputs": [
    {
     "data": {
      "text/plain": [
       "<AxesSubplot:>"
      ]
     },
     "execution_count": 19,
     "metadata": {},
     "output_type": "execute_result"
    },
    {
     "data": {
      "image/png": "[encoded data removed]",
      "text/plain": [
       "<Figure size 720x720 with 2 Axes>"
      ]
     },
     "metadata": {
      "needs_background": "light"
     },
     "output_type": "display_data"
    }
   ],
   "source": [
    "plt.figure(figsize=(10,10))\n",
    "sns.heatmap(df[2:10].drop('Quantidade',axis=1).corr(method='spearman'),cmap='BrBG',annot=True,vmin=-1,vmax=1)"
   ]
  },
  {
   "cell_type": "code",
   "execution_count": 15,
   "id": "fd7d4024",
   "metadata": {},
   "outputs": [
    {
     "data": {
      "text/plain": [
       "0        13241\n",
       "1        16092\n",
       "2        17163\n",
       "3        18152\n",
       "4        19022\n",
       "         ...  \n",
       "1495    121859\n",
       "1496    121877\n",
       "1497    121895\n",
       "1498    121913\n",
       "1499    121931\n",
       "Name: Quantidade, Length: 1500, dtype: int64"
      ]
     },
     "execution_count": 15,
     "metadata": {},
     "output_type": "execute_result"
    }
   ],
   "source": [
    "df.Quantidade.cumsum()"
   ]
  },
  {
   "cell_type": "code",
   "execution_count": 20,
   "id": "900d36c1",
   "metadata": {},
   "outputs": [
    {
     "data": {
      "text/plain": [
       "<AxesSubplot:>"
      ]
     },
     "execution_count": 20,
     "metadata": {},
     "output_type": "execute_result"
    },
    {
     "data": {
      "image/png": "[encoded data removed]",
      "text/plain": [
       "<Figure size 432x288 with 1 Axes>"
      ]
     },
     "metadata": {
      "needs_background": "light"
     },
     "output_type": "display_data"
    }
   ],
   "source": [
    "(df.Quantidade.cumsum()/102384).plot()"
   ]
  },
  {
   "cell_type": "code",
   "execution_count": 17,
   "id": "c049f5de",
   "metadata": {},
   "outputs": [
    {
     "data": {
      "text/html": [
       "<div>\n",
       "<style scoped>\n",
       "    .dataframe tbody tr th:only-of-type {\n",
       "        vertical-align: middle;\n",
       "    }\n",
       "\n",
       "    .dataframe tbody tr th {\n",
       "        vertical-align: top;\n",
       "    }\n",
       "\n",
       "    .dataframe thead th {\n",
       "        text-align: right;\n",
       "    }\n",
       "</style>\n",
       "<table border=\"1\" class=\"dataframe\">\n",
       "  <thead>\n",
       "    <tr style=\"text-align: right;\">\n",
       "      <th></th>\n",
       "      <th>Palavra</th>\n",
       "      <th>Quantidade</th>\n",
       "      <th>NT</th>\n",
       "      <th>SJ</th>\n",
       "      <th>SP</th>\n",
       "      <th>NF</th>\n",
       "    </tr>\n",
       "  </thead>\n",
       "  <tbody>\n",
       "    <tr>\n",
       "      <th>3</th>\n",
       "      <td>like</td>\n",
       "      <td>989</td>\n",
       "      <td>470</td>\n",
       "      <td>14</td>\n",
       "      <td>68</td>\n",
       "      <td>437</td>\n",
       "    </tr>\n",
       "    <tr>\n",
       "      <th>2</th>\n",
       "      <td>crypto</td>\n",
       "      <td>1071</td>\n",
       "      <td>409</td>\n",
       "      <td>18</td>\n",
       "      <td>97</td>\n",
       "      <td>547</td>\n",
       "    </tr>\n",
       "    <tr>\n",
       "      <th>7</th>\n",
       "      <td>people</td>\n",
       "      <td>779</td>\n",
       "      <td>361</td>\n",
       "      <td>33</td>\n",
       "      <td>95</td>\n",
       "      <td>290</td>\n",
       "    </tr>\n",
       "    <tr>\n",
       "      <th>13</th>\n",
       "      <td>money</td>\n",
       "      <td>682</td>\n",
       "      <td>345</td>\n",
       "      <td>16</td>\n",
       "      <td>41</td>\n",
       "      <td>280</td>\n",
       "    </tr>\n",
       "    <tr>\n",
       "      <th>11</th>\n",
       "      <td>buy</td>\n",
       "      <td>714</td>\n",
       "      <td>322</td>\n",
       "      <td>29</td>\n",
       "      <td>42</td>\n",
       "      <td>321</td>\n",
       "    </tr>\n",
       "    <tr>\n",
       "      <th>4</th>\n",
       "      <td>follow</td>\n",
       "      <td>870</td>\n",
       "      <td>322</td>\n",
       "      <td>26</td>\n",
       "      <td>170</td>\n",
       "      <td>352</td>\n",
       "    </tr>\n",
       "    <tr>\n",
       "      <th>12</th>\n",
       "      <td>time</td>\n",
       "      <td>692</td>\n",
       "      <td>315</td>\n",
       "      <td>26</td>\n",
       "      <td>44</td>\n",
       "      <td>307</td>\n",
       "    </tr>\n",
       "    <tr>\n",
       "      <th>15</th>\n",
       "      <td>price</td>\n",
       "      <td>637</td>\n",
       "      <td>310</td>\n",
       "      <td>15</td>\n",
       "      <td>32</td>\n",
       "      <td>280</td>\n",
       "    </tr>\n",
       "    <tr>\n",
       "      <th>10</th>\n",
       "      <td>new</td>\n",
       "      <td>716</td>\n",
       "      <td>307</td>\n",
       "      <td>16</td>\n",
       "      <td>45</td>\n",
       "      <td>348</td>\n",
       "    </tr>\n",
       "    <tr>\n",
       "      <th>16</th>\n",
       "      <td>gold</td>\n",
       "      <td>584</td>\n",
       "      <td>302</td>\n",
       "      <td>13</td>\n",
       "      <td>22</td>\n",
       "      <td>247</td>\n",
       "    </tr>\n",
       "    <tr>\n",
       "      <th>14</th>\n",
       "      <td>market</td>\n",
       "      <td>638</td>\n",
       "      <td>298</td>\n",
       "      <td>12</td>\n",
       "      <td>21</td>\n",
       "      <td>307</td>\n",
       "    </tr>\n",
       "    <tr>\n",
       "      <th>5</th>\n",
       "      <td>giveaway</td>\n",
       "      <td>805</td>\n",
       "      <td>281</td>\n",
       "      <td>24</td>\n",
       "      <td>122</td>\n",
       "      <td>378</td>\n",
       "    </tr>\n",
       "  </tbody>\n",
       "</table>\n",
       "</div>"
      ],
      "text/plain": [
       "     Palavra  Quantidade   NT  SJ   SP   NF\n",
       "3       like         989  470  14   68  437\n",
       "2     crypto        1071  409  18   97  547\n",
       "7     people         779  361  33   95  290\n",
       "13     money         682  345  16   41  280\n",
       "11       buy         714  322  29   42  321\n",
       "4     follow         870  322  26  170  352\n",
       "12      time         692  315  26   44  307\n",
       "15     price         637  310  15   32  280\n",
       "10       new         716  307  16   45  348\n",
       "16      gold         584  302  13   22  247\n",
       "14    market         638  298  12   21  307\n",
       "5   giveaway         805  281  24  122  378"
      ]
     },
     "execution_count": 17,
     "metadata": {},
     "output_type": "execute_result"
    }
   ],
   "source": [
    "df[2:20].sort_values('NT',ascending=False).head(12)"
   ]
  },
  {
   "cell_type": "code",
   "execution_count": 18,
   "id": "ee64282c",
   "metadata": {},
   "outputs": [
    {
     "data": {
      "text/html": [
       "<div>\n",
       "<style scoped>\n",
       "    .dataframe tbody tr th:only-of-type {\n",
       "        vertical-align: middle;\n",
       "    }\n",
       "\n",
       "    .dataframe tbody tr th {\n",
       "        vertical-align: top;\n",
       "    }\n",
       "\n",
       "    .dataframe thead th {\n",
       "        text-align: right;\n",
       "    }\n",
       "</style>\n",
       "<table border=\"1\" class=\"dataframe\">\n",
       "  <thead>\n",
       "    <tr style=\"text-align: right;\">\n",
       "      <th></th>\n",
       "      <th>Palavra</th>\n",
       "      <th>Quantidade</th>\n",
       "      <th>NT</th>\n",
       "      <th>SJ</th>\n",
       "      <th>SP</th>\n",
       "      <th>NF</th>\n",
       "    </tr>\n",
       "  </thead>\n",
       "  <tbody>\n",
       "    <tr>\n",
       "      <th>9</th>\n",
       "      <td>retweet</td>\n",
       "      <td>731</td>\n",
       "      <td>157</td>\n",
       "      <td>6</td>\n",
       "      <td>200</td>\n",
       "      <td>368</td>\n",
       "    </tr>\n",
       "    <tr>\n",
       "      <th>4</th>\n",
       "      <td>follow</td>\n",
       "      <td>870</td>\n",
       "      <td>322</td>\n",
       "      <td>26</td>\n",
       "      <td>170</td>\n",
       "      <td>352</td>\n",
       "    </tr>\n",
       "    <tr>\n",
       "      <th>6</th>\n",
       "      <td>hours</td>\n",
       "      <td>799</td>\n",
       "      <td>249</td>\n",
       "      <td>3</td>\n",
       "      <td>170</td>\n",
       "      <td>377</td>\n",
       "    </tr>\n",
       "    <tr>\n",
       "      <th>5</th>\n",
       "      <td>giveaway</td>\n",
       "      <td>805</td>\n",
       "      <td>281</td>\n",
       "      <td>24</td>\n",
       "      <td>122</td>\n",
       "      <td>378</td>\n",
       "    </tr>\n",
       "    <tr>\n",
       "      <th>2</th>\n",
       "      <td>crypto</td>\n",
       "      <td>1071</td>\n",
       "      <td>409</td>\n",
       "      <td>18</td>\n",
       "      <td>97</td>\n",
       "      <td>547</td>\n",
       "    </tr>\n",
       "    <tr>\n",
       "      <th>7</th>\n",
       "      <td>people</td>\n",
       "      <td>779</td>\n",
       "      <td>361</td>\n",
       "      <td>33</td>\n",
       "      <td>95</td>\n",
       "      <td>290</td>\n",
       "    </tr>\n",
       "    <tr>\n",
       "      <th>8</th>\n",
       "      <td>eth</td>\n",
       "      <td>759</td>\n",
       "      <td>213</td>\n",
       "      <td>21</td>\n",
       "      <td>87</td>\n",
       "      <td>438</td>\n",
       "    </tr>\n",
       "    <tr>\n",
       "      <th>3</th>\n",
       "      <td>like</td>\n",
       "      <td>989</td>\n",
       "      <td>470</td>\n",
       "      <td>14</td>\n",
       "      <td>68</td>\n",
       "      <td>437</td>\n",
       "    </tr>\n",
       "  </tbody>\n",
       "</table>\n",
       "</div>"
      ],
      "text/plain": [
       "    Palavra  Quantidade   NT  SJ   SP   NF\n",
       "9   retweet         731  157   6  200  368\n",
       "4    follow         870  322  26  170  352\n",
       "6     hours         799  249   3  170  377\n",
       "5  giveaway         805  281  24  122  378\n",
       "2    crypto        1071  409  18   97  547\n",
       "7    people         779  361  33   95  290\n",
       "8       eth         759  213  21   87  438\n",
       "3      like         989  470  14   68  437"
      ]
     },
     "execution_count": 18,
     "metadata": {},
     "output_type": "execute_result"
    }
   ],
   "source": [
    "df[2:10].sort_values('SP',ascending=False).head(12)"
   ]
  },
  {
   "cell_type": "code",
   "execution_count": 19,
   "id": "24a8b620",
   "metadata": {},
   "outputs": [
    {
     "data": {
      "text/plain": [
       "<seaborn.axisgrid.PairGrid at 0x7f3faab01e50>"
      ]
     },
     "execution_count": 19,
     "metadata": {},
     "output_type": "execute_result"
    },
    {
     "data": {
      "image/png": "[encoded data removed]",
      "text/plain": [
       "<Figure size 720x720 with 20 Axes>"
      ]
     },
     "metadata": {
      "needs_background": "light"
     },
     "output_type": "display_data"
    }
   ],
   "source": [
    "sns.pairplot(df[2:100].drop('Quantidade',axis=1))"
   ]
  },
  {
   "cell_type": "code",
   "execution_count": 20,
   "id": "57fe1495",
   "metadata": {},
   "outputs": [
    {
     "data": {
      "text/html": [
       "<div>\n",
       "<style scoped>\n",
       "    .dataframe tbody tr th:only-of-type {\n",
       "        vertical-align: middle;\n",
       "    }\n",
       "\n",
       "    .dataframe tbody tr th {\n",
       "        vertical-align: top;\n",
       "    }\n",
       "\n",
       "    .dataframe thead th {\n",
       "        text-align: right;\n",
       "    }\n",
       "</style>\n",
       "<table border=\"1\" class=\"dataframe\">\n",
       "  <thead>\n",
       "    <tr style=\"text-align: right;\">\n",
       "      <th></th>\n",
       "      <th>Palavra</th>\n",
       "      <th>Quantidade</th>\n",
       "      <th>NT</th>\n",
       "      <th>SJ</th>\n",
       "      <th>SP</th>\n",
       "      <th>NF</th>\n",
       "    </tr>\n",
       "  </thead>\n",
       "  <tbody>\n",
       "    <tr>\n",
       "      <th>0</th>\n",
       "      <td>bitcoin</td>\n",
       "      <td>13241</td>\n",
       "      <td>7510</td>\n",
       "      <td>244</td>\n",
       "      <td>782</td>\n",
       "      <td>4705</td>\n",
       "    </tr>\n",
       "    <tr>\n",
       "      <th>1</th>\n",
       "      <td>btc</td>\n",
       "      <td>2851</td>\n",
       "      <td>780</td>\n",
       "      <td>107</td>\n",
       "      <td>292</td>\n",
       "      <td>1672</td>\n",
       "    </tr>\n",
       "    <tr>\n",
       "      <th>24</th>\n",
       "      <td>years</td>\n",
       "      <td>480</td>\n",
       "      <td>205</td>\n",
       "      <td>47</td>\n",
       "      <td>19</td>\n",
       "      <td>209</td>\n",
       "    </tr>\n",
       "    <tr>\n",
       "      <th>7</th>\n",
       "      <td>people</td>\n",
       "      <td>779</td>\n",
       "      <td>361</td>\n",
       "      <td>33</td>\n",
       "      <td>95</td>\n",
       "      <td>290</td>\n",
       "    </tr>\n",
       "    <tr>\n",
       "      <th>42</th>\n",
       "      <td>tesla</td>\n",
       "      <td>316</td>\n",
       "      <td>135</td>\n",
       "      <td>32</td>\n",
       "      <td>21</td>\n",
       "      <td>128</td>\n",
       "    </tr>\n",
       "    <tr>\n",
       "      <th>...</th>\n",
       "      <td>...</td>\n",
       "      <td>...</td>\n",
       "      <td>...</td>\n",
       "      <td>...</td>\n",
       "      <td>...</td>\n",
       "      <td>...</td>\n",
       "    </tr>\n",
       "    <tr>\n",
       "      <th>986</th>\n",
       "      <td>hrs</td>\n",
       "      <td>29</td>\n",
       "      <td>5</td>\n",
       "      <td>0</td>\n",
       "      <td>18</td>\n",
       "      <td>6</td>\n",
       "    </tr>\n",
       "    <tr>\n",
       "      <th>451</th>\n",
       "      <td>isnt</td>\n",
       "      <td>59</td>\n",
       "      <td>25</td>\n",
       "      <td>0</td>\n",
       "      <td>4</td>\n",
       "      <td>30</td>\n",
       "    </tr>\n",
       "    <tr>\n",
       "      <th>990</th>\n",
       "      <td>sense</td>\n",
       "      <td>29</td>\n",
       "      <td>11</td>\n",
       "      <td>0</td>\n",
       "      <td>3</td>\n",
       "      <td>15</td>\n",
       "    </tr>\n",
       "    <tr>\n",
       "      <th>446</th>\n",
       "      <td>customers</td>\n",
       "      <td>60</td>\n",
       "      <td>48</td>\n",
       "      <td>0</td>\n",
       "      <td>2</td>\n",
       "      <td>10</td>\n",
       "    </tr>\n",
       "    <tr>\n",
       "      <th>1086</th>\n",
       "      <td>begin</td>\n",
       "      <td>26</td>\n",
       "      <td>14</td>\n",
       "      <td>0</td>\n",
       "      <td>1</td>\n",
       "      <td>11</td>\n",
       "    </tr>\n",
       "  </tbody>\n",
       "</table>\n",
       "<p>1500 rows × 6 columns</p>\n",
       "</div>"
      ],
      "text/plain": [
       "        Palavra  Quantidade    NT   SJ   SP    NF\n",
       "0       bitcoin       13241  7510  244  782  4705\n",
       "1           btc        2851   780  107  292  1672\n",
       "24        years         480   205   47   19   209\n",
       "7        people         779   361   33   95   290\n",
       "42        tesla         316   135   32   21   128\n",
       "...         ...         ...   ...  ...  ...   ...\n",
       "986         hrs          29     5    0   18     6\n",
       "451        isnt          59    25    0    4    30\n",
       "990       sense          29    11    0    3    15\n",
       "446   customers          60    48    0    2    10\n",
       "1086      begin          26    14    0    1    11\n",
       "\n",
       "[1500 rows x 6 columns]"
      ]
     },
     "execution_count": 20,
     "metadata": {},
     "output_type": "execute_result"
    }
   ],
   "source": [
    "df.sort_values('SJ',ascending=False)"
   ]
  },
  {
   "cell_type": "code",
   "execution_count": 22,
   "id": "ca9d39aa",
   "metadata": {},
   "outputs": [
    {
     "name": "stdout",
     "output_type": "stream",
     "text": [
      " analise1.ipynb\r\n",
      "'dados antigos'\r\n",
      " Dados_Usuarios.csv\r\n",
      " DataFrame_Quantidade_Tokens_Personalidades.csv\r\n",
      " Paulo1.ipynb\r\n",
      "'Personalidades_Usuarios(Certo).csv'\r\n",
      " Personalidade_usuarios.csv\r\n"
     ]
    }
   ],
   "source": [
    "!ls\n"
   ]
  },
  {
   "cell_type": "code",
   "execution_count": 51,
   "id": "f7a7f5db",
   "metadata": {},
   "outputs": [],
   "source": [
    "du=pd.read_csv('Personalidades_Usuarios.csv')"
   ]
  },
  {
   "cell_type": "code",
   "execution_count": 53,
   "id": "0cee4bf8",
   "metadata": {},
   "outputs": [
    {
     "name": "stdout",
     "output_type": "stream",
     "text": [
      "<class 'pandas.core.frame.DataFrame'>\n",
      "RangeIndex: 500 entries, 0 to 499\n",
      "Data columns (total 4 columns):\n",
      " #   Column                 Non-Null Count  Dtype  \n",
      "---  ------                 --------------  -----  \n",
      " 0   Usuario                499 non-null    object \n",
      " 1   Texto                  500 non-null    object \n",
      " 2   Personalidade          500 non-null    object \n",
      " 3   Valor_TfidfVectorizer  500 non-null    float64\n",
      "dtypes: float64(1), object(3)\n",
      "memory usage: 15.8+ KB\n"
     ]
    }
   ],
   "source": [
    "du.info()"
   ]
  },
  {
   "cell_type": "code",
   "execution_count": 54,
   "id": "5c67f066",
   "metadata": {},
   "outputs": [
    {
     "data": {
      "text/html": [
       "<div>\n",
       "<style scoped>\n",
       "    .dataframe tbody tr th:only-of-type {\n",
       "        vertical-align: middle;\n",
       "    }\n",
       "\n",
       "    .dataframe tbody tr th {\n",
       "        vertical-align: top;\n",
       "    }\n",
       "\n",
       "    .dataframe thead th {\n",
       "        text-align: right;\n",
       "    }\n",
       "</style>\n",
       "<table border=\"1\" class=\"dataframe\">\n",
       "  <thead>\n",
       "    <tr style=\"text-align: right;\">\n",
       "      <th></th>\n",
       "      <th>Usuario</th>\n",
       "      <th>Texto</th>\n",
       "      <th>Personalidade</th>\n",
       "      <th>Valor_TfidfVectorizer</th>\n",
       "    </tr>\n",
       "  </thead>\n",
       "  <tbody>\n",
       "    <tr>\n",
       "      <th>0</th>\n",
       "      <td>BTC_Archive</td>\n",
       "      <td>Whales scooping up #Bitcoin from all the weak ...</td>\n",
       "      <td>INTJ</td>\n",
       "      <td>0.0529</td>\n",
       "    </tr>\n",
       "    <tr>\n",
       "      <th>1</th>\n",
       "      <td>DocumentingBTC</td>\n",
       "      <td>This year, #Bitcoin surpassed these nation's c...</td>\n",
       "      <td>INTJ</td>\n",
       "      <td>0.0555</td>\n",
       "    </tr>\n",
       "    <tr>\n",
       "      <th>2</th>\n",
       "      <td>BitcoinMagazine</td>\n",
       "      <td>Can you guess the #bitcoin price at the time o...</td>\n",
       "      <td>INTJ</td>\n",
       "      <td>0.0491</td>\n",
       "    </tr>\n",
       "    <tr>\n",
       "      <th>3</th>\n",
       "      <td>saylor</td>\n",
       "      <td>MicroStrategy Adopts #Bitcoin as Primary Treas...</td>\n",
       "      <td>INTJ</td>\n",
       "      <td>0.0559</td>\n",
       "    </tr>\n",
       "    <tr>\n",
       "      <th>4</th>\n",
       "      <td>APompliano</td>\n",
       "      <td>I want everyone to learn about Bitcoin.  To mo...</td>\n",
       "      <td>INTJ</td>\n",
       "      <td>0.0644</td>\n",
       "    </tr>\n",
       "  </tbody>\n",
       "</table>\n",
       "</div>"
      ],
      "text/plain": [
       "            Usuario                                              Texto  \\\n",
       "0       BTC_Archive  Whales scooping up #Bitcoin from all the weak ...   \n",
       "1    DocumentingBTC  This year, #Bitcoin surpassed these nation's c...   \n",
       "2   BitcoinMagazine  Can you guess the #bitcoin price at the time o...   \n",
       "3            saylor  MicroStrategy Adopts #Bitcoin as Primary Treas...   \n",
       "4        APompliano  I want everyone to learn about Bitcoin.  To mo...   \n",
       "\n",
       "  Personalidade  Valor_TfidfVectorizer  \n",
       "0          INTJ                 0.0529  \n",
       "1          INTJ                 0.0555  \n",
       "2          INTJ                 0.0491  \n",
       "3          INTJ                 0.0559  \n",
       "4          INTJ                 0.0644  "
      ]
     },
     "execution_count": 54,
     "metadata": {},
     "output_type": "execute_result"
    }
   ],
   "source": [
    "du.head()"
   ]
  },
  {
   "cell_type": "code",
   "execution_count": 55,
   "id": "8843db6e",
   "metadata": {},
   "outputs": [
    {
     "name": "stderr",
     "output_type": "stream",
     "text": [
      "c:\\Python310\\lib\\site-packages\\seaborn\\_decorators.py:36: FutureWarning: Pass the following variable as a keyword arg: x. From version 0.12, the only valid positional argument will be `data`, and passing other arguments without an explicit keyword will result in an error or misinterpretation.\n",
      "  warnings.warn(\n"
     ]
    },
    {
     "data": {
      "text/plain": [
       "<AxesSubplot:xlabel='Personalidade', ylabel='count'>"
      ]
     },
     "execution_count": 55,
     "metadata": {},
     "output_type": "execute_result"
    },
    {
     "data": {
      "image/png": "[encoded data removed]",
      "text/plain": [
       "<Figure size 432x288 with 1 Axes>"
      ]
     },
     "metadata": {
      "needs_background": "light"
     },
     "output_type": "display_data"
    }
   ],
   "source": [
    "sns.countplot(du.Personalidade)"
   ]
  },
  {
   "cell_type": "code",
   "execution_count": null,
   "id": "6357eaed",
   "metadata": {},
   "outputs": [],
   "source": []
  },
  {
   "cell_type": "code",
   "execution_count": 56,
   "id": "31262f07",
   "metadata": {},
   "outputs": [],
   "source": [
    "macro=[]\n",
    "NT=['ENTJ','ENTP','INTJ','INTP']\n",
    "SJ=['ESTJ','ESFJ','ISTJ','ISFJ']\n",
    "SP=['ESTP','ESFP','ISTP','ISFP']\n",
    "NF=['ENFJ','ENFP','INFJ','INFP']\n",
    "\n",
    "for i in range(len(du)):\n",
    "    p=du.Personalidade.iloc[i]\n",
    "    if p in NT:\n",
    "        macro.append('NT')\n",
    "    if p in SJ:\n",
    "        macro.append('SJ')\n",
    "    if p in SP:\n",
    "        macro.append('SP')\n",
    "    if p in NF:\n",
    "        macro.append('NF')\n",
    "    "
   ]
  },
  {
   "cell_type": "code",
   "execution_count": 57,
   "id": "a14ef00b",
   "metadata": {},
   "outputs": [],
   "source": [
    "du['MACRO']=macro"
   ]
  },
  {
   "cell_type": "code",
   "execution_count": 58,
   "id": "4a6c94b3",
   "metadata": {},
   "outputs": [
    {
     "data": {
      "text/plain": [
       "NF    0.568\n",
       "NT    0.274\n",
       "SP    0.116\n",
       "SJ    0.042\n",
       "Name: MACRO, dtype: float64"
      ]
     },
     "execution_count": 58,
     "metadata": {},
     "output_type": "execute_result"
    }
   ],
   "source": [
    "du.MACRO.value_counts(normalize=True)"
   ]
  },
  {
   "cell_type": "code",
   "execution_count": 59,
   "id": "b083cd9d",
   "metadata": {},
   "outputs": [
    {
     "name": "stderr",
     "output_type": "stream",
     "text": [
      "c:\\Python310\\lib\\site-packages\\seaborn\\_decorators.py:36: FutureWarning: Pass the following variable as a keyword arg: x. From version 0.12, the only valid positional argument will be `data`, and passing other arguments without an explicit keyword will result in an error or misinterpretation.\n",
      "  warnings.warn(\n"
     ]
    },
    {
     "data": {
      "text/plain": [
       "<AxesSubplot:xlabel='MACRO', ylabel='count'>"
      ]
     },
     "execution_count": 59,
     "metadata": {},
     "output_type": "execute_result"
    },
    {
     "data": {
      "image/png": "[encoded data removed]",
      "text/plain": [
       "<Figure size 432x288 with 1 Axes>"
      ]
     },
     "metadata": {
      "needs_background": "light"
     },
     "output_type": "display_data"
    }
   ],
   "source": [
    "sns.countplot(du.MACRO)"
   ]
  },
  {
   "cell_type": "code",
   "execution_count": 20,
   "id": "9edbb0aa",
   "metadata": {},
   "outputs": [
    {
     "name": "stderr",
     "output_type": "stream",
     "text": [
      "c:\\Python310\\lib\\site-packages\\seaborn\\_decorators.py:36: FutureWarning: Pass the following variable as a keyword arg: x. From version 0.12, the only valid positional argument will be `data`, and passing other arguments without an explicit keyword will result in an error or misinterpretation.\n",
      "  warnings.warn(\n"
     ]
    },
    {
     "data": {
      "text/plain": [
       "<AxesSubplot:xlabel='Personalidade', ylabel='count'>"
      ]
     },
     "execution_count": 20,
     "metadata": {},
     "output_type": "execute_result"
    },
    {
     "data": {
      "image/png": "[encoded data removed]",
      "text/plain": [
       "<Figure size 432x288 with 1 Axes>"
      ]
     },
     "metadata": {
      "needs_background": "light"
     },
     "output_type": "display_data"
    }
   ],
   "source": [
    "sns.countplot(du[du.MACRO=='NF'].Personalidade)"
   ]
  },
  {
   "cell_type": "code",
   "execution_count": 21,
   "id": "d4c0d1b8",
   "metadata": {},
   "outputs": [
    {
     "name": "stderr",
     "output_type": "stream",
     "text": [
      "c:\\Python310\\lib\\site-packages\\seaborn\\_decorators.py:36: FutureWarning: Pass the following variable as a keyword arg: x. From version 0.12, the only valid positional argument will be `data`, and passing other arguments without an explicit keyword will result in an error or misinterpretation.\n",
      "  warnings.warn(\n"
     ]
    },
    {
     "data": {
      "text/plain": [
       "<AxesSubplot:xlabel='Personalidade', ylabel='count'>"
      ]
     },
     "execution_count": 21,
     "metadata": {},
     "output_type": "execute_result"
    },
    {
     "data": {
      "image/png": "[encoded data removed]",
      "text/plain": [
       "<Figure size 432x288 with 1 Axes>"
      ]
     },
     "metadata": {
      "needs_background": "light"
     },
     "output_type": "display_data"
    }
   ],
   "source": [
    "sns.countplot(du[du.MACRO=='NT'].Personalidade)"
   ]
  },
  {
   "cell_type": "code",
   "execution_count": 60,
   "id": "748b091f",
   "metadata": {},
   "outputs": [
    {
     "data": {
      "text/plain": [
       "Usuario                  1\n",
       "Texto                    0\n",
       "Personalidade            0\n",
       "Valor_TfidfVectorizer    0\n",
       "MACRO                    0\n",
       "dtype: int64"
      ]
     },
     "execution_count": 60,
     "metadata": {},
     "output_type": "execute_result"
    }
   ],
   "source": [
    "du.isna().sum()"
   ]
  },
  {
   "cell_type": "code",
   "execution_count": 61,
   "id": "779d203a",
   "metadata": {},
   "outputs": [
    {
     "data": {
      "text/html": [
       "<div>\n",
       "<style scoped>\n",
       "    .dataframe tbody tr th:only-of-type {\n",
       "        vertical-align: middle;\n",
       "    }\n",
       "\n",
       "    .dataframe tbody tr th {\n",
       "        vertical-align: top;\n",
       "    }\n",
       "\n",
       "    .dataframe thead th {\n",
       "        text-align: right;\n",
       "    }\n",
       "</style>\n",
       "<table border=\"1\" class=\"dataframe\">\n",
       "  <thead>\n",
       "    <tr style=\"text-align: right;\">\n",
       "      <th></th>\n",
       "      <th>Usuario</th>\n",
       "      <th>Texto</th>\n",
       "      <th>Personalidade</th>\n",
       "      <th>Valor_TfidfVectorizer</th>\n",
       "      <th>MACRO</th>\n",
       "    </tr>\n",
       "  </thead>\n",
       "  <tbody>\n",
       "    <tr>\n",
       "      <th>48</th>\n",
       "      <td>NaN</td>\n",
       "      <td>Hotels hate Airbnb Taxi drivers hate Uber Noki...</td>\n",
       "      <td>ISFP</td>\n",
       "      <td>0.0803</td>\n",
       "      <td>SP</td>\n",
       "    </tr>\n",
       "  </tbody>\n",
       "</table>\n",
       "</div>"
      ],
      "text/plain": [
       "   Usuario                                              Texto Personalidade  \\\n",
       "48     NaN  Hotels hate Airbnb Taxi drivers hate Uber Noki...          ISFP   \n",
       "\n",
       "    Valor_TfidfVectorizer MACRO  \n",
       "48                 0.0803    SP  "
      ]
     },
     "execution_count": 61,
     "metadata": {},
     "output_type": "execute_result"
    }
   ],
   "source": [
    "du[du.Usuario.isna()]"
   ]
  },
  {
   "cell_type": "code",
   "execution_count": 62,
   "id": "a40242af",
   "metadata": {},
   "outputs": [],
   "source": [
    "du.fillna('PAULO HENRIQUE',inplace=True)"
   ]
  },
  {
   "cell_type": "code",
   "execution_count": 63,
   "id": "d976e1ce",
   "metadata": {},
   "outputs": [
    {
     "data": {
      "text/plain": [
       "Usuario                  500\n",
       "Texto                    500\n",
       "Personalidade             16\n",
       "Valor_TfidfVectorizer    345\n",
       "MACRO                      4\n",
       "dtype: int64"
      ]
     },
     "execution_count": 63,
     "metadata": {},
     "output_type": "execute_result"
    }
   ],
   "source": [
    "du.nunique()"
   ]
  },
  {
   "cell_type": "code",
   "execution_count": 64,
   "id": "4766fb28",
   "metadata": {},
   "outputs": [
    {
     "name": "stdout",
     "output_type": "stream",
     "text": [
      "0      0.0529\n",
      "1      0.0555\n",
      "2      0.0491\n",
      "3      0.0559\n",
      "4      0.0644\n",
      "        ...  \n",
      "495    0.0731\n",
      "496    0.0404\n",
      "497    0.0481\n",
      "498    0.0240\n",
      "499    0.0385\n",
      "Name: Valor_TfidfVectorizer, Length: 500, dtype: float64\n"
     ]
    }
   ],
   "source": [
    "print(du['Valor_TfidfVectorizer'])"
   ]
  },
  {
   "cell_type": "markdown",
   "id": "8a036f44",
   "metadata": {},
   "source": [
    "# Dados usuário - Quantidades"
   ]
  },
  {
   "cell_type": "code",
   "execution_count": 65,
   "id": "844605c8",
   "metadata": {},
   "outputs": [],
   "source": [
    "dq=pd.read_csv('Dados_Usuarios(Certo).csv')"
   ]
  },
  {
   "cell_type": "code",
   "execution_count": 66,
   "id": "5a14d93e",
   "metadata": {},
   "outputs": [
    {
     "data": {
      "text/html": [
       "<div>\n",
       "<style scoped>\n",
       "    .dataframe tbody tr th:only-of-type {\n",
       "        vertical-align: middle;\n",
       "    }\n",
       "\n",
       "    .dataframe tbody tr th {\n",
       "        vertical-align: top;\n",
       "    }\n",
       "\n",
       "    .dataframe thead th {\n",
       "        text-align: right;\n",
       "    }\n",
       "</style>\n",
       "<table border=\"1\" class=\"dataframe\">\n",
       "  <thead>\n",
       "    <tr style=\"text-align: right;\">\n",
       "      <th></th>\n",
       "      <th>Usuario</th>\n",
       "      <th>Quantidade_Retweets</th>\n",
       "      <th>Quantidade_Likes</th>\n",
       "      <th>Quantidade_Publicacoes</th>\n",
       "      <th>Maior_N_Retweets</th>\n",
       "      <th>Maior_N_Likes</th>\n",
       "      <th>Seguidores</th>\n",
       "      <th>Amigos</th>\n",
       "      <th>Verificado</th>\n",
       "    </tr>\n",
       "  </thead>\n",
       "  <tbody>\n",
       "    <tr>\n",
       "      <th>0</th>\n",
       "      <td>APompliano</td>\n",
       "      <td>314654</td>\n",
       "      <td>2564686</td>\n",
       "      <td>486</td>\n",
       "      <td>338</td>\n",
       "      <td>466</td>\n",
       "      <td>1583590</td>\n",
       "      <td>6681</td>\n",
       "      <td>True</td>\n",
       "    </tr>\n",
       "    <tr>\n",
       "      <th>1</th>\n",
       "      <td>CoinCornerDanny</td>\n",
       "      <td>6030</td>\n",
       "      <td>39698</td>\n",
       "      <td>20</td>\n",
       "      <td>330</td>\n",
       "      <td>1434</td>\n",
       "      <td>30269</td>\n",
       "      <td>2573</td>\n",
       "      <td>False</td>\n",
       "    </tr>\n",
       "    <tr>\n",
       "      <th>2</th>\n",
       "      <td>AltcoinDailyio</td>\n",
       "      <td>17715</td>\n",
       "      <td>116982</td>\n",
       "      <td>43</td>\n",
       "      <td>748</td>\n",
       "      <td>2808</td>\n",
       "      <td>1139226</td>\n",
       "      <td>535</td>\n",
       "      <td>False</td>\n",
       "    </tr>\n",
       "    <tr>\n",
       "      <th>3</th>\n",
       "      <td>nanogamesio</td>\n",
       "      <td>276</td>\n",
       "      <td>377</td>\n",
       "      <td>1</td>\n",
       "      <td>276</td>\n",
       "      <td>377</td>\n",
       "      <td>11527</td>\n",
       "      <td>42</td>\n",
       "      <td>False</td>\n",
       "    </tr>\n",
       "    <tr>\n",
       "      <th>4</th>\n",
       "      <td>cz_binance</td>\n",
       "      <td>95670</td>\n",
       "      <td>675162</td>\n",
       "      <td>106</td>\n",
       "      <td>530</td>\n",
       "      <td>1954</td>\n",
       "      <td>5680971</td>\n",
       "      <td>1718</td>\n",
       "      <td>True</td>\n",
       "    </tr>\n",
       "    <tr>\n",
       "      <th>...</th>\n",
       "      <td>...</td>\n",
       "      <td>...</td>\n",
       "      <td>...</td>\n",
       "      <td>...</td>\n",
       "      <td>...</td>\n",
       "      <td>...</td>\n",
       "      <td>...</td>\n",
       "      <td>...</td>\n",
       "      <td>...</td>\n",
       "    </tr>\n",
       "    <tr>\n",
       "      <th>3778</th>\n",
       "      <td>MrPlanN</td>\n",
       "      <td>3512</td>\n",
       "      <td>1507</td>\n",
       "      <td>1</td>\n",
       "      <td>3512</td>\n",
       "      <td>1507</td>\n",
       "      <td>9179</td>\n",
       "      <td>733</td>\n",
       "      <td>False</td>\n",
       "    </tr>\n",
       "    <tr>\n",
       "      <th>3779</th>\n",
       "      <td>bitcoinmemelib</td>\n",
       "      <td>294</td>\n",
       "      <td>2549</td>\n",
       "      <td>1</td>\n",
       "      <td>294</td>\n",
       "      <td>2549</td>\n",
       "      <td>4457</td>\n",
       "      <td>3028</td>\n",
       "      <td>False</td>\n",
       "    </tr>\n",
       "    <tr>\n",
       "      <th>3780</th>\n",
       "      <td>Alyattes_ALYA</td>\n",
       "      <td>1082</td>\n",
       "      <td>1268</td>\n",
       "      <td>1</td>\n",
       "      <td>1082</td>\n",
       "      <td>1268</td>\n",
       "      <td>16653</td>\n",
       "      <td>28</td>\n",
       "      <td>False</td>\n",
       "    </tr>\n",
       "    <tr>\n",
       "      <th>3781</th>\n",
       "      <td>dr_orlovsky</td>\n",
       "      <td>158</td>\n",
       "      <td>846</td>\n",
       "      <td>1</td>\n",
       "      <td>158</td>\n",
       "      <td>846</td>\n",
       "      <td>4637</td>\n",
       "      <td>876</td>\n",
       "      <td>False</td>\n",
       "    </tr>\n",
       "    <tr>\n",
       "      <th>3782</th>\n",
       "      <td>Wealth_Theory</td>\n",
       "      <td>822</td>\n",
       "      <td>5779</td>\n",
       "      <td>4</td>\n",
       "      <td>271</td>\n",
       "      <td>2181</td>\n",
       "      <td>208864</td>\n",
       "      <td>244</td>\n",
       "      <td>False</td>\n",
       "    </tr>\n",
       "  </tbody>\n",
       "</table>\n",
       "<p>3783 rows × 9 columns</p>\n",
       "</div>"
      ],
      "text/plain": [
       "              Usuario  Quantidade_Retweets  Quantidade_Likes  \\\n",
       "0          APompliano               314654           2564686   \n",
       "1     CoinCornerDanny                 6030             39698   \n",
       "2      AltcoinDailyio                17715            116982   \n",
       "3         nanogamesio                  276               377   \n",
       "4          cz_binance                95670            675162   \n",
       "...               ...                  ...               ...   \n",
       "3778          MrPlanN                 3512              1507   \n",
       "3779   bitcoinmemelib                  294              2549   \n",
       "3780    Alyattes_ALYA                 1082              1268   \n",
       "3781      dr_orlovsky                  158               846   \n",
       "3782    Wealth_Theory                  822              5779   \n",
       "\n",
       "      Quantidade_Publicacoes  Maior_N_Retweets  Maior_N_Likes  Seguidores  \\\n",
       "0                        486               338            466     1583590   \n",
       "1                         20               330           1434       30269   \n",
       "2                         43               748           2808     1139226   \n",
       "3                          1               276            377       11527   \n",
       "4                        106               530           1954     5680971   \n",
       "...                      ...               ...            ...         ...   \n",
       "3778                       1              3512           1507        9179   \n",
       "3779                       1               294           2549        4457   \n",
       "3780                       1              1082           1268       16653   \n",
       "3781                       1               158            846        4637   \n",
       "3782                       4               271           2181      208864   \n",
       "\n",
       "      Amigos  Verificado  \n",
       "0       6681        True  \n",
       "1       2573       False  \n",
       "2        535       False  \n",
       "3         42       False  \n",
       "4       1718        True  \n",
       "...      ...         ...  \n",
       "3778     733       False  \n",
       "3779    3028       False  \n",
       "3780      28       False  \n",
       "3781     876       False  \n",
       "3782     244       False  \n",
       "\n",
       "[3783 rows x 9 columns]"
      ]
     },
     "execution_count": 66,
     "metadata": {},
     "output_type": "execute_result"
    }
   ],
   "source": [
    "dq"
   ]
  },
  {
   "cell_type": "code",
   "execution_count": 67,
   "id": "4c6f7337",
   "metadata": {},
   "outputs": [
    {
     "name": "stdout",
     "output_type": "stream",
     "text": [
      "<class 'pandas.core.frame.DataFrame'>\n",
      "RangeIndex: 3783 entries, 0 to 3782\n",
      "Data columns (total 9 columns):\n",
      " #   Column                  Non-Null Count  Dtype \n",
      "---  ------                  --------------  ----- \n",
      " 0   Usuario                 3783 non-null   object\n",
      " 1   Quantidade_Retweets     3783 non-null   int64 \n",
      " 2   Quantidade_Likes        3783 non-null   int64 \n",
      " 3   Quantidade_Publicacoes  3783 non-null   int64 \n",
      " 4   Maior_N_Retweets        3783 non-null   int64 \n",
      " 5   Maior_N_Likes           3783 non-null   int64 \n",
      " 6   Seguidores              3783 non-null   int64 \n",
      " 7   Amigos                  3783 non-null   int64 \n",
      " 8   Verificado              3783 non-null   bool  \n",
      "dtypes: bool(1), int64(7), object(1)\n",
      "memory usage: 240.3+ KB\n"
     ]
    }
   ],
   "source": [
    "dq.info()"
   ]
  },
  {
   "cell_type": "code",
   "execution_count": 68,
   "id": "19369b0a",
   "metadata": {},
   "outputs": [],
   "source": [
    "dq.dropna(axis=0,inplace=True)"
   ]
  },
  {
   "cell_type": "code",
   "execution_count": 60,
   "id": "21842e9f",
   "metadata": {},
   "outputs": [
    {
     "name": "stderr",
     "output_type": "stream",
     "text": [
      "c:\\Python310\\lib\\site-packages\\seaborn\\_decorators.py:36: FutureWarning: Pass the following variable as a keyword arg: x. From version 0.12, the only valid positional argument will be `data`, and passing other arguments without an explicit keyword will result in an error or misinterpretation.\n",
      "  warnings.warn(\n"
     ]
    },
    {
     "data": {
      "text/plain": [
       "<AxesSubplot:xlabel='Verificado', ylabel='count'>"
      ]
     },
     "execution_count": 60,
     "metadata": {},
     "output_type": "execute_result"
    },
    {
     "data": {
      "image/png": "[encoded data removed]",
      "text/plain": [
       "<Figure size 432x288 with 1 Axes>"
      ]
     },
     "metadata": {
      "needs_background": "light"
     },
     "output_type": "display_data"
    }
   ],
   "source": [
    "sns.countplot(dq.Verificado)"
   ]
  },
  {
   "cell_type": "code",
   "execution_count": 69,
   "id": "badb6408",
   "metadata": {},
   "outputs": [],
   "source": [
    "dq['RN']=dq['Quantidade_Retweets']/dq['Quantidade_Publicacoes']\n",
    "dq['LN']=dq['Quantidade_Likes']/dq['Quantidade_Publicacoes']"
   ]
  },
  {
   "cell_type": "code",
   "execution_count": 70,
   "id": "80825281",
   "metadata": {},
   "outputs": [
    {
     "data": {
      "text/plain": [
       "<AxesSubplot:>"
      ]
     },
     "execution_count": 70,
     "metadata": {},
     "output_type": "execute_result"
    },
    {
     "data": {
      "image/png": "[encoded data removed]",
      "text/plain": [
       "<Figure size 720x720 with 2 Axes>"
      ]
     },
     "metadata": {
      "needs_background": "light"
     },
     "output_type": "display_data"
    }
   ],
   "source": [
    "plt.figure(figsize=(10,10))\n",
    "sns.heatmap(dq.corr(),annot=True)"
   ]
  },
  {
   "cell_type": "code",
   "execution_count": 71,
   "id": "591282f0",
   "metadata": {},
   "outputs": [
    {
     "data": {
      "text/html": [
       "<div>\n",
       "<style scoped>\n",
       "    .dataframe tbody tr th:only-of-type {\n",
       "        vertical-align: middle;\n",
       "    }\n",
       "\n",
       "    .dataframe tbody tr th {\n",
       "        vertical-align: top;\n",
       "    }\n",
       "\n",
       "    .dataframe thead th {\n",
       "        text-align: right;\n",
       "    }\n",
       "</style>\n",
       "<table border=\"1\" class=\"dataframe\">\n",
       "  <thead>\n",
       "    <tr style=\"text-align: right;\">\n",
       "      <th></th>\n",
       "      <th>Usuario</th>\n",
       "      <th>Quantidade_Retweets</th>\n",
       "      <th>Quantidade_Likes</th>\n",
       "      <th>Quantidade_Publicacoes</th>\n",
       "      <th>Maior_N_Retweets</th>\n",
       "      <th>Maior_N_Likes</th>\n",
       "      <th>Seguidores</th>\n",
       "      <th>Amigos</th>\n",
       "      <th>Verificado</th>\n",
       "      <th>RN</th>\n",
       "      <th>LN</th>\n",
       "    </tr>\n",
       "  </thead>\n",
       "  <tbody>\n",
       "    <tr>\n",
       "      <th>0</th>\n",
       "      <td>APompliano</td>\n",
       "      <td>314654</td>\n",
       "      <td>2564686</td>\n",
       "      <td>486</td>\n",
       "      <td>338</td>\n",
       "      <td>466</td>\n",
       "      <td>1583590</td>\n",
       "      <td>6681</td>\n",
       "      <td>True</td>\n",
       "      <td>647.436214</td>\n",
       "      <td>5277.131687</td>\n",
       "    </tr>\n",
       "    <tr>\n",
       "      <th>1</th>\n",
       "      <td>CoinCornerDanny</td>\n",
       "      <td>6030</td>\n",
       "      <td>39698</td>\n",
       "      <td>20</td>\n",
       "      <td>330</td>\n",
       "      <td>1434</td>\n",
       "      <td>30269</td>\n",
       "      <td>2573</td>\n",
       "      <td>False</td>\n",
       "      <td>301.500000</td>\n",
       "      <td>1984.900000</td>\n",
       "    </tr>\n",
       "    <tr>\n",
       "      <th>2</th>\n",
       "      <td>AltcoinDailyio</td>\n",
       "      <td>17715</td>\n",
       "      <td>116982</td>\n",
       "      <td>43</td>\n",
       "      <td>748</td>\n",
       "      <td>2808</td>\n",
       "      <td>1139226</td>\n",
       "      <td>535</td>\n",
       "      <td>False</td>\n",
       "      <td>411.976744</td>\n",
       "      <td>2720.511628</td>\n",
       "    </tr>\n",
       "    <tr>\n",
       "      <th>3</th>\n",
       "      <td>nanogamesio</td>\n",
       "      <td>276</td>\n",
       "      <td>377</td>\n",
       "      <td>1</td>\n",
       "      <td>276</td>\n",
       "      <td>377</td>\n",
       "      <td>11527</td>\n",
       "      <td>42</td>\n",
       "      <td>False</td>\n",
       "      <td>276.000000</td>\n",
       "      <td>377.000000</td>\n",
       "    </tr>\n",
       "    <tr>\n",
       "      <th>4</th>\n",
       "      <td>cz_binance</td>\n",
       "      <td>95670</td>\n",
       "      <td>675162</td>\n",
       "      <td>106</td>\n",
       "      <td>530</td>\n",
       "      <td>1954</td>\n",
       "      <td>5680971</td>\n",
       "      <td>1718</td>\n",
       "      <td>True</td>\n",
       "      <td>902.547170</td>\n",
       "      <td>6369.452830</td>\n",
       "    </tr>\n",
       "  </tbody>\n",
       "</table>\n",
       "</div>"
      ],
      "text/plain": [
       "           Usuario  Quantidade_Retweets  Quantidade_Likes  \\\n",
       "0       APompliano               314654           2564686   \n",
       "1  CoinCornerDanny                 6030             39698   \n",
       "2   AltcoinDailyio                17715            116982   \n",
       "3      nanogamesio                  276               377   \n",
       "4       cz_binance                95670            675162   \n",
       "\n",
       "   Quantidade_Publicacoes  Maior_N_Retweets  Maior_N_Likes  Seguidores  \\\n",
       "0                     486               338            466     1583590   \n",
       "1                      20               330           1434       30269   \n",
       "2                      43               748           2808     1139226   \n",
       "3                       1               276            377       11527   \n",
       "4                     106               530           1954     5680971   \n",
       "\n",
       "   Amigos  Verificado          RN           LN  \n",
       "0    6681        True  647.436214  5277.131687  \n",
       "1    2573       False  301.500000  1984.900000  \n",
       "2     535       False  411.976744  2720.511628  \n",
       "3      42       False  276.000000   377.000000  \n",
       "4    1718        True  902.547170  6369.452830  "
      ]
     },
     "execution_count": 71,
     "metadata": {},
     "output_type": "execute_result"
    }
   ],
   "source": [
    "dq.head()"
   ]
  },
  {
   "cell_type": "code",
   "execution_count": 72,
   "id": "ff535ccd",
   "metadata": {},
   "outputs": [],
   "source": [
    "mudanome=[]\n",
    "for i in range(len(dq)):\n",
    "    mudanome.append(dq.Usuario.iloc[i])"
   ]
  },
  {
   "cell_type": "code",
   "execution_count": 73,
   "id": "82b3e89f",
   "metadata": {},
   "outputs": [],
   "source": [
    "dq['Usuario']=mudanome"
   ]
  },
  {
   "cell_type": "code",
   "execution_count": 74,
   "id": "db215a2a",
   "metadata": {},
   "outputs": [
    {
     "data": {
      "text/html": [
       "<div>\n",
       "<style scoped>\n",
       "    .dataframe tbody tr th:only-of-type {\n",
       "        vertical-align: middle;\n",
       "    }\n",
       "\n",
       "    .dataframe tbody tr th {\n",
       "        vertical-align: top;\n",
       "    }\n",
       "\n",
       "    .dataframe thead th {\n",
       "        text-align: right;\n",
       "    }\n",
       "</style>\n",
       "<table border=\"1\" class=\"dataframe\">\n",
       "  <thead>\n",
       "    <tr style=\"text-align: right;\">\n",
       "      <th></th>\n",
       "      <th>Usuario</th>\n",
       "      <th>Quantidade_Retweets</th>\n",
       "      <th>Quantidade_Likes</th>\n",
       "      <th>Quantidade_Publicacoes</th>\n",
       "      <th>Maior_N_Retweets</th>\n",
       "      <th>Maior_N_Likes</th>\n",
       "      <th>Seguidores</th>\n",
       "      <th>Amigos</th>\n",
       "      <th>Verificado</th>\n",
       "      <th>RN</th>\n",
       "      <th>LN</th>\n",
       "    </tr>\n",
       "  </thead>\n",
       "  <tbody>\n",
       "    <tr>\n",
       "      <th>0</th>\n",
       "      <td>APompliano</td>\n",
       "      <td>314654</td>\n",
       "      <td>2564686</td>\n",
       "      <td>486</td>\n",
       "      <td>338</td>\n",
       "      <td>466</td>\n",
       "      <td>1583590</td>\n",
       "      <td>6681</td>\n",
       "      <td>True</td>\n",
       "      <td>647.436214</td>\n",
       "      <td>5277.131687</td>\n",
       "    </tr>\n",
       "    <tr>\n",
       "      <th>1</th>\n",
       "      <td>CoinCornerDanny</td>\n",
       "      <td>6030</td>\n",
       "      <td>39698</td>\n",
       "      <td>20</td>\n",
       "      <td>330</td>\n",
       "      <td>1434</td>\n",
       "      <td>30269</td>\n",
       "      <td>2573</td>\n",
       "      <td>False</td>\n",
       "      <td>301.500000</td>\n",
       "      <td>1984.900000</td>\n",
       "    </tr>\n",
       "    <tr>\n",
       "      <th>2</th>\n",
       "      <td>AltcoinDailyio</td>\n",
       "      <td>17715</td>\n",
       "      <td>116982</td>\n",
       "      <td>43</td>\n",
       "      <td>748</td>\n",
       "      <td>2808</td>\n",
       "      <td>1139226</td>\n",
       "      <td>535</td>\n",
       "      <td>False</td>\n",
       "      <td>411.976744</td>\n",
       "      <td>2720.511628</td>\n",
       "    </tr>\n",
       "    <tr>\n",
       "      <th>3</th>\n",
       "      <td>nanogamesio</td>\n",
       "      <td>276</td>\n",
       "      <td>377</td>\n",
       "      <td>1</td>\n",
       "      <td>276</td>\n",
       "      <td>377</td>\n",
       "      <td>11527</td>\n",
       "      <td>42</td>\n",
       "      <td>False</td>\n",
       "      <td>276.000000</td>\n",
       "      <td>377.000000</td>\n",
       "    </tr>\n",
       "    <tr>\n",
       "      <th>4</th>\n",
       "      <td>cz_binance</td>\n",
       "      <td>95670</td>\n",
       "      <td>675162</td>\n",
       "      <td>106</td>\n",
       "      <td>530</td>\n",
       "      <td>1954</td>\n",
       "      <td>5680971</td>\n",
       "      <td>1718</td>\n",
       "      <td>True</td>\n",
       "      <td>902.547170</td>\n",
       "      <td>6369.452830</td>\n",
       "    </tr>\n",
       "  </tbody>\n",
       "</table>\n",
       "</div>"
      ],
      "text/plain": [
       "           Usuario  Quantidade_Retweets  Quantidade_Likes  \\\n",
       "0       APompliano               314654           2564686   \n",
       "1  CoinCornerDanny                 6030             39698   \n",
       "2   AltcoinDailyio                17715            116982   \n",
       "3      nanogamesio                  276               377   \n",
       "4       cz_binance                95670            675162   \n",
       "\n",
       "   Quantidade_Publicacoes  Maior_N_Retweets  Maior_N_Likes  Seguidores  \\\n",
       "0                     486               338            466     1583590   \n",
       "1                      20               330           1434       30269   \n",
       "2                      43               748           2808     1139226   \n",
       "3                       1               276            377       11527   \n",
       "4                     106               530           1954     5680971   \n",
       "\n",
       "   Amigos  Verificado          RN           LN  \n",
       "0    6681        True  647.436214  5277.131687  \n",
       "1    2573       False  301.500000  1984.900000  \n",
       "2     535       False  411.976744  2720.511628  \n",
       "3      42       False  276.000000   377.000000  \n",
       "4    1718        True  902.547170  6369.452830  "
      ]
     },
     "execution_count": 74,
     "metadata": {},
     "output_type": "execute_result"
    }
   ],
   "source": [
    "dq.head()"
   ]
  },
  {
   "cell_type": "code",
   "execution_count": 75,
   "id": "8a43eb70",
   "metadata": {},
   "outputs": [
    {
     "name": "stdout",
     "output_type": "stream",
     "text": [
      "<class 'pandas.core.frame.DataFrame'>\n",
      "RangeIndex: 3783 entries, 0 to 3782\n",
      "Data columns (total 11 columns):\n",
      " #   Column                  Non-Null Count  Dtype  \n",
      "---  ------                  --------------  -----  \n",
      " 0   Usuario                 3783 non-null   object \n",
      " 1   Quantidade_Retweets     3783 non-null   int64  \n",
      " 2   Quantidade_Likes        3783 non-null   int64  \n",
      " 3   Quantidade_Publicacoes  3783 non-null   int64  \n",
      " 4   Maior_N_Retweets        3783 non-null   int64  \n",
      " 5   Maior_N_Likes           3783 non-null   int64  \n",
      " 6   Seguidores              3783 non-null   int64  \n",
      " 7   Amigos                  3783 non-null   int64  \n",
      " 8   Verificado              3783 non-null   bool   \n",
      " 9   RN                      3783 non-null   float64\n",
      " 10  LN                      3783 non-null   float64\n",
      "dtypes: bool(1), float64(2), int64(7), object(1)\n",
      "memory usage: 299.4+ KB\n"
     ]
    }
   ],
   "source": [
    "dq.info()"
   ]
  },
  {
   "cell_type": "code",
   "execution_count": 76,
   "id": "b367dd92",
   "metadata": {},
   "outputs": [
    {
     "name": "stdout",
     "output_type": "stream",
     "text": [
      "<class 'pandas.core.frame.DataFrame'>\n",
      "RangeIndex: 500 entries, 0 to 499\n",
      "Data columns (total 5 columns):\n",
      " #   Column                 Non-Null Count  Dtype  \n",
      "---  ------                 --------------  -----  \n",
      " 0   Usuario                500 non-null    object \n",
      " 1   Texto                  500 non-null    object \n",
      " 2   Personalidade          500 non-null    object \n",
      " 3   Valor_TfidfVectorizer  500 non-null    float64\n",
      " 4   MACRO                  500 non-null    object \n",
      "dtypes: float64(1), object(4)\n",
      "memory usage: 19.7+ KB\n"
     ]
    }
   ],
   "source": [
    "du.info()"
   ]
  },
  {
   "cell_type": "code",
   "execution_count": 77,
   "id": "2d43b34a",
   "metadata": {},
   "outputs": [
    {
     "name": "stderr",
     "output_type": "stream",
     "text": [
      "C:\\Users\\paulo\\AppData\\Local\\Temp\\ipykernel_16032\\492175205.py:2: SettingWithCopyWarning: \n",
      "A value is trying to be set on a copy of a slice from a DataFrame\n",
      "\n",
      "See the caveats in the documentation: https://pandas.pydata.org/pandas-docs/stable/user_guide/indexing.html#returning-a-view-versus-a-copy\n",
      "  du['Usuario'][i] = du['Usuario'][i].replace(\" \",\"\")\n"
     ]
    }
   ],
   "source": [
    "for i in range(len(du['Usuario'])):\n",
    "    du['Usuario'][i] = du['Usuario'][i].replace(\" \",\"\")"
   ]
  },
  {
   "cell_type": "code",
   "execution_count": 78,
   "id": "f0f89b93",
   "metadata": {},
   "outputs": [
    {
     "data": {
      "text/html": [
       "<div>\n",
       "<style scoped>\n",
       "    .dataframe tbody tr th:only-of-type {\n",
       "        vertical-align: middle;\n",
       "    }\n",
       "\n",
       "    .dataframe tbody tr th {\n",
       "        vertical-align: top;\n",
       "    }\n",
       "\n",
       "    .dataframe thead th {\n",
       "        text-align: right;\n",
       "    }\n",
       "</style>\n",
       "<table border=\"1\" class=\"dataframe\">\n",
       "  <thead>\n",
       "    <tr style=\"text-align: right;\">\n",
       "      <th></th>\n",
       "      <th>Usuario</th>\n",
       "      <th>Quantidade_Retweets</th>\n",
       "      <th>Quantidade_Likes</th>\n",
       "      <th>Quantidade_Publicacoes</th>\n",
       "      <th>Maior_N_Retweets</th>\n",
       "      <th>Maior_N_Likes</th>\n",
       "      <th>Seguidores</th>\n",
       "      <th>Amigos</th>\n",
       "      <th>Verificado</th>\n",
       "      <th>RN</th>\n",
       "      <th>LN</th>\n",
       "    </tr>\n",
       "  </thead>\n",
       "  <tbody>\n",
       "    <tr>\n",
       "      <th>0</th>\n",
       "      <td>APompliano</td>\n",
       "      <td>314654</td>\n",
       "      <td>2564686</td>\n",
       "      <td>486</td>\n",
       "      <td>338</td>\n",
       "      <td>466</td>\n",
       "      <td>1583590</td>\n",
       "      <td>6681</td>\n",
       "      <td>True</td>\n",
       "      <td>647.436214</td>\n",
       "      <td>5277.131687</td>\n",
       "    </tr>\n",
       "    <tr>\n",
       "      <th>1</th>\n",
       "      <td>CoinCornerDanny</td>\n",
       "      <td>6030</td>\n",
       "      <td>39698</td>\n",
       "      <td>20</td>\n",
       "      <td>330</td>\n",
       "      <td>1434</td>\n",
       "      <td>30269</td>\n",
       "      <td>2573</td>\n",
       "      <td>False</td>\n",
       "      <td>301.500000</td>\n",
       "      <td>1984.900000</td>\n",
       "    </tr>\n",
       "    <tr>\n",
       "      <th>2</th>\n",
       "      <td>AltcoinDailyio</td>\n",
       "      <td>17715</td>\n",
       "      <td>116982</td>\n",
       "      <td>43</td>\n",
       "      <td>748</td>\n",
       "      <td>2808</td>\n",
       "      <td>1139226</td>\n",
       "      <td>535</td>\n",
       "      <td>False</td>\n",
       "      <td>411.976744</td>\n",
       "      <td>2720.511628</td>\n",
       "    </tr>\n",
       "    <tr>\n",
       "      <th>3</th>\n",
       "      <td>nanogamesio</td>\n",
       "      <td>276</td>\n",
       "      <td>377</td>\n",
       "      <td>1</td>\n",
       "      <td>276</td>\n",
       "      <td>377</td>\n",
       "      <td>11527</td>\n",
       "      <td>42</td>\n",
       "      <td>False</td>\n",
       "      <td>276.000000</td>\n",
       "      <td>377.000000</td>\n",
       "    </tr>\n",
       "    <tr>\n",
       "      <th>4</th>\n",
       "      <td>cz_binance</td>\n",
       "      <td>95670</td>\n",
       "      <td>675162</td>\n",
       "      <td>106</td>\n",
       "      <td>530</td>\n",
       "      <td>1954</td>\n",
       "      <td>5680971</td>\n",
       "      <td>1718</td>\n",
       "      <td>True</td>\n",
       "      <td>902.547170</td>\n",
       "      <td>6369.452830</td>\n",
       "    </tr>\n",
       "    <tr>\n",
       "      <th>...</th>\n",
       "      <td>...</td>\n",
       "      <td>...</td>\n",
       "      <td>...</td>\n",
       "      <td>...</td>\n",
       "      <td>...</td>\n",
       "      <td>...</td>\n",
       "      <td>...</td>\n",
       "      <td>...</td>\n",
       "      <td>...</td>\n",
       "      <td>...</td>\n",
       "      <td>...</td>\n",
       "    </tr>\n",
       "    <tr>\n",
       "      <th>3778</th>\n",
       "      <td>MrPlanN</td>\n",
       "      <td>3512</td>\n",
       "      <td>1507</td>\n",
       "      <td>1</td>\n",
       "      <td>3512</td>\n",
       "      <td>1507</td>\n",
       "      <td>9179</td>\n",
       "      <td>733</td>\n",
       "      <td>False</td>\n",
       "      <td>3512.000000</td>\n",
       "      <td>1507.000000</td>\n",
       "    </tr>\n",
       "    <tr>\n",
       "      <th>3779</th>\n",
       "      <td>bitcoinmemelib</td>\n",
       "      <td>294</td>\n",
       "      <td>2549</td>\n",
       "      <td>1</td>\n",
       "      <td>294</td>\n",
       "      <td>2549</td>\n",
       "      <td>4457</td>\n",
       "      <td>3028</td>\n",
       "      <td>False</td>\n",
       "      <td>294.000000</td>\n",
       "      <td>2549.000000</td>\n",
       "    </tr>\n",
       "    <tr>\n",
       "      <th>3780</th>\n",
       "      <td>Alyattes_ALYA</td>\n",
       "      <td>1082</td>\n",
       "      <td>1268</td>\n",
       "      <td>1</td>\n",
       "      <td>1082</td>\n",
       "      <td>1268</td>\n",
       "      <td>16653</td>\n",
       "      <td>28</td>\n",
       "      <td>False</td>\n",
       "      <td>1082.000000</td>\n",
       "      <td>1268.000000</td>\n",
       "    </tr>\n",
       "    <tr>\n",
       "      <th>3781</th>\n",
       "      <td>dr_orlovsky</td>\n",
       "      <td>158</td>\n",
       "      <td>846</td>\n",
       "      <td>1</td>\n",
       "      <td>158</td>\n",
       "      <td>846</td>\n",
       "      <td>4637</td>\n",
       "      <td>876</td>\n",
       "      <td>False</td>\n",
       "      <td>158.000000</td>\n",
       "      <td>846.000000</td>\n",
       "    </tr>\n",
       "    <tr>\n",
       "      <th>3782</th>\n",
       "      <td>Wealth_Theory</td>\n",
       "      <td>822</td>\n",
       "      <td>5779</td>\n",
       "      <td>4</td>\n",
       "      <td>271</td>\n",
       "      <td>2181</td>\n",
       "      <td>208864</td>\n",
       "      <td>244</td>\n",
       "      <td>False</td>\n",
       "      <td>205.500000</td>\n",
       "      <td>1444.750000</td>\n",
       "    </tr>\n",
       "  </tbody>\n",
       "</table>\n",
       "<p>3783 rows × 11 columns</p>\n",
       "</div>"
      ],
      "text/plain": [
       "              Usuario  Quantidade_Retweets  Quantidade_Likes  \\\n",
       "0          APompliano               314654           2564686   \n",
       "1     CoinCornerDanny                 6030             39698   \n",
       "2      AltcoinDailyio                17715            116982   \n",
       "3         nanogamesio                  276               377   \n",
       "4          cz_binance                95670            675162   \n",
       "...               ...                  ...               ...   \n",
       "3778          MrPlanN                 3512              1507   \n",
       "3779   bitcoinmemelib                  294              2549   \n",
       "3780    Alyattes_ALYA                 1082              1268   \n",
       "3781      dr_orlovsky                  158               846   \n",
       "3782    Wealth_Theory                  822              5779   \n",
       "\n",
       "      Quantidade_Publicacoes  Maior_N_Retweets  Maior_N_Likes  Seguidores  \\\n",
       "0                        486               338            466     1583590   \n",
       "1                         20               330           1434       30269   \n",
       "2                         43               748           2808     1139226   \n",
       "3                          1               276            377       11527   \n",
       "4                        106               530           1954     5680971   \n",
       "...                      ...               ...            ...         ...   \n",
       "3778                       1              3512           1507        9179   \n",
       "3779                       1               294           2549        4457   \n",
       "3780                       1              1082           1268       16653   \n",
       "3781                       1               158            846        4637   \n",
       "3782                       4               271           2181      208864   \n",
       "\n",
       "      Amigos  Verificado           RN           LN  \n",
       "0       6681        True   647.436214  5277.131687  \n",
       "1       2573       False   301.500000  1984.900000  \n",
       "2        535       False   411.976744  2720.511628  \n",
       "3         42       False   276.000000   377.000000  \n",
       "4       1718        True   902.547170  6369.452830  \n",
       "...      ...         ...          ...          ...  \n",
       "3778     733       False  3512.000000  1507.000000  \n",
       "3779    3028       False   294.000000  2549.000000  \n",
       "3780      28       False  1082.000000  1268.000000  \n",
       "3781     876       False   158.000000   846.000000  \n",
       "3782     244       False   205.500000  1444.750000  \n",
       "\n",
       "[3783 rows x 11 columns]"
      ]
     },
     "execution_count": 78,
     "metadata": {},
     "output_type": "execute_result"
    }
   ],
   "source": [
    "dq"
   ]
  },
  {
   "cell_type": "code",
   "execution_count": 79,
   "id": "6e45b789",
   "metadata": {},
   "outputs": [],
   "source": [
    "dq=pd.merge(dq,du[['Usuario','MACRO','Personalidade']],on='Usuario',how='left')"
   ]
  },
  {
   "cell_type": "code",
   "execution_count": 80,
   "id": "6639f2a2",
   "metadata": {},
   "outputs": [
    {
     "data": {
      "text/html": [
       "<div>\n",
       "<style scoped>\n",
       "    .dataframe tbody tr th:only-of-type {\n",
       "        vertical-align: middle;\n",
       "    }\n",
       "\n",
       "    .dataframe tbody tr th {\n",
       "        vertical-align: top;\n",
       "    }\n",
       "\n",
       "    .dataframe thead th {\n",
       "        text-align: right;\n",
       "    }\n",
       "</style>\n",
       "<table border=\"1\" class=\"dataframe\">\n",
       "  <thead>\n",
       "    <tr style=\"text-align: right;\">\n",
       "      <th></th>\n",
       "      <th>Usuario</th>\n",
       "      <th>Quantidade_Retweets</th>\n",
       "      <th>Quantidade_Likes</th>\n",
       "      <th>Quantidade_Publicacoes</th>\n",
       "      <th>Maior_N_Retweets</th>\n",
       "      <th>Maior_N_Likes</th>\n",
       "      <th>Seguidores</th>\n",
       "      <th>Amigos</th>\n",
       "      <th>Verificado</th>\n",
       "      <th>RN</th>\n",
       "      <th>LN</th>\n",
       "      <th>MACRO</th>\n",
       "      <th>Personalidade</th>\n",
       "    </tr>\n",
       "  </thead>\n",
       "  <tbody>\n",
       "    <tr>\n",
       "      <th>0</th>\n",
       "      <td>APompliano</td>\n",
       "      <td>314654</td>\n",
       "      <td>2564686</td>\n",
       "      <td>486</td>\n",
       "      <td>338</td>\n",
       "      <td>466</td>\n",
       "      <td>1583590</td>\n",
       "      <td>6681</td>\n",
       "      <td>True</td>\n",
       "      <td>647.436214</td>\n",
       "      <td>5277.131687</td>\n",
       "      <td>NT</td>\n",
       "      <td>INTJ</td>\n",
       "    </tr>\n",
       "    <tr>\n",
       "      <th>1</th>\n",
       "      <td>CoinCornerDanny</td>\n",
       "      <td>6030</td>\n",
       "      <td>39698</td>\n",
       "      <td>20</td>\n",
       "      <td>330</td>\n",
       "      <td>1434</td>\n",
       "      <td>30269</td>\n",
       "      <td>2573</td>\n",
       "      <td>False</td>\n",
       "      <td>301.500000</td>\n",
       "      <td>1984.900000</td>\n",
       "      <td>SP</td>\n",
       "      <td>ISFP</td>\n",
       "    </tr>\n",
       "    <tr>\n",
       "      <th>2</th>\n",
       "      <td>AltcoinDailyio</td>\n",
       "      <td>17715</td>\n",
       "      <td>116982</td>\n",
       "      <td>43</td>\n",
       "      <td>748</td>\n",
       "      <td>2808</td>\n",
       "      <td>1139226</td>\n",
       "      <td>535</td>\n",
       "      <td>False</td>\n",
       "      <td>411.976744</td>\n",
       "      <td>2720.511628</td>\n",
       "      <td>NF</td>\n",
       "      <td>ENFP</td>\n",
       "    </tr>\n",
       "    <tr>\n",
       "      <th>3</th>\n",
       "      <td>nanogamesio</td>\n",
       "      <td>276</td>\n",
       "      <td>377</td>\n",
       "      <td>1</td>\n",
       "      <td>276</td>\n",
       "      <td>377</td>\n",
       "      <td>11527</td>\n",
       "      <td>42</td>\n",
       "      <td>False</td>\n",
       "      <td>276.000000</td>\n",
       "      <td>377.000000</td>\n",
       "      <td>NaN</td>\n",
       "      <td>NaN</td>\n",
       "    </tr>\n",
       "    <tr>\n",
       "      <th>4</th>\n",
       "      <td>cz_binance</td>\n",
       "      <td>95670</td>\n",
       "      <td>675162</td>\n",
       "      <td>106</td>\n",
       "      <td>530</td>\n",
       "      <td>1954</td>\n",
       "      <td>5680971</td>\n",
       "      <td>1718</td>\n",
       "      <td>True</td>\n",
       "      <td>902.547170</td>\n",
       "      <td>6369.452830</td>\n",
       "      <td>NF</td>\n",
       "      <td>INFP</td>\n",
       "    </tr>\n",
       "    <tr>\n",
       "      <th>...</th>\n",
       "      <td>...</td>\n",
       "      <td>...</td>\n",
       "      <td>...</td>\n",
       "      <td>...</td>\n",
       "      <td>...</td>\n",
       "      <td>...</td>\n",
       "      <td>...</td>\n",
       "      <td>...</td>\n",
       "      <td>...</td>\n",
       "      <td>...</td>\n",
       "      <td>...</td>\n",
       "      <td>...</td>\n",
       "      <td>...</td>\n",
       "    </tr>\n",
       "    <tr>\n",
       "      <th>3778</th>\n",
       "      <td>MrPlanN</td>\n",
       "      <td>3512</td>\n",
       "      <td>1507</td>\n",
       "      <td>1</td>\n",
       "      <td>3512</td>\n",
       "      <td>1507</td>\n",
       "      <td>9179</td>\n",
       "      <td>733</td>\n",
       "      <td>False</td>\n",
       "      <td>3512.000000</td>\n",
       "      <td>1507.000000</td>\n",
       "      <td>NaN</td>\n",
       "      <td>NaN</td>\n",
       "    </tr>\n",
       "    <tr>\n",
       "      <th>3779</th>\n",
       "      <td>bitcoinmemelib</td>\n",
       "      <td>294</td>\n",
       "      <td>2549</td>\n",
       "      <td>1</td>\n",
       "      <td>294</td>\n",
       "      <td>2549</td>\n",
       "      <td>4457</td>\n",
       "      <td>3028</td>\n",
       "      <td>False</td>\n",
       "      <td>294.000000</td>\n",
       "      <td>2549.000000</td>\n",
       "      <td>NaN</td>\n",
       "      <td>NaN</td>\n",
       "    </tr>\n",
       "    <tr>\n",
       "      <th>3780</th>\n",
       "      <td>Alyattes_ALYA</td>\n",
       "      <td>1082</td>\n",
       "      <td>1268</td>\n",
       "      <td>1</td>\n",
       "      <td>1082</td>\n",
       "      <td>1268</td>\n",
       "      <td>16653</td>\n",
       "      <td>28</td>\n",
       "      <td>False</td>\n",
       "      <td>1082.000000</td>\n",
       "      <td>1268.000000</td>\n",
       "      <td>NaN</td>\n",
       "      <td>NaN</td>\n",
       "    </tr>\n",
       "    <tr>\n",
       "      <th>3781</th>\n",
       "      <td>dr_orlovsky</td>\n",
       "      <td>158</td>\n",
       "      <td>846</td>\n",
       "      <td>1</td>\n",
       "      <td>158</td>\n",
       "      <td>846</td>\n",
       "      <td>4637</td>\n",
       "      <td>876</td>\n",
       "      <td>False</td>\n",
       "      <td>158.000000</td>\n",
       "      <td>846.000000</td>\n",
       "      <td>NaN</td>\n",
       "      <td>NaN</td>\n",
       "    </tr>\n",
       "    <tr>\n",
       "      <th>3782</th>\n",
       "      <td>Wealth_Theory</td>\n",
       "      <td>822</td>\n",
       "      <td>5779</td>\n",
       "      <td>4</td>\n",
       "      <td>271</td>\n",
       "      <td>2181</td>\n",
       "      <td>208864</td>\n",
       "      <td>244</td>\n",
       "      <td>False</td>\n",
       "      <td>205.500000</td>\n",
       "      <td>1444.750000</td>\n",
       "      <td>NF</td>\n",
       "      <td>ENFP</td>\n",
       "    </tr>\n",
       "  </tbody>\n",
       "</table>\n",
       "<p>3783 rows × 13 columns</p>\n",
       "</div>"
      ],
      "text/plain": [
       "              Usuario  Quantidade_Retweets  Quantidade_Likes  \\\n",
       "0          APompliano               314654           2564686   \n",
       "1     CoinCornerDanny                 6030             39698   \n",
       "2      AltcoinDailyio                17715            116982   \n",
       "3         nanogamesio                  276               377   \n",
       "4          cz_binance                95670            675162   \n",
       "...               ...                  ...               ...   \n",
       "3778          MrPlanN                 3512              1507   \n",
       "3779   bitcoinmemelib                  294              2549   \n",
       "3780    Alyattes_ALYA                 1082              1268   \n",
       "3781      dr_orlovsky                  158               846   \n",
       "3782    Wealth_Theory                  822              5779   \n",
       "\n",
       "      Quantidade_Publicacoes  Maior_N_Retweets  Maior_N_Likes  Seguidores  \\\n",
       "0                        486               338            466     1583590   \n",
       "1                         20               330           1434       30269   \n",
       "2                         43               748           2808     1139226   \n",
       "3                          1               276            377       11527   \n",
       "4                        106               530           1954     5680971   \n",
       "...                      ...               ...            ...         ...   \n",
       "3778                       1              3512           1507        9179   \n",
       "3779                       1               294           2549        4457   \n",
       "3780                       1              1082           1268       16653   \n",
       "3781                       1               158            846        4637   \n",
       "3782                       4               271           2181      208864   \n",
       "\n",
       "      Amigos  Verificado           RN           LN MACRO Personalidade  \n",
       "0       6681        True   647.436214  5277.131687    NT          INTJ  \n",
       "1       2573       False   301.500000  1984.900000    SP          ISFP  \n",
       "2        535       False   411.976744  2720.511628    NF          ENFP  \n",
       "3         42       False   276.000000   377.000000   NaN           NaN  \n",
       "4       1718        True   902.547170  6369.452830    NF          INFP  \n",
       "...      ...         ...          ...          ...   ...           ...  \n",
       "3778     733       False  3512.000000  1507.000000   NaN           NaN  \n",
       "3779    3028       False   294.000000  2549.000000   NaN           NaN  \n",
       "3780      28       False  1082.000000  1268.000000   NaN           NaN  \n",
       "3781     876       False   158.000000   846.000000   NaN           NaN  \n",
       "3782     244       False   205.500000  1444.750000    NF          ENFP  \n",
       "\n",
       "[3783 rows x 13 columns]"
      ]
     },
     "execution_count": 80,
     "metadata": {},
     "output_type": "execute_result"
    }
   ],
   "source": [
    "dq"
   ]
  },
  {
   "cell_type": "code",
   "execution_count": 62,
   "id": "f4651e97",
   "metadata": {},
   "outputs": [
    {
     "data": {
      "text/plain": [
       "<seaborn.axisgrid.PairGrid at 0x7f3fc8df2b50>"
      ]
     },
     "execution_count": 62,
     "metadata": {},
     "output_type": "execute_result"
    },
    {
     "data": {
      "image/png": "[encoded data removed]",
      "text/plain": [
       "<Figure size 540x540 with 12 Axes>"
      ]
     },
     "metadata": {
      "needs_background": "light"
     },
     "output_type": "display_data"
    }
   ],
   "source": [
    "sns.pairplot(dq[['Quantidade_Retweets','Quantidade_Likes','Quantidade_Publicacoes']])"
   ]
  },
  {
   "cell_type": "code",
   "execution_count": 94,
   "id": "12abf55a",
   "metadata": {},
   "outputs": [
    {
     "data": {
      "text/html": [
       "<div>\n",
       "<style scoped>\n",
       "    .dataframe tbody tr th:only-of-type {\n",
       "        vertical-align: middle;\n",
       "    }\n",
       "\n",
       "    .dataframe tbody tr th {\n",
       "        vertical-align: top;\n",
       "    }\n",
       "\n",
       "    .dataframe thead th {\n",
       "        text-align: right;\n",
       "    }\n",
       "</style>\n",
       "<table border=\"1\" class=\"dataframe\">\n",
       "  <thead>\n",
       "    <tr style=\"text-align: right;\">\n",
       "      <th></th>\n",
       "      <th>Quantidade_Retweets</th>\n",
       "      <th>Quantidade_Likes</th>\n",
       "      <th>Quantidade_Publicacoes</th>\n",
       "      <th>MACRO</th>\n",
       "    </tr>\n",
       "  </thead>\n",
       "  <tbody>\n",
       "    <tr>\n",
       "      <th>0</th>\n",
       "      <td>314654</td>\n",
       "      <td>2564686</td>\n",
       "      <td>486</td>\n",
       "      <td>NT</td>\n",
       "    </tr>\n",
       "    <tr>\n",
       "      <th>1</th>\n",
       "      <td>6030</td>\n",
       "      <td>39698</td>\n",
       "      <td>20</td>\n",
       "      <td>SP</td>\n",
       "    </tr>\n",
       "    <tr>\n",
       "      <th>2</th>\n",
       "      <td>17715</td>\n",
       "      <td>116982</td>\n",
       "      <td>43</td>\n",
       "      <td>NF</td>\n",
       "    </tr>\n",
       "    <tr>\n",
       "      <th>4</th>\n",
       "      <td>95670</td>\n",
       "      <td>675162</td>\n",
       "      <td>106</td>\n",
       "      <td>NF</td>\n",
       "    </tr>\n",
       "    <tr>\n",
       "      <th>8</th>\n",
       "      <td>8724</td>\n",
       "      <td>74153</td>\n",
       "      <td>32</td>\n",
       "      <td>NF</td>\n",
       "    </tr>\n",
       "    <tr>\n",
       "      <th>...</th>\n",
       "      <td>...</td>\n",
       "      <td>...</td>\n",
       "      <td>...</td>\n",
       "      <td>...</td>\n",
       "    </tr>\n",
       "    <tr>\n",
       "      <th>2547</th>\n",
       "      <td>4584</td>\n",
       "      <td>2258</td>\n",
       "      <td>5</td>\n",
       "      <td>NF</td>\n",
       "    </tr>\n",
       "    <tr>\n",
       "      <th>2573</th>\n",
       "      <td>12735</td>\n",
       "      <td>8320</td>\n",
       "      <td>2</td>\n",
       "      <td>NF</td>\n",
       "    </tr>\n",
       "    <tr>\n",
       "      <th>2681</th>\n",
       "      <td>1158</td>\n",
       "      <td>9211</td>\n",
       "      <td>5</td>\n",
       "      <td>NF</td>\n",
       "    </tr>\n",
       "    <tr>\n",
       "      <th>2894</th>\n",
       "      <td>3689</td>\n",
       "      <td>24798</td>\n",
       "      <td>11</td>\n",
       "      <td>NF</td>\n",
       "    </tr>\n",
       "    <tr>\n",
       "      <th>3782</th>\n",
       "      <td>822</td>\n",
       "      <td>5779</td>\n",
       "      <td>4</td>\n",
       "      <td>NF</td>\n",
       "    </tr>\n",
       "  </tbody>\n",
       "</table>\n",
       "<p>478 rows × 4 columns</p>\n",
       "</div>"
      ],
      "text/plain": [
       "      Quantidade_Retweets  Quantidade_Likes  Quantidade_Publicacoes MACRO\n",
       "0                  314654           2564686                     486    NT\n",
       "1                    6030             39698                      20    SP\n",
       "2                   17715            116982                      43    NF\n",
       "4                   95670            675162                     106    NF\n",
       "8                    8724             74153                      32    NF\n",
       "...                   ...               ...                     ...   ...\n",
       "2547                 4584              2258                       5    NF\n",
       "2573                12735              8320                       2    NF\n",
       "2681                 1158              9211                       5    NF\n",
       "2894                 3689             24798                      11    NF\n",
       "3782                  822              5779                       4    NF\n",
       "\n",
       "[478 rows x 4 columns]"
      ]
     },
     "execution_count": 94,
     "metadata": {},
     "output_type": "execute_result"
    }
   ],
   "source": [
    "dq[['Quantidade_Retweets','Quantidade_Likes','Quantidade_Publicacoes','MACRO']].dropna()"
   ]
  },
  {
   "cell_type": "code",
   "execution_count": 82,
   "id": "56c6299a",
   "metadata": {},
   "outputs": [
    {
     "data": {
      "text/plain": [
       "<seaborn.axisgrid.PairGrid at 0x1c728018f10>"
      ]
     },
     "execution_count": 82,
     "metadata": {},
     "output_type": "execute_result"
    },
    {
     "data": {
      "image/png": "[encoded data removed]",
      "text/plain": [
       "<Figure size 589.5x540 with 12 Axes>"
      ]
     },
     "metadata": {
      "needs_background": "light"
     },
     "output_type": "display_data"
    }
   ],
   "source": [
    "sns.pairplot(dq[['Quantidade_Retweets','Quantidade_Likes','Quantidade_Publicacoes','MACRO']].dropna(),hue='MACRO')"
   ]
  },
  {
   "cell_type": "code",
   "execution_count": 66,
   "id": "bb71af88",
   "metadata": {},
   "outputs": [
    {
     "data": {
      "text/plain": [
       "<matplotlib.collections.PathCollection at 0x7f3f99ccca60>"
      ]
     },
     "execution_count": 66,
     "metadata": {},
     "output_type": "execute_result"
    },
    {
     "data": {
      "image/png": "[encoded data removed]",
      "text/plain": [
       "<Figure size 432x288 with 1 Axes>"
      ]
     },
     "metadata": {
      "needs_background": "light"
     },
     "output_type": "display_data"
    }
   ],
   "source": [
    "plt.scatter(dq[dq.MACRO=='NT'].Quantidade_Retweets,dq[dq.MACRO=='NT'].Quantidade_Likes,c='blue')"
   ]
  },
  {
   "cell_type": "code",
   "execution_count": 82,
   "id": "2471d290",
   "metadata": {},
   "outputs": [
    {
     "data": {
      "text/plain": [
       "<matplotlib.collections.PathCollection at 0x7f3f91ceb250>"
      ]
     },
     "execution_count": 82,
     "metadata": {},
     "output_type": "execute_result"
    },
    {
     "data": {
      "image/png": "[encoded data removed]",
      "text/plain": [
       "<Figure size 432x288 with 1 Axes>"
      ]
     },
     "metadata": {
      "needs_background": "light"
     },
     "output_type": "display_data"
    }
   ],
   "source": [
    "plt.xscale('log')\n",
    "plt.yscale('log')\n",
    "plt.scatter(dq.Quantidade_Retweets,dq.Quantidade_Likes,c='green',alpha=0.2)"
   ]
  },
  {
   "cell_type": "code",
   "execution_count": 67,
   "id": "5387f5da",
   "metadata": {},
   "outputs": [
    {
     "data": {
      "text/plain": [
       "<matplotlib.collections.PathCollection at 0x7f3f99cb1eb0>"
      ]
     },
     "execution_count": 67,
     "metadata": {},
     "output_type": "execute_result"
    },
    {
     "data": {
      "image/png": "[encoded data removed]",
      "text/plain": [
       "<Figure size 432x288 with 1 Axes>"
      ]
     },
     "metadata": {
      "needs_background": "light"
     },
     "output_type": "display_data"
    }
   ],
   "source": [
    "plt.xscale('log')\n",
    "plt.yscale('log')\n",
    "plt.scatter(dq[dq.MACRO=='NF'].Quantidade_Retweets,dq[dq.MACRO=='NF'].Quantidade_Likes,c='green')"
   ]
  },
  {
   "cell_type": "code",
   "execution_count": 68,
   "id": "102436a2",
   "metadata": {},
   "outputs": [
    {
     "data": {
      "text/plain": [
       "<seaborn.axisgrid.PairGrid at 0x7f3f99c5c6d0>"
      ]
     },
     "execution_count": 68,
     "metadata": {},
     "output_type": "execute_result"
    },
    {
     "data": {
      "image/png": "[encoded data removed]",
      "text/plain": [
       "<Figure size 618.375x540 with 12 Axes>"
      ]
     },
     "metadata": {
      "needs_background": "light"
     },
     "output_type": "display_data"
    }
   ],
   "source": [
    "sns.pairplot(dq[dq.MACRO=='NF'][['Quantidade_Retweets','Quantidade_Likes','Quantidade_Publicacoes','Personalidade']],hue='Personalidade')"
   ]
  },
  {
   "cell_type": "code",
   "execution_count": 69,
   "id": "f1fbb3d2",
   "metadata": {},
   "outputs": [
    {
     "data": {
      "text/plain": [
       "<matplotlib.collections.PathCollection at 0x7f3f995ed130>"
      ]
     },
     "execution_count": 69,
     "metadata": {},
     "output_type": "execute_result"
    },
    {
     "data": {
      "image/png": "[encoded data removed]",
      "text/plain": [
       "<Figure size 432x288 with 1 Axes>"
      ]
     },
     "metadata": {
      "needs_background": "light"
     },
     "output_type": "display_data"
    }
   ],
   "source": [
    "plt.xscale('log')\n",
    "plt.yscale('log')\n",
    "plt.scatter(dq[(dq.MACRO=='NF')&(dq.Personalidade=='INFP')].Quantidade_Retweets,dq[(dq.MACRO=='NF')&(dq.Personalidade=='INFP')].Quantidade_Likes,c='green')\n"
   ]
  },
  {
   "cell_type": "code",
   "execution_count": 96,
   "id": "20c1de54",
   "metadata": {},
   "outputs": [
    {
     "data": {
      "text/plain": [
       "<AxesSubplot:xlabel='Quantidade_Retweets', ylabel='Quantidade_Likes'>"
      ]
     },
     "execution_count": 96,
     "metadata": {},
     "output_type": "execute_result"
    },
    {
     "data": {
      "image/png": "[encoded data removed]",
      "text/plain": [
       "<Figure size 720x504 with 1 Axes>"
      ]
     },
     "metadata": {
      "needs_background": "light"
     },
     "output_type": "display_data"
    }
   ],
   "source": [
    "plt.figure(figsize=(10,7))\n",
    "plt.xscale('log')\n",
    "plt.yscale('log')\n",
    "sns.scatterplot(data=dq, x=\"Quantidade_Retweets\", y=\"Quantidade_Likes\", hue=\"MACRO\")"
   ]
  },
  {
   "cell_type": "code",
   "execution_count": 83,
   "id": "f37a8b58",
   "metadata": {},
   "outputs": [],
   "source": [
    "dq['LR']=dq['Quantidade_Likes']/dq['Quantidade_Retweets']"
   ]
  },
  {
   "cell_type": "code",
   "execution_count": 84,
   "id": "feba163d",
   "metadata": {},
   "outputs": [
    {
     "data": {
      "text/plain": [
       "(array([1.33810450e-01, 7.75109422e-02, 2.51101091e-02, 7.26871580e-03,\n",
       "        2.11453551e-03, 1.65198086e-03, 1.18942622e-03, 3.30396173e-04,\n",
       "        3.30396173e-04, 3.30396173e-04, 0.00000000e+00, 0.00000000e+00,\n",
       "        6.60792346e-05, 6.60792346e-05, 0.00000000e+00, 0.00000000e+00,\n",
       "        6.60792346e-05, 0.00000000e+00, 0.00000000e+00, 1.32158469e-04]),\n",
       " array([5.40540541e-02, 4.05441017e+00, 8.05476630e+00, 1.20551224e+01,\n",
       "        1.60554785e+01, 2.00558347e+01, 2.40561908e+01, 2.80565469e+01,\n",
       "        3.20569030e+01, 3.60572591e+01, 4.00576153e+01, 4.40579714e+01,\n",
       "        4.80583275e+01, 5.20586836e+01, 5.60590397e+01, 6.00593959e+01,\n",
       "        6.40597520e+01, 6.80601081e+01, 7.20604642e+01, 7.60608203e+01,\n",
       "        8.00611765e+01]),\n",
       " <BarContainer object of 20 artists>)"
      ]
     },
     "execution_count": 84,
     "metadata": {},
     "output_type": "execute_result"
    },
    {
     "data": {
      "image/png": "[encoded data removed]",
      "text/plain": [
       "<Figure size 432x288 with 1 Axes>"
      ]
     },
     "metadata": {
      "needs_background": "light"
     },
     "output_type": "display_data"
    }
   ],
   "source": [
    "# plt.xscale('log')\n",
    "# plt.yscale('log')\n",
    "plt.hist(dq.LR,density=True,bins=20)"
   ]
  },
  {
   "cell_type": "code",
   "execution_count": 85,
   "id": "79e0a268",
   "metadata": {},
   "outputs": [],
   "source": [
    "from sklearn.cluster import DBSCAN\n"
   ]
  },
  {
   "cell_type": "code",
   "execution_count": 86,
   "id": "a647708e",
   "metadata": {},
   "outputs": [
    {
     "data": {
      "text/plain": [
       "5"
      ]
     },
     "execution_count": 86,
     "metadata": {},
     "output_type": "execute_result"
    }
   ],
   "source": [
    "X=dq[['LR']].values.copy()\n",
    "\n",
    "db = DBSCAN(eps=2, min_samples=1).fit(X)\n",
    "labels=db.labels_\n",
    "n_clusters_ = len(set(labels)) - (1 if -1 in labels else 0)\n",
    "n_clusters_"
   ]
  },
  {
   "cell_type": "code",
   "execution_count": 87,
   "id": "174d4476",
   "metadata": {},
   "outputs": [
    {
     "data": {
      "text/plain": [
       "(array([3.773e+03, 0.000e+00, 0.000e+00, 0.000e+00, 0.000e+00, 2.000e+00,\n",
       "        0.000e+00, 0.000e+00, 0.000e+00, 0.000e+00, 5.000e+00, 0.000e+00,\n",
       "        0.000e+00, 0.000e+00, 0.000e+00, 2.000e+00, 0.000e+00, 0.000e+00,\n",
       "        0.000e+00, 1.000e+00]),\n",
       " array([0. , 0.2, 0.4, 0.6, 0.8, 1. , 1.2, 1.4, 1.6, 1.8, 2. , 2.2, 2.4,\n",
       "        2.6, 2.8, 3. , 3.2, 3.4, 3.6, 3.8, 4. ]),\n",
       " <BarContainer object of 20 artists>)"
      ]
     },
     "execution_count": 87,
     "metadata": {},
     "output_type": "execute_result"
    },
    {
     "data": {
      "image/png": "[encoded data removed]",
      "text/plain": [
       "<Figure size 432x288 with 1 Axes>"
      ]
     },
     "metadata": {
      "needs_background": "light"
     },
     "output_type": "display_data"
    }
   ],
   "source": [
    "plt.hist(labels,bins=20)"
   ]
  },
  {
   "cell_type": "code",
   "execution_count": null,
   "id": "bea7ce11",
   "metadata": {},
   "outputs": [],
   "source": []
  },
  {
   "cell_type": "code",
   "execution_count": null,
   "id": "3781da3f",
   "metadata": {},
   "outputs": [],
   "source": []
  },
  {
   "cell_type": "code",
   "execution_count": 88,
   "id": "5f0436f8",
   "metadata": {},
   "outputs": [
    {
     "data": {
      "text/plain": [
       "<AxesSubplot:xlabel='Quantidade_Retweets', ylabel='Quantidade_Likes'>"
      ]
     },
     "execution_count": 88,
     "metadata": {},
     "output_type": "execute_result"
    },
    {
     "data": {
      "image/png": "[encoded data removed]",
      "text/plain": [
       "<Figure size 720x504 with 1 Axes>"
      ]
     },
     "metadata": {
      "needs_background": "light"
     },
     "output_type": "display_data"
    }
   ],
   "source": [
    "plt.figure(figsize=(10,7))\n",
    "# plt.xscale('log')\n",
    "# plt.yscale('log')\n",
    "sns.scatterplot(data=dq[(dq.MACRO=='NF')], x=\"Quantidade_Retweets\", y=\"Quantidade_Likes\", hue=\"Personalidade\")"
   ]
  },
  {
   "cell_type": "code",
   "execution_count": 89,
   "id": "0b1442b7",
   "metadata": {},
   "outputs": [
    {
     "data": {
      "text/plain": [
       "<matplotlib.collections.PathCollection at 0x7f3f91fd2040>"
      ]
     },
     "execution_count": 89,
     "metadata": {},
     "output_type": "execute_result"
    },
    {
     "data": {
      "image/png": "[encoded data removed]",
      "text/plain": [
       "<Figure size 432x288 with 1 Axes>"
      ]
     },
     "metadata": {
      "needs_background": "light"
     },
     "output_type": "display_data"
    }
   ],
   "source": [
    "plt.xscale('log')\n",
    "plt.yscale('log')\n",
    "plt.scatter(dq[(dq.MACRO=='NF')&(dq.Personalidade=='INFJ')].Quantidade_Retweets,dq[(dq.MACRO=='NF')&(dq.Personalidade=='INFJ')].Quantidade_Likes,c='green')\n"
   ]
  },
  {
   "cell_type": "code",
   "execution_count": 90,
   "id": "ab4da72a",
   "metadata": {},
   "outputs": [
    {
     "data": {
      "text/plain": [
       "<matplotlib.collections.PathCollection at 0x7f3f91b95e20>"
      ]
     },
     "execution_count": 90,
     "metadata": {},
     "output_type": "execute_result"
    },
    {
     "data": {
      "image/png": "[encoded data removed]",
      "text/plain": [
       "<Figure size 432x288 with 1 Axes>"
      ]
     },
     "metadata": {
      "needs_background": "light"
     },
     "output_type": "display_data"
    }
   ],
   "source": [
    "plt.xscale('log')\n",
    "plt.yscale('log')\n",
    "plt.scatter(dq[(dq.MACRO=='NF')&(dq.Personalidade=='INFJ')].Quantidade_Retweets,dq[(dq.MACRO=='NF')&(dq.Personalidade=='INFJ')].Quantidade_Likes,c='green')\n",
    "\n",
    "#plt.scatter(dq[(dq.MACRO=='NF')&(dq.Personalidade=='ENFP')].Quantidade_Retweets,dq[(dq.MACRO=='NF')&(dq.Personalidade=='ENFP')].Quantidade_Likes)\n",
    "\n"
   ]
  },
  {
   "cell_type": "code",
   "execution_count": 91,
   "id": "1c56b0dc",
   "metadata": {},
   "outputs": [
    {
     "data": {
      "text/plain": [
       "<matplotlib.collections.PathCollection at 0x7f3f919f69a0>"
      ]
     },
     "execution_count": 91,
     "metadata": {},
     "output_type": "execute_result"
    },
    {
     "data": {
      "image/png": "[encoded data removed]",
      "text/plain": [
       "<Figure size 432x288 with 1 Axes>"
      ]
     },
     "metadata": {
      "needs_background": "light"
     },
     "output_type": "display_data"
    }
   ],
   "source": [
    "plt.xscale('log')\n",
    "plt.yscale('log')\n",
    "plt.scatter(dq[(dq.MACRO=='NF')&(dq.Personalidade=='ENFP')].Quantidade_Retweets,dq[(dq.MACRO=='NF')&(dq.Personalidade=='ENFP')].Quantidade_Likes)\n"
   ]
  },
  {
   "cell_type": "code",
   "execution_count": 92,
   "id": "687b10c4",
   "metadata": {},
   "outputs": [
    {
     "data": {
      "text/plain": [
       "<matplotlib.collections.PathCollection at 0x7f3f9186edf0>"
      ]
     },
     "execution_count": 92,
     "metadata": {},
     "output_type": "execute_result"
    },
    {
     "data": {
      "image/png": "[encoded data removed]",
      "text/plain": [
       "<Figure size 432x288 with 1 Axes>"
      ]
     },
     "metadata": {
      "needs_background": "light"
     },
     "output_type": "display_data"
    }
   ],
   "source": [
    "plt.xscale('log')\n",
    "plt.yscale('log')\n",
    "plt.scatter(dq[(dq.MACRO=='NF')&(dq.Personalidade=='ENFP')].Quantidade_Retweets,dq[(dq.MACRO=='NF')&(dq.Personalidade=='ENFP')].Quantidade_Likes)\n"
   ]
  },
  {
   "cell_type": "code",
   "execution_count": 93,
   "id": "8bfae3c9",
   "metadata": {},
   "outputs": [],
   "source": [
    "from sklearn.cluster import DBSCAN"
   ]
  },
  {
   "cell_type": "code",
   "execution_count": 99,
   "id": "7483f592",
   "metadata": {},
   "outputs": [
    {
     "data": {
      "text/plain": [
       "array([[12.6592289 , 14.75734661],\n",
       "       [ 8.70450229, 10.58905609],\n",
       "       [ 9.78216702, 11.66977536],\n",
       "       ...,\n",
       "       [ 6.98656646,  7.14519613],\n",
       "       [ 5.06259503,  6.74051936],\n",
       "       [ 6.7117404 ,  8.66198594]])"
      ]
     },
     "execution_count": 99,
     "metadata": {},
     "output_type": "execute_result"
    }
   ],
   "source": [
    "np.log(dq[['Quantidade_Retweets','Quantidade_Likes']].values)"
   ]
  },
  {
   "cell_type": "code",
   "execution_count": 100,
   "id": "93424405",
   "metadata": {},
   "outputs": [],
   "source": [
    "X=np.log(dq[['Quantidade_Retweets','Quantidade_Likes']].values).copy()"
   ]
  },
  {
   "cell_type": "code",
   "execution_count": null,
   "id": "bd505923",
   "metadata": {},
   "outputs": [],
   "source": []
  },
  {
   "cell_type": "code",
   "execution_count": 119,
   "id": "3b9435ab",
   "metadata": {},
   "outputs": [],
   "source": [
    "db = DBSCAN(eps=0.30, min_samples=10).fit(X)\n",
    "core_samples_mask = np.zeros_like(db.labels_, dtype=bool)\n",
    "core_samples_mask[db.core_sample_indices_] = True\n",
    "labels = db.labels_\n",
    "\n",
    "# Number of clusters in labels, ignoring noise if present.\n",
    "n_clusters_ = len(set(labels)) - (1 if -1 in labels else 0)\n",
    "n_noise_ = list(labels).count(-1)"
   ]
  },
  {
   "cell_type": "code",
   "execution_count": 120,
   "id": "577c9e63",
   "metadata": {},
   "outputs": [
    {
     "data": {
      "text/plain": [
       "3"
      ]
     },
     "execution_count": 120,
     "metadata": {},
     "output_type": "execute_result"
    }
   ],
   "source": [
    "n_clusters_"
   ]
  },
  {
   "cell_type": "code",
   "execution_count": 121,
   "id": "99137fd9",
   "metadata": {},
   "outputs": [
    {
     "data": {
      "text/plain": [
       " 0    3615\n",
       "-1     123\n",
       " 1      35\n",
       " 2      10\n",
       "Name: 0, dtype: int64"
      ]
     },
     "execution_count": 121,
     "metadata": {},
     "output_type": "execute_result"
    }
   ],
   "source": [
    "pd.DataFrame(labels)[0].value_counts()"
   ]
  },
  {
   "cell_type": "code",
   "execution_count": 125,
   "id": "cf530f1f",
   "metadata": {},
   "outputs": [
    {
     "data": {
      "text/plain": [
       "0    3627\n",
       "2     125\n",
       "1      31\n",
       "Name: 0, dtype: int64"
      ]
     },
     "execution_count": 125,
     "metadata": {},
     "output_type": "execute_result"
    }
   ],
   "source": [
    "from sklearn.cluster import SpectralClustering\n",
    "\n",
    "clustering = SpectralClustering(n_clusters=3,assign_labels='discretize',random_state=42).fit(X)\n",
    "clustering.labels_\n",
    "\n",
    "pd.DataFrame(clustering.labels_)[0].value_counts()"
   ]
  },
  {
   "cell_type": "code",
   "execution_count": 130,
   "id": "98fc4b9a",
   "metadata": {},
   "outputs": [
    {
     "data": {
      "text/html": [
       "<div>\n",
       "<style scoped>\n",
       "    .dataframe tbody tr th:only-of-type {\n",
       "        vertical-align: middle;\n",
       "    }\n",
       "\n",
       "    .dataframe tbody tr th {\n",
       "        vertical-align: top;\n",
       "    }\n",
       "\n",
       "    .dataframe thead th {\n",
       "        text-align: right;\n",
       "    }\n",
       "</style>\n",
       "<table border=\"1\" class=\"dataframe\">\n",
       "  <thead>\n",
       "    <tr style=\"text-align: right;\">\n",
       "      <th></th>\n",
       "      <th>Usuario</th>\n",
       "      <th>Quantidade_Retweets</th>\n",
       "      <th>Quantidade_Likes</th>\n",
       "      <th>Quantidade_Publicacoes</th>\n",
       "      <th>Maior_N_Retweets</th>\n",
       "      <th>Maior_N_Likes</th>\n",
       "      <th>Seguidores</th>\n",
       "      <th>Amigos</th>\n",
       "      <th>Verificado</th>\n",
       "      <th>RN</th>\n",
       "      <th>LN</th>\n",
       "      <th>MACRO</th>\n",
       "      <th>Personalidade</th>\n",
       "      <th>LR</th>\n",
       "    </tr>\n",
       "  </thead>\n",
       "  <tbody>\n",
       "    <tr>\n",
       "      <th>0</th>\n",
       "      <td>@APompliano</td>\n",
       "      <td>314654</td>\n",
       "      <td>2564686</td>\n",
       "      <td>486</td>\n",
       "      <td>338</td>\n",
       "      <td>466</td>\n",
       "      <td>6681</td>\n",
       "      <td>6681</td>\n",
       "      <td>True</td>\n",
       "      <td>647.436214</td>\n",
       "      <td>5277.131687</td>\n",
       "      <td>NT</td>\n",
       "      <td>INTJ</td>\n",
       "      <td>8.150813</td>\n",
       "    </tr>\n",
       "    <tr>\n",
       "      <th>1</th>\n",
       "      <td>@CoinCornerDanny</td>\n",
       "      <td>6030</td>\n",
       "      <td>39698</td>\n",
       "      <td>20</td>\n",
       "      <td>330</td>\n",
       "      <td>1434</td>\n",
       "      <td>2573</td>\n",
       "      <td>2573</td>\n",
       "      <td>False</td>\n",
       "      <td>301.500000</td>\n",
       "      <td>1984.900000</td>\n",
       "      <td>SP</td>\n",
       "      <td>ISFP</td>\n",
       "      <td>6.583416</td>\n",
       "    </tr>\n",
       "    <tr>\n",
       "      <th>2</th>\n",
       "      <td>@AltcoinDailyio</td>\n",
       "      <td>17715</td>\n",
       "      <td>116982</td>\n",
       "      <td>43</td>\n",
       "      <td>748</td>\n",
       "      <td>2808</td>\n",
       "      <td>535</td>\n",
       "      <td>535</td>\n",
       "      <td>False</td>\n",
       "      <td>411.976744</td>\n",
       "      <td>2720.511628</td>\n",
       "      <td>NF</td>\n",
       "      <td>ENFP</td>\n",
       "      <td>6.603556</td>\n",
       "    </tr>\n",
       "    <tr>\n",
       "      <th>3</th>\n",
       "      <td>@nanogamesio</td>\n",
       "      <td>276</td>\n",
       "      <td>377</td>\n",
       "      <td>1</td>\n",
       "      <td>276</td>\n",
       "      <td>377</td>\n",
       "      <td>42</td>\n",
       "      <td>42</td>\n",
       "      <td>False</td>\n",
       "      <td>276.000000</td>\n",
       "      <td>377.000000</td>\n",
       "      <td>NaN</td>\n",
       "      <td>NaN</td>\n",
       "      <td>1.365942</td>\n",
       "    </tr>\n",
       "    <tr>\n",
       "      <th>4</th>\n",
       "      <td>@cz_binance</td>\n",
       "      <td>95670</td>\n",
       "      <td>675162</td>\n",
       "      <td>106</td>\n",
       "      <td>530</td>\n",
       "      <td>1954</td>\n",
       "      <td>1718</td>\n",
       "      <td>1718</td>\n",
       "      <td>True</td>\n",
       "      <td>902.547170</td>\n",
       "      <td>6369.452830</td>\n",
       "      <td>NF</td>\n",
       "      <td>INFP</td>\n",
       "      <td>7.057197</td>\n",
       "    </tr>\n",
       "    <tr>\n",
       "      <th>...</th>\n",
       "      <td>...</td>\n",
       "      <td>...</td>\n",
       "      <td>...</td>\n",
       "      <td>...</td>\n",
       "      <td>...</td>\n",
       "      <td>...</td>\n",
       "      <td>...</td>\n",
       "      <td>...</td>\n",
       "      <td>...</td>\n",
       "      <td>...</td>\n",
       "      <td>...</td>\n",
       "      <td>...</td>\n",
       "      <td>...</td>\n",
       "      <td>...</td>\n",
       "    </tr>\n",
       "    <tr>\n",
       "      <th>3778</th>\n",
       "      <td>@MrPlanN</td>\n",
       "      <td>3512</td>\n",
       "      <td>1507</td>\n",
       "      <td>1</td>\n",
       "      <td>3512</td>\n",
       "      <td>1507</td>\n",
       "      <td>733</td>\n",
       "      <td>733</td>\n",
       "      <td>False</td>\n",
       "      <td>3512.000000</td>\n",
       "      <td>1507.000000</td>\n",
       "      <td>NaN</td>\n",
       "      <td>NaN</td>\n",
       "      <td>0.429100</td>\n",
       "    </tr>\n",
       "    <tr>\n",
       "      <th>3779</th>\n",
       "      <td>@bitcoinmemelib</td>\n",
       "      <td>294</td>\n",
       "      <td>2549</td>\n",
       "      <td>1</td>\n",
       "      <td>294</td>\n",
       "      <td>2549</td>\n",
       "      <td>3028</td>\n",
       "      <td>3028</td>\n",
       "      <td>False</td>\n",
       "      <td>294.000000</td>\n",
       "      <td>2549.000000</td>\n",
       "      <td>NaN</td>\n",
       "      <td>NaN</td>\n",
       "      <td>8.670068</td>\n",
       "    </tr>\n",
       "    <tr>\n",
       "      <th>3780</th>\n",
       "      <td>@Alyattes_ALYA</td>\n",
       "      <td>1082</td>\n",
       "      <td>1268</td>\n",
       "      <td>1</td>\n",
       "      <td>1082</td>\n",
       "      <td>1268</td>\n",
       "      <td>28</td>\n",
       "      <td>28</td>\n",
       "      <td>False</td>\n",
       "      <td>1082.000000</td>\n",
       "      <td>1268.000000</td>\n",
       "      <td>NaN</td>\n",
       "      <td>NaN</td>\n",
       "      <td>1.171904</td>\n",
       "    </tr>\n",
       "    <tr>\n",
       "      <th>3781</th>\n",
       "      <td>@dr_orlovsky</td>\n",
       "      <td>158</td>\n",
       "      <td>846</td>\n",
       "      <td>1</td>\n",
       "      <td>158</td>\n",
       "      <td>846</td>\n",
       "      <td>876</td>\n",
       "      <td>876</td>\n",
       "      <td>False</td>\n",
       "      <td>158.000000</td>\n",
       "      <td>846.000000</td>\n",
       "      <td>NaN</td>\n",
       "      <td>NaN</td>\n",
       "      <td>5.354430</td>\n",
       "    </tr>\n",
       "    <tr>\n",
       "      <th>3782</th>\n",
       "      <td>@Wealth_Theory</td>\n",
       "      <td>822</td>\n",
       "      <td>5779</td>\n",
       "      <td>4</td>\n",
       "      <td>271</td>\n",
       "      <td>2181</td>\n",
       "      <td>244</td>\n",
       "      <td>244</td>\n",
       "      <td>False</td>\n",
       "      <td>205.500000</td>\n",
       "      <td>1444.750000</td>\n",
       "      <td>NF</td>\n",
       "      <td>ENFP</td>\n",
       "      <td>7.030414</td>\n",
       "    </tr>\n",
       "  </tbody>\n",
       "</table>\n",
       "<p>3783 rows × 14 columns</p>\n",
       "</div>"
      ],
      "text/plain": [
       "               Usuario  Quantidade_Retweets  Quantidade_Likes  \\\n",
       "0          @APompliano               314654           2564686   \n",
       "1     @CoinCornerDanny                 6030             39698   \n",
       "2      @AltcoinDailyio                17715            116982   \n",
       "3         @nanogamesio                  276               377   \n",
       "4          @cz_binance                95670            675162   \n",
       "...                ...                  ...               ...   \n",
       "3778          @MrPlanN                 3512              1507   \n",
       "3779   @bitcoinmemelib                  294              2549   \n",
       "3780    @Alyattes_ALYA                 1082              1268   \n",
       "3781      @dr_orlovsky                  158               846   \n",
       "3782    @Wealth_Theory                  822              5779   \n",
       "\n",
       "      Quantidade_Publicacoes  Maior_N_Retweets  Maior_N_Likes  Seguidores  \\\n",
       "0                        486               338            466        6681   \n",
       "1                         20               330           1434        2573   \n",
       "2                         43               748           2808         535   \n",
       "3                          1               276            377          42   \n",
       "4                        106               530           1954        1718   \n",
       "...                      ...               ...            ...         ...   \n",
       "3778                       1              3512           1507         733   \n",
       "3779                       1               294           2549        3028   \n",
       "3780                       1              1082           1268          28   \n",
       "3781                       1               158            846         876   \n",
       "3782                       4               271           2181         244   \n",
       "\n",
       "      Amigos  Verificado           RN           LN MACRO Personalidade  \\\n",
       "0       6681        True   647.436214  5277.131687    NT          INTJ   \n",
       "1       2573       False   301.500000  1984.900000    SP          ISFP   \n",
       "2        535       False   411.976744  2720.511628    NF          ENFP   \n",
       "3         42       False   276.000000   377.000000   NaN           NaN   \n",
       "4       1718        True   902.547170  6369.452830    NF          INFP   \n",
       "...      ...         ...          ...          ...   ...           ...   \n",
       "3778     733       False  3512.000000  1507.000000   NaN           NaN   \n",
       "3779    3028       False   294.000000  2549.000000   NaN           NaN   \n",
       "3780      28       False  1082.000000  1268.000000   NaN           NaN   \n",
       "3781     876       False   158.000000   846.000000   NaN           NaN   \n",
       "3782     244       False   205.500000  1444.750000    NF          ENFP   \n",
       "\n",
       "            LR  \n",
       "0     8.150813  \n",
       "1     6.583416  \n",
       "2     6.603556  \n",
       "3     1.365942  \n",
       "4     7.057197  \n",
       "...        ...  \n",
       "3778  0.429100  \n",
       "3779  8.670068  \n",
       "3780  1.171904  \n",
       "3781  5.354430  \n",
       "3782  7.030414  \n",
       "\n",
       "[3783 rows x 14 columns]"
      ]
     },
     "execution_count": 130,
     "metadata": {},
     "output_type": "execute_result"
    }
   ],
   "source": [
    "dq"
   ]
  },
  {
   "cell_type": "code",
   "execution_count": 28,
   "id": "08ca65e8",
   "metadata": {},
   "outputs": [],
   "source": [
    "dx=np.log(dq[['Quantidade_Retweets','Quantidade_Likes','Quantidade_Publicacoes']]).copy()\n",
    "dx['MACRO']=dq['MACRO'].copy()\n",
    "\n",
    "dx.to_csv('Arvore_Decisao.csv',index=False)"
   ]
  },
  {
   "cell_type": "code",
   "execution_count": 83,
   "id": "26a763f9",
   "metadata": {},
   "outputs": [],
   "source": [
    "dx= dq.copy()\n",
    "\n",
    "dx.to_csv('Dados_Features.csv',index=False)"
   ]
  }
 ],
 "metadata": {
  "hide_input": false,
  "interpreter": {
   "hash": "369f2c481f4da34e4445cda3fffd2e751bd1c4d706f27375911949ba6bb62e1c"
  },
  "kernelspec": {
   "display_name": "Python 3.10.0 64-bit",
   "language": "python",
   "name": "python3"
  },
  "language_info": {
   "codemirror_mode": {
    "name": "ipython",
    "version": 3
   },
   "file_extension": ".py",
   "mimetype": "text/x-python",
   "name": "python",
   "nbconvert_exporter": "python",
   "pygments_lexer": "ipython3",
   "version": "3.10.0"
  },
  "toc": {
   "base_numbering": 1,
   "nav_menu": {},
   "number_sections": true,
   "sideBar": true,
   "skip_h1_title": false,
   "title_cell": "Table of Contents",
   "title_sidebar": "Contents",
   "toc_cell": false,
   "toc_position": {},
   "toc_section_display": true,
   "toc_window_display": false
  }
 },
 "nbformat": 4,
 "nbformat_minor": 5
}
